{
 "cells": [
  {
   "cell_type": "markdown",
   "id": "c1da05ea-e5ab-4860-ba33-332c166bcc5c",
   "metadata": {
    "tags": []
   },
   "source": [
    "# Comparison of coppertop with regular Python\n",
    "\n",
    "The following code snippets solve the M&M problem from Chapter 1 in Allen B. Downey's book _Think Bayes_ - a copy of which can be found [here](https://github.com/coppertop-bones/coppertop-libs/blob/main/jupyter/think%20bayes/thinkbayes.pdf). \n",
    "\n",
    "See [coppertop-bones/README.md](https://github.com/coppertop-bones/coppertop) for a brief introduction to coppertop piping syntax."
   ]
  },
  {
   "cell_type": "markdown",
   "id": "7e8787a6-0d82-4d8a-9820-8414026e2e01",
   "metadata": {},
   "source": [
    "<br>\n",
    "\n",
    "## Introduction\n",
    "\n",
    "\n",
    "\n",
    "### The M&M Problem\n",
    "\n",
    "M&M’s are small candy-coated chocolates that come in a variety of colors.\n",
    "Mars, Inc., which makes M&M’s, changes the mixture of colors from time\n",
    "to time.\n",
    "\n",
    "In 1995, they introduced blue M&M’s. Before then, the color mix in a bag\n",
    "of plain M&M’s was 30% Brown, 20% Yellow, 20% Red, 10% Green, 10%\n",
    "Orange, 10% Tan. Afterward it was 24% Blue , 20% Green, 16% Orange,\n",
    "14% Yellow, 13% Red, 13% Brown.\n",
    "\n",
    "Suppose a friend of mine has two bags of M&M’s, and he tells me that one\n",
    "is from 1994 and one from 1996. He won’t tell me which is which, but he\n",
    "gives me one M&M from each bag. One is yellow and one is green. What is\n",
    "the probability that the yellow one came from the 1994 bag?\n",
    "\n",
    "<br>\n",
    "\n",
    "### A Bayes Refresher\n",
    "\n",
    "See _[\"An Essay towards solving a Problem in the Doctrine of Chances\"](https://github.com/coppertop-bones/coppertop-libs/blob/main/jupyter/think%20bayes/article.pdf)_.\n",
    "\n",
    "from PROP 3\n",
    "\n",
    "$$\n",
    "\\begin{align}\n",
    "\\mathbf{P}\\left(B \\cap A\\right) = \\mathbf{P}\\left(B\\mathbin{\\vert}A\\right)\\cdot \\mathbf{P}\\left(A\\right)\\\\\n",
    "\\end{align}\n",
    "$$\n",
    "\n",
    "and\n",
    "$$\\mathbf{P}(A \\cap B) = \\mathbf{P}(B \\cap A)$$\n",
    "\n",
    "we have\n",
    "$$\n",
    "\\begin{align}\n",
    "\\mathbf{P}( A\\mathbin{\\vert}B) \\cdot \\mathbf{P}(B)=\\mathbf{P}(B\\mathbin{\\vert}A)\\cdot \\mathbf{P}(A)\n",
    "\\end{align}\n",
    "$$\n",
    "\n",
    "aka\n",
    "$$\n",
    "\\begin{align}\n",
    "\\mathbf{P}( hypothesis\\mathbin{\\vert}data) \\cdot \\mathbf{P}(data)=\\mathbf{P}(data\\mathbin{\\vert}hypothesis)\\cdot \\mathbf{P}(hypothesis)\n",
    "\\end{align}\n",
    "$$\n",
    "\n",
    "<br>\n",
    "\n",
    "Equivalently (after new data is known) we have the comtemporaneous form, i.e. \n",
    "\n",
    "$$\n",
    "\\begin{align}\n",
    "posterior =prior\\cdot likelihood \\cdot constant\n",
    "\\end{align}\n",
    "$$\n",
    "\n",
    "<br>\n",
    "\n",
    "## Regular Python version\n",
    "\n",
    "We need the ability to multiple two discrete functions together, a PMF and a likelihood, and normalise the result into a PMF.\n",
    "\n",
    "<br>\n",
    "\n",
    "our _Think Bayes_ style library functions:"
   ]
  },
  {
   "cell_type": "code",
   "execution_count": 1,
   "id": "30bebcda-fd88-4b05-9b1f-34b905c862af",
   "metadata": {
    "ExecuteTime": {
     "end_time": "2024-03-08T20:54:36.225829Z",
     "start_time": "2024-03-08T20:54:36.219990Z"
    },
    "tags": []
   },
   "outputs": [],
   "source": [
    "def pmfMul(A, B):\n",
    "    res = {}\n",
    "    for k in A.keys():\n",
    "        res[k] = A[k] * B[k]\n",
    "    return res\n",
    "\n",
    "def normalise(x):\n",
    "    t = 0\n",
    "    for p in x.values():\n",
    "        t += p\n",
    "    t = 1 / t\n",
    "    for k in x.keys():\n",
    "        x[k] *= t\n",
    "    return x"
   ]
  },
  {
   "cell_type": "markdown",
   "id": "630f1546-69fd-452c-b2b5-d869c16ea376",
   "metadata": {},
   "source": [
    "<br>\n",
    "\n",
    "our problem solving script:"
   ]
  },
  {
   "cell_type": "code",
   "execution_count": 2,
   "id": "912edabe-ad7e-4dc6-a4db-361336e12087",
   "metadata": {
    "ExecuteTime": {
     "end_time": "2024-03-08T20:54:38.423086Z",
     "start_time": "2024-03-08T20:54:38.414763Z"
    },
    "tags": []
   },
   "outputs": [
    {
     "name": "stdout",
     "output_type": "stream",
     "text": [
      "{'Brown': 30, 'Yellow': 20, 'Red': 20, 'Green': 10, 'Orange': 10, 'Tan': 10}\n",
      "{'Brown': 13, 'Yellow': 14, 'Red': 13, 'Green': 20, 'Orange': 16, 'Blue': 24}\n",
      "{'hypA': 0.5, 'hypB': 0.5}\n",
      "{'hypA': 400, 'hypB': 140}\n",
      "{'hypA': 0.7407407407407408, 'hypB': 0.25925925925925924}\n"
     ]
    }
   ],
   "source": [
    "bag1994 = dict(Brown=30, Yellow=20, Red=20, Green=10, Orange=10, Tan=10)\n",
    "bag1996 = dict(Brown=13, Yellow=14, Red=13, Green=20, Orange=16, Blue=24)\n",
    "\n",
    "for e in [bag1994, bag1996]:\n",
    "    print(e)\n",
    "    \n",
    "prior = normalise(dict(hypA=0.5, hypB=0.5))\n",
    "\n",
    "likelihood = dict(\n",
    "    hypA=bag1994['Yellow'] * bag1996['Green'],   # hypA -> yellow is from 1994, green is from 1996\n",
    "    hypB=bag1994['Green'] * bag1996['Yellow']    # hypB -> green is from 1994, yellow is from 1996\n",
    ")\n",
    "\n",
    "posterior = normalise(pmfMul(prior, likelihood))\n",
    "\n",
    "print(prior)\n",
    "print(likelihood)\n",
    "print(posterior)"
   ]
  },
  {
   "cell_type": "markdown",
   "id": "55f88c75-c80b-4f1f-b62d-8f371d838c93",
   "metadata": {},
   "source": [
    "<br>\n",
    "\n",
    "### Regular Python version - running several priors with clearer output\n",
    "\n",
    "<br>\n",
    "\n",
    "adding some library functions:"
   ]
  },
  {
   "cell_type": "code",
   "execution_count": 3,
   "id": "53baedb3-42bc-46e4-b39e-180280e68580",
   "metadata": {
    "tags": []
   },
   "outputs": [],
   "source": [
    "def formatDF(s, name, valuesFormat, sep):\n",
    "    def formatKv(kv):\n",
    "        k, v = kv\n",
    "        return f'{k}: {format(v, valuesFormat)}'\n",
    "    kvStrings = [formatKv(kv) for kv in s.items()]\n",
    "    return f'{name}({sep.join(kvStrings)})'\n",
    "\n",
    "def ppMMs(bag):\n",
    "    kvs = [f'{k}={v}' for k, v in bag.items()]\n",
    "    print(f'MMs({\", \".join(kvs)})')\n",
    "    return bag\n",
    "\n",
    "def ppPMF(pmf):\n",
    "    print(formatDF(pmf, 'PMF: ', '.3f', ', '))\n",
    "    return pmf\n",
    "\n",
    "def ppL(l):\n",
    "    print(formatDF(l, 'L:   ', '.1f', ', '))\n",
    "    return l"
   ]
  },
  {
   "cell_type": "markdown",
   "id": "c27ef5fb-bbd3-49ec-b20d-b1d641e9bf32",
   "metadata": {
    "tags": []
   },
   "source": [
    "<br>\n",
    "\n",
    "our problem solving script becomes:"
   ]
  },
  {
   "cell_type": "code",
   "execution_count": 4,
   "id": "c4f1d36c-e82c-4a77-bc5d-f28322153e8d",
   "metadata": {
    "tags": []
   },
   "outputs": [
    {
     "name": "stdout",
     "output_type": "stream",
     "text": [
      "\n",
      "case 1\n",
      "PMF: (hypA: 0.250, hypB: 0.750)\n",
      "L:   (hypA: 400.0, hypB: 140.0)\n",
      "PMF: (hypA: 0.488, hypB: 0.512)\n",
      "\n",
      "case 2\n",
      "PMF: (hypA: 0.500, hypB: 0.500)\n",
      "L:   (hypA: 400.0, hypB: 140.0)\n",
      "PMF: (hypA: 0.741, hypB: 0.259)\n",
      "\n",
      "case 3\n",
      "PMF: (hypA: 0.750, hypB: 0.250)\n",
      "L:   (hypA: 400.0, hypB: 140.0)\n",
      "PMF: (hypA: 0.896, hypB: 0.104)\n"
     ]
    }
   ],
   "source": [
    "print(\"\\ncase 1\")\n",
    "prior1 = ppPMF(normalise(dict(hypA=0.25, hypB=0.75)))\n",
    "ppL(likelihood)\n",
    "ppPMF(normalise(pmfMul(prior1, likelihood)))\n",
    "\n",
    "print(\"\\ncase 2\")\n",
    "prior2 = ppPMF(normalise(dict(hypA=0.5, hypB=0.5)))\n",
    "ppL(likelihood)\n",
    "ppPMF(normalise(pmfMul(prior2, likelihood)))\n",
    "\n",
    "print(\"\\ncase 3\")\n",
    "prior3 = ppPMF(normalise(dict(hypA=0.75, hypB=0.25)))\n",
    "ppL(likelihood)\n",
    "ppPMF(normalise(pmfMul(prior3, likelihood)));"
   ]
  },
  {
   "cell_type": "markdown",
   "id": "e694e3ff-470e-449d-af03-382796cec1e4",
   "metadata": {},
   "source": [
    "<br>\n",
    "\n",
    "or maybe:"
   ]
  },
  {
   "cell_type": "code",
   "execution_count": 5,
   "id": "60d6b6b1-85b7-4165-a07a-1255f762de40",
   "metadata": {
    "tags": []
   },
   "outputs": [
    {
     "name": "stdout",
     "output_type": "stream",
     "text": [
      "\n",
      "case 1\n",
      "PMF: (hypA: 0.250, hypB: 0.750)\n",
      "L:   (hypA: 400.0, hypB: 140.0)\n",
      "PMF: (hypA: 0.488, hypB: 0.512)\n",
      "\n",
      "case 2\n",
      "PMF: (hypA: 0.500, hypB: 0.500)\n",
      "L:   (hypA: 400.0, hypB: 140.0)\n",
      "PMF: (hypA: 0.741, hypB: 0.259)\n",
      "\n",
      "case 3\n",
      "PMF: (hypA: 0.600, hypB: 0.400)\n",
      "L:   (hypA: 400.0, hypB: 140.0)\n",
      "PMF: (hypA: 0.811, hypB: 0.189)\n"
     ]
    }
   ],
   "source": [
    "print(\"\\ncase 1\")\n",
    "ppPMF(normalise(pmfMul(ppPMF(normalise(dict(hypA=0.25, hypB=0.75))), ppL(likelihood))))\n",
    "\n",
    "print(\"\\ncase 2\")\n",
    "ppPMF(normalise(pmfMul(ppPMF(normalise(dict(hypA=0.50, hypB=0.50))), ppL(likelihood))))\n",
    "\n",
    "print(\"\\ncase 3\")\n",
    "ppPMF(normalise(pmfMul(ppPMF(normalise(dict(hypA=0.75, hypB=0.50))), ppL(likelihood))));"
   ]
  },
  {
   "cell_type": "markdown",
   "id": "56b135fc-17be-4ce4-9d6e-627de9594248",
   "metadata": {},
   "source": [
    "<br>\n",
    "\n",
    "## What's the problem coppertop is trying to solve?\n",
    "\n",
    "In a nutshell coppertop is an attempt to make code easier to read, write and be more reliable.\n",
    "\n",
    "Our Python code looks reasonably simple and thus far it is. However, once we want to start doing more, experience shows that the code can get messy and hard to understand. As an example compare the regular Python code we developed above with the coppertop version:\n",
    "\n",
    "<br>\n",
    "\n",
    "**Regular Python**\n",
    "\n",
    "\n",
    "```python\n",
    "bag1994 = ppMMs(dict(Brown=30, Yellow=20, Red=20, Green=10, Orange=10, Tan=10))\n",
    "bag1996 = ppMMs(dict(Brown=13, Yellow=14, Red=13, Green=20, Orange=16, Blue=24))\n",
    "\n",
    "likelihood = dict(\n",
    "    hypA=bag1994['Yellow'] * bag1996['Green'],   # hypA -> yellow is from 1994, green is from 1996\n",
    "    hypB=bag1994['Green'] * bag1996['Yellow']    # hypB -> green is from 1994, yellow is from 1996\n",
    ")\n",
    "\n",
    "print(\"\\ncase 1\")\n",
    "ppPMF(normalise(pmfMul(ppPMF(normalise(dict(hypA=0.25, hypB=0.75))), ppL(likelihood))))\n",
    "\n",
    "print(\"\\ncase 2\")\n",
    "ppPMF(normalise(pmfMul(ppPMF(normalise(dict(hypA=0.50, hypB=0.50))), ppL(likelihood))))\n",
    "\n",
    "print(\"\\ncase 3\")\n",
    "ppPMF(normalise(pmfMul(ppPMF(normalise(dict(hypA=0.75, hypB=0.50))), ppL(likelihood))));\n",
    "```\n",
    "\n",
    "\n",
    "<br>\n",
    "\n",
    "**Coppertop**\n",
    "\n",
    "\n",
    "```python\n",
    "bag1994 = MMs(Brown=30, Yellow=20, Red=20, Green=10, Orange=10, Tan=10) >> PP\n",
    "bag1996 = MMs(Brown=13, Yellow=14, Red=13, Green=20, Orange=16, Blue=24) >> PP\n",
    "\n",
    "likelihood = L(\n",
    "    hypA=bag1994.Yellow * bag1996.Green,   # hypA -> yellow is from 1994, green is from 1996\n",
    "    hypB=bag1994.Green * bag1996.Yellow    # hypB -> green is from 1994, yellow is from 1996\n",
    ")\n",
    "\n",
    "\"\\ncase 1\" >> PP\n",
    "PMF(hypA=0.25, hypB=0.75) >> PP >> pmfMul >> (likelihood >> PP) >> normalise >> PP\n",
    "\n",
    "\"\\ncase 2\" >> PP\n",
    "PMF(hypA=0.5, hypB=0.5) >> PP >> pmfMul >> (likelihood >> PP) >> normalise >> PP\n",
    "\n",
    "\"\\ncase 3\" >> PP\n",
    "PMF(hypA=0.75, hypB=0.25) >> PP >> pmfMul >> (likelihood >> PP) >> normalise >> PP;\n",
    "```"
   ]
  },
  {
   "cell_type": "markdown",
   "id": "c3ead67f-7187-4aad-a163-9ea9e10f949e",
   "metadata": {},
   "source": [
    "<br>\n",
    "\n",
    "For the rest of this notebook, we will show the changes to run the analysis for several priors, in three parts:\n",
    "1) using >> as a pipe operator to reduce visual function nesting, improve readability of function sequence and reduce the number of parentheses,\n",
    "2) replace dict with types for PMF, likelihood and the bag of M&Ms,\n",
    "3) formatting the data structures in a type contextual manner to make the output easier to read.\n",
    "\n",
    "In the rest of this notebook we will see one way this can be done using coppertop, and, with concision not end up with a ball of spaghetti in the process.\n",
    "\n",
    "<br>\n",
    "\n",
    "### Part 1 - pipe operator\n",
    "\n",
    "import the decorator"
   ]
  },
  {
   "cell_type": "code",
   "execution_count": 6,
   "id": "825f90ac-deeb-4616-afa4-0fad8eb8fd84",
   "metadata": {
    "ExecuteTime": {
     "end_time": "2024-03-08T20:30:05.113134Z",
     "start_time": "2024-03-08T20:30:05.095147Z"
    },
    "tags": []
   },
   "outputs": [],
   "source": [
    "from coppertop.pipe import *"
   ]
  },
  {
   "cell_type": "markdown",
   "id": "c58c5fd4-a1a4-40ff-8d81-10e3ca2a6383",
   "metadata": {},
   "source": [
    "<br>\n",
    "\n",
    "adding piping to our library functions:"
   ]
  },
  {
   "cell_type": "code",
   "execution_count": 7,
   "id": "b10e6473-eab0-4e87-9b05-4340e07e5af0",
   "metadata": {
    "ExecuteTime": {
     "end_time": "2024-03-08T20:39:24.291835Z",
     "start_time": "2024-03-08T20:31:02.867846Z"
    },
    "tags": []
   },
   "outputs": [],
   "source": [
    "@coppertop(style=binary)\n",
    "def pmfMul(A, B):\n",
    "    res = {}\n",
    "    for k in A.keys():\n",
    "        res[k] = A[k] * B[k]\n",
    "    return res\n",
    "\n",
    "@coppertop\n",
    "def normalise(x):\n",
    "    t = 0\n",
    "    for p in x.values():\n",
    "        t += p\n",
    "    t = 1 / t\n",
    "    for k in x.keys():\n",
    "        x[k] *= t\n",
    "    return x\n",
    "\n",
    "@coppertop\n",
    "def PP(x):\n",
    "    print(x)\n",
    "    return x"
   ]
  },
  {
   "cell_type": "markdown",
   "id": "b0656ac6-980e-4179-873c-b3b6d05a7d65",
   "metadata": {},
   "source": [
    "<br>\n",
    "\n",
    "our problem solving script:"
   ]
  },
  {
   "cell_type": "code",
   "execution_count": 8,
   "id": "ed0c52b4-c4e0-47de-9089-115290313194",
   "metadata": {
    "ExecuteTime": {
     "end_time": "2024-03-08T20:30:05.125113Z",
     "start_time": "2024-03-08T20:30:05.120793Z"
    },
    "tags": []
   },
   "outputs": [
    {
     "name": "stdout",
     "output_type": "stream",
     "text": [
      "{'Brown': 30, 'Yellow': 20, 'Red': 20, 'Green': 10, 'Orange': 10, 'Tan': 10}\n",
      "{'Brown': 13, 'Yellow': 14, 'Red': 13, 'Green': 20, 'Orange': 16, 'Blue': 24}\n",
      "{'hypA': 0.5, 'hypB': 0.5}\n",
      "{'hypA': 400, 'hypB': 140}\n",
      "{'hypA': 0.7407407407407408, 'hypB': 0.25925925925925924}\n"
     ]
    }
   ],
   "source": [
    "bag1994 = dict(Brown=30, Yellow=20, Red=20, Green=10, Orange=10, Tan=10) >> PP\n",
    "bag1996 = dict(Brown=13, Yellow=14, Red=13, Green=20, Orange=16, Blue=24) >> PP\n",
    "\n",
    "likelihood = dict(\n",
    "    hypA=bag1994['Yellow'] * bag1996['Green'],  # hypA -> yellow is from 1994, green is from 1996\n",
    "    hypB=bag1994['Green'] * bag1996['Yellow']   # hypB -> green is from 1994, yellow is from 1996\n",
    ")\n",
    "\n",
    "dict(hypA=0.5, hypB=0.5) >> PP >> normalise >> pmfMul >> (likelihood >> PP) >> normalise >> PP;"
   ]
  },
  {
   "cell_type": "markdown",
   "id": "1360ce4e-ea2c-4cc7-93e9-f83b500cc2c3",
   "metadata": {},
   "source": [
    "<br>\n",
    "\n",
    "### Part 2 - types\n",
    "* create types, DF, PMF and L, backed by tvmap (a typed dict)\n",
    "* create type MMs - a bag of M&Ms - backed by tvstruct (a typed struct)"
   ]
  },
  {
   "cell_type": "code",
   "execution_count": 9,
   "id": "464290fb-3158-485d-95dd-baa8dae8171d",
   "metadata": {
    "ExecuteTime": {
     "end_time": "2024-03-08T20:30:05.245643Z",
     "start_time": "2024-03-08T20:30:05.124518Z"
    },
    "tags": []
   },
   "outputs": [],
   "source": [
    "from bones.ts.metatypes import BTAtom\n",
    "from dm.core.structs import tvstruct, tvmap\n",
    "\n",
    "import bones.ts.metatypes\n",
    "bones.ts.metatypes.REPL_OVERRIDE_MODE = True     # allow immutable state in the metatypes module to be updated in a repl"
   ]
  },
  {
   "cell_type": "markdown",
   "id": "c8e3d44d-82c3-4bcf-9588-b8683d152e1c",
   "metadata": {},
   "source": [
    "<br>\n",
    "\n",
    "adding types to our libraray:"
   ]
  },
  {
   "cell_type": "code",
   "execution_count": 10,
   "id": "3b3a0cbc-b5d6-4d01-b8c2-535357d7defa",
   "metadata": {
    "ExecuteTime": {
     "end_time": "2024-03-08T20:30:05.255464Z",
     "start_time": "2024-03-08T20:30:05.245983Z"
    },
    "tags": []
   },
   "outputs": [],
   "source": [
    "# constructors\n",
    "def _newPmf(cs, *args, **kwargs):\n",
    "    pmf = tvmap(cs, *args, **kwargs)\n",
    "    if len(pmf) > 0:               # ensure values sum to 1.0 if we have data\n",
    "        t = 0\n",
    "        for p in pmf.values():\n",
    "            t += p\n",
    "        t = 1 / t\n",
    "        for k in pmf.keys():\n",
    "            pmf[k] *= t\n",
    "    return pmf\n",
    "\n",
    "# create new types\n",
    "DF = BTAtom.ensure('DF') & tvmap   # discrete function\n",
    "PMF = BTAtom.ensure('PMF') & DF    # probability mass function\n",
    "L = BTAtom.ensure('L') & DF        # likelihood - not strictly necessary but useful later\n",
    "MMs = BTAtom.ensure('MMs')\n",
    "\n",
    "DF.setConstructor(tvmap)\n",
    "PMF.setConstructor(_newPmf)\n",
    "L.setConstructor(DF)\n",
    "MMs.setConstructor(tvstruct);"
   ]
  },
  {
   "cell_type": "markdown",
   "id": "f8fe666d-d2af-4a00-a636-eb38420635cc",
   "metadata": {},
   "source": [
    "<br>\n",
    "\n",
    "overloading our _Think Bayes_ style library functions to use the new types:"
   ]
  },
  {
   "cell_type": "code",
   "execution_count": 11,
   "id": "656fa762-33b6-46d9-bfbb-737cc5760c30",
   "metadata": {
    "ExecuteTime": {
     "end_time": "2024-03-08T20:30:05.264214Z",
     "start_time": "2024-03-08T20:30:05.256459Z"
    },
    "tags": []
   },
   "outputs": [],
   "source": [
    "@coppertop(style=binary)\n",
    "def pmfMul(a:PMF, b:L) -> DF:\n",
    "    answer = DF()\n",
    "    for k in a.keys():\n",
    "        answer[k] = a[k] * b[k]\n",
    "    return answer\n",
    "\n",
    "@coppertop\n",
    "def normalise(df:DF) -> PMF:\n",
    "    return PMF(df)"
   ]
  },
  {
   "cell_type": "markdown",
   "id": "eee9d128-1c89-4e89-942a-bb52549c09aa",
   "metadata": {},
   "source": [
    "<br>\n",
    "\n",
    "our problem solving script:"
   ]
  },
  {
   "cell_type": "code",
   "execution_count": 12,
   "id": "d0f55f97-7dc0-496c-bab5-00da9b46c5ad",
   "metadata": {
    "ExecuteTime": {
     "end_time": "2024-03-08T20:30:05.277904Z",
     "start_time": "2024-03-08T20:30:05.265058Z"
    },
    "tags": []
   },
   "outputs": [
    {
     "name": "stdout",
     "output_type": "stream",
     "text": [
      "MMs(Brown=30, Yellow=20, Red=20, Green=10, Orange=10, Tan=10)\n",
      "MMs(Brown=13, Yellow=14, Red=13, Green=20, Orange=16, Blue=24)\n",
      "{'hypA': 0.5, 'hypB': 0.5}\n",
      "{'hypA': 400, 'hypB': 140}\n",
      "{'hypA': 0.7407407407407408, 'hypB': 0.25925925925925924}\n"
     ]
    }
   ],
   "source": [
    "bag1994 = MMs(Brown=30, Yellow=20, Red=20, Green=10, Orange=10, Tan=10) >> PP\n",
    "bag1996 = MMs(Brown=13, Yellow=14, Red=13, Green=20, Orange=16, Blue=24) >> PP\n",
    "\n",
    "prior = PMF(hypA=0.5, hypB=0.5) >> PP\n",
    "\n",
    "likelihood = L(\n",
    "    hypA=bag1994.Yellow * bag1996.Green,   # hypA -> yellow is from 1994, green is from 1996\n",
    "    hypB=bag1994.Green * bag1996.Yellow    # hypB -> green is from 1994, yellow is from 1996\n",
    ") >> PP\n",
    "\n",
    "posterior = prior >> pmfMul >> likelihood >> normalise >> PP"
   ]
  },
  {
   "cell_type": "markdown",
   "id": "72713870-b9b2-4c80-ae80-aeb93594669c",
   "metadata": {},
   "source": [
    "<br>\n",
    "\n",
    "### Part 3 - overloads and partials\n",
    "* Improve display by overloading the PP function for PMF and L\n",
    "\n",
    "<br>\n",
    "\n",
    "overloading our pretty printing library functions to use the new types:"
   ]
  },
  {
   "cell_type": "code",
   "execution_count": 13,
   "id": "04ea9ff9-2f8e-45a8-b0f4-920313fb468a",
   "metadata": {
    "ExecuteTime": {
     "end_time": "2024-03-08T20:30:05.286473Z",
     "start_time": "2024-03-08T20:30:05.276963Z"
    },
    "tags": []
   },
   "outputs": [],
   "source": [
    "@coppertop\n",
    "def formatDf(s, name, valuesFormat, sep):\n",
    "    def formatKv(kv):\n",
    "        k, v = kv\n",
    "        return f'{k}: {format(v, valuesFormat)}'\n",
    "    kvStrings = [formatKv(kv) for kv in s.items()]\n",
    "    return f'{name}({sep.join(kvStrings)})'\n",
    "\n",
    "formatPmf = formatDf(_, 'PMF: ', '.3f', ', ')      # specialise formatDf for PMF\n",
    "formatL = formatDf(_, 'L:   ', '.1f', ', ')        # specialise formatDf for L\n",
    "\n",
    "@coppertop\n",
    "def PP(x:L) -> L:\n",
    "    print(x >> formatL)\n",
    "    return x\n",
    "\n",
    "@coppertop\n",
    "def PP(x:PMF):\n",
    "    print(x >> formatPmf)\n",
    "    return x"
   ]
  },
  {
   "cell_type": "markdown",
   "id": "23a86442-70ce-4c97-95b3-1d4a25f4651b",
   "metadata": {},
   "source": [
    "<br>\n",
    "\n",
    "our problem solving script:"
   ]
  },
  {
   "cell_type": "code",
   "execution_count": 14,
   "id": "c8af0f9a-91ea-49cb-beb7-2a702f00ceb4",
   "metadata": {
    "ExecuteTime": {
     "end_time": "2024-03-08T20:47:40.044650Z",
     "start_time": "2024-03-08T20:45:52.255883Z"
    },
    "tags": []
   },
   "outputs": [
    {
     "name": "stdout",
     "output_type": "stream",
     "text": [
      "MMs(Brown=30, Yellow=20, Red=20, Green=10, Orange=10, Tan=10)\n",
      "MMs(Brown=13, Yellow=14, Red=13, Green=20, Orange=16, Blue=24)\n",
      "PMF: (hypA: 0.500, hypB: 0.500)\n",
      "L:   (hypA: 400.0, hypB: 140.0)\n",
      "PMF: (hypA: 0.741, hypB: 0.259)\n"
     ]
    }
   ],
   "source": [
    "bag1994 = MMs(Brown=30, Yellow=20, Red=20, Green=10, Orange=10, Tan=10) >> PP\n",
    "bag1996 = MMs(Brown=13, Yellow=14, Red=13, Green=20, Orange=16, Blue=24) >> PP\n",
    "\n",
    "prior = PMF(hypA=0.5, hypB=0.5)\n",
    "\n",
    "likelihood = L(\n",
    "    hypA=bag1994.Yellow * bag1996.Green, \n",
    "    hypB=bag1994.Green * bag1996.Yellow\n",
    ")\n",
    "\n",
    "posterior = prior >> PP >> pmfMul >> (likelihood >> PP) >> normalise >> PP"
   ]
  },
  {
   "cell_type": "markdown",
   "id": "8e5693b1-336a-467a-be2b-2c8da0cac908",
   "metadata": {
    "tags": []
   },
   "source": [
    "<br>\n",
    "\n",
    "### Our type and function signatures\n",
    "\n",
    "<br>"
   ]
  },
  {
   "cell_type": "code",
   "execution_count": 15,
   "id": "9ca9ae77-a62d-4d72-b9b0-da26c49364e4",
   "metadata": {
    "ExecuteTime": {
     "end_time": "2024-03-08T20:30:05.301873Z",
     "start_time": "2024-03-08T20:30:05.294060Z"
    },
    "tags": []
   },
   "outputs": [
    {
     "name": "stdout",
     "output_type": "stream",
     "text": [
      "<class 'dm._core.structs.tvmap'>\n",
      "<class 'dm._core.structs.tvmap'>\n",
      "<class 'dm._core.structs.tvmap'>\n",
      "\n",
      "dm._core.structs.tvmap&DF&PMF\n",
      "dm._core.structs.tvmap&DF&L\n",
      "dm._core.structs.tvmap&DF&PMF\n",
      "\n",
      "<class 'bones.ts.metatypes.BTIntersection'>\n",
      "<class 'bones.ts.metatypes.BTIntersection'>\n",
      "<class 'bones.ts.metatypes.BTIntersection'>\n",
      "\n"
     ]
    }
   ],
   "source": [
    "@coppertop(style=binary)\n",
    "def collect(xs, f):\n",
    "    return [f(x) for x in xs]\n",
    "\n",
    "(prior, likelihood, posterior) >> collect >> (lambda x: str(x >> type)) >> collect >> PP\n",
    "'' >> PP\n",
    "(prior, likelihood, posterior) >> collect >> (lambda x: str(x >> typeOf)) >> collect >> PP\n",
    "'' >> PP\n",
    "(prior, likelihood, posterior) >> collect >> (lambda x: str(x >> typeOf >> type)) >> collect >> PP\n",
    "'' >> PP;"
   ]
  },
  {
   "cell_type": "code",
   "execution_count": 16,
   "id": "d2b6db57-6dfe-4b8e-b497-049c6f89c3b5",
   "metadata": {
    "ExecuteTime": {
     "end_time": "2024-03-08T20:30:05.412504Z",
     "start_time": "2024-03-08T20:30:05.303123Z"
    },
    "tags": []
   },
   "outputs": [
    {
     "name": "stdout",
     "output_type": "stream",
     "text": [
      "(py,py)->py <binary>  :   in scratch.pmfMul\n",
      "(dm._core.structs.tvmap&DF&PMF,dm._core.structs.tvmap&DF&L)->dm._core.structs.tvmap&DF <binary>  :   in scratch.pmfMul\n",
      "\n"
     ]
    }
   ],
   "source": [
    "pmfMul >> sig >> collect >> PP\n",
    "'' >> PP;"
   ]
  },
  {
   "cell_type": "code",
   "execution_count": 17,
   "id": "675bc98c-216b-42be-88ca-307d560eafec",
   "metadata": {
    "ExecuteTime": {
     "end_time": "2024-03-08T20:30:05.413267Z",
     "start_time": "2024-03-08T20:30:05.323445Z"
    },
    "tags": []
   },
   "outputs": [
    {
     "name": "stdout",
     "output_type": "stream",
     "text": [
      "(py)->py <unary>  :   in scratch.normalise\n",
      "(dm._core.structs.tvmap&DF)->dm._core.structs.tvmap&DF&PMF <unary>  :   in scratch.normalise\n",
      "\n"
     ]
    }
   ],
   "source": [
    "normalise >> sig >> collect >> PP\n",
    "'' >> PP;"
   ]
  },
  {
   "cell_type": "code",
   "execution_count": 18,
   "id": "a0c1afb8-499a-4b4b-98a4-0c242d05e2d8",
   "metadata": {
    "ExecuteTime": {
     "end_time": "2024-03-08T20:30:05.413422Z",
     "start_time": "2024-03-08T20:30:05.338558Z"
    },
    "tags": []
   },
   "outputs": [
    {
     "name": "stdout",
     "output_type": "stream",
     "text": [
      "(py)->py <unary>  :   in scratch.PP\n",
      "(dm._core.structs.tvmap&DF&L)->dm._core.structs.tvmap&DF&L <unary>  :   in scratch.PP\n",
      "(dm._core.structs.tvmap&DF&PMF)->py <unary>  :   in scratch.PP\n"
     ]
    }
   ],
   "source": [
    "PP >> sig >> collect >> PP;"
   ]
  },
  {
   "cell_type": "markdown",
   "id": "75475698-170b-4bd0-8a4b-7717a055bd22",
   "metadata": {},
   "source": [
    "<br>\n",
    "\n",
    "### Running several priors\n",
    "\n",
    "<br>\n",
    "\n",
    "our final problem solving script:"
   ]
  },
  {
   "cell_type": "code",
   "execution_count": 19,
   "id": "22498671-a436-4df2-a91c-07099cccdcb7",
   "metadata": {
    "ExecuteTime": {
     "end_time": "2024-03-08T20:30:05.413554Z",
     "start_time": "2024-03-08T20:30:05.349463Z"
    },
    "tags": []
   },
   "outputs": [
    {
     "name": "stdout",
     "output_type": "stream",
     "text": [
      "\n",
      "case 1\n",
      "PMF: (hypA: 0.250, hypB: 0.750)\n",
      "L:   (hypA: 400.0, hypB: 140.0)\n",
      "PMF: (hypA: 0.488, hypB: 0.512)\n",
      "\n",
      "case 2\n",
      "PMF: (hypA: 0.500, hypB: 0.500)\n",
      "L:   (hypA: 400.0, hypB: 140.0)\n",
      "PMF: (hypA: 0.741, hypB: 0.259)\n",
      "\n",
      "case 3\n",
      "PMF: (hypA: 0.750, hypB: 0.250)\n",
      "L:   (hypA: 400.0, hypB: 140.0)\n",
      "PMF: (hypA: 0.896, hypB: 0.104)\n"
     ]
    }
   ],
   "source": [
    "bag1994 = MMs(Brown=30, Yellow=20, Red=20, Green=10, Orange=10, Tan=10)\n",
    "bag1996 = MMs(Brown=13, Yellow=14, Red=13, Green=20, Orange=16, Blue=24)\n",
    "\n",
    "likelihood = L(\n",
    "    hypA=bag1994.Yellow * bag1996.Green, \n",
    "    hypB=bag1994.Green * bag1996.Yellow\n",
    ")\n",
    "\n",
    "\"\\ncase 1\" >> PP\n",
    "PMF(hypA=0.25, hypB=0.75) >> PP >> pmfMul >> (likelihood >> PP) >> normalise >> PP\n",
    "\n",
    "\"\\ncase 2\" >> PP\n",
    "PMF(hypA=0.5, hypB=0.5) >> PP >> pmfMul >> (likelihood >> PP) >> normalise >> PP\n",
    "\n",
    "\"\\ncase 3\" >> PP\n",
    "PMF(hypA=0.75, hypB=0.25)  >> PP >> pmfMul >> (likelihood >> PP) >> normalise >> PP;"
   ]
  },
  {
   "cell_type": "markdown",
   "id": "9ca4b668-b7ac-4f05-b325-dd264cede55d",
   "metadata": {},
   "source": [
    "<br>\n",
    "\n",
    "starting the next stage:"
   ]
  },
  {
   "cell_type": "code",
   "execution_count": 20,
   "id": "4baea16f-cbe5-43d7-ac81-a4c761e11135",
   "metadata": {
    "tags": []
   },
   "outputs": [
    {
     "name": "stdout",
     "output_type": "stream",
     "text": [
      "case 1\n",
      "PMF: (hypA: 0.250, hypB: 0.750)\n",
      "L:   (hypA: 400.0, hypB: 140.0)\n",
      "PMF: (hypA: 0.488, hypB: 0.512)\n",
      "\n",
      "case 2\n",
      "PMF: (hypA: 0.500, hypB: 0.500)\n",
      "L:   (hypA: 400.0, hypB: 140.0)\n",
      "PMF: (hypA: 0.741, hypB: 0.259)\n",
      "\n",
      "case 3\n",
      "PMF: (hypA: 0.750, hypB: 0.250)\n",
      "L:   (hypA: 400.0, hypB: 140.0)\n",
      "PMF: (hypA: 0.896, hypB: 0.104)\n",
      "\n"
     ]
    }
   ],
   "source": [
    "@coppertop\n",
    "def analysis(i_pA):\n",
    "    i, pA = i_pA\n",
    "    pB = 1 - pA\n",
    "    if i: '' >> PP\n",
    "    f'case {i+1}' >> PP\n",
    "    return PMF(hypA=pA, hypB=pB) >> PP >> pmfMul >> (likelihood >> PP) >> normalise >> PP\n",
    "\n",
    "@coppertop\n",
    "def withIX(xs):\n",
    "    return enumerate(xs)\n",
    "\n",
    "results = [0.25, 0.5, 0.75] >> withIX >> collect >> analysis\n",
    "'' >> PP;"
   ]
  },
  {
   "cell_type": "code",
   "execution_count": 21,
   "id": "6c7a9242-232f-432a-a28e-96b682cf1b0f",
   "metadata": {
    "tags": []
   },
   "outputs": [
    {
     "name": "stdout",
     "output_type": "stream",
     "text": [
      "PMF: (hypA: 0.488, hypB: 0.512)\n",
      "PMF: (hypA: 0.741, hypB: 0.259)\n",
      "PMF: (hypA: 0.896, hypB: 0.104)\n"
     ]
    }
   ],
   "source": [
    "results >> collect >> PP;"
   ]
  },
  {
   "cell_type": "markdown",
   "id": "915e8989-0e0c-44b7-8e50-1b5de13f7095",
   "metadata": {},
   "source": [
    "<br>\n",
    "\n",
    "## Summing up\n",
    "\n",
    "Firstly, we started off with a simple example Python program and suggested things might get messy as we tried to scale it - this is left as an exercise for the reader to more fully.\n",
    "\n",
    "In a step by step manner, we looked at the @coppertop decorator, piping, adding new types, overloading and partial functions.\n",
    "\n",
    "Finally, we combined our functions into concise code to analysis the impact of different priors, perhaps hinting at the potential coppertop might offer."
   ]
  },
  {
   "cell_type": "markdown",
   "id": "8dc80e93-ebed-47d1-b5b2-22bc2d334d37",
   "metadata": {},
   "source": [
    " "
   ]
  }
 ],
 "metadata": {
  "kernelspec": {
   "display_name": "Python 3 (ipykernel)",
   "language": "python",
   "name": "python3"
  },
  "language_info": {
   "codemirror_mode": {
    "name": "ipython",
    "version": 3
   },
   "file_extension": ".py",
   "mimetype": "text/x-python",
   "name": "python",
   "nbconvert_exporter": "python",
   "pygments_lexer": "ipython3",
   "version": "3.11.0"
  }
 },
 "nbformat": 4,
 "nbformat_minor": 5
}
