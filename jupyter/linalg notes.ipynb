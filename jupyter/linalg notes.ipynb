{
 "cells": [
  {
   "cell_type": "code",
   "id": "ef37d07e541d53a3",
   "metadata": {
    "tags": [],
    "ExecuteTime": {
     "end_time": "2025-05-26T12:23:06.514505Z",
     "start_time": "2025-05-26T12:23:06.125641Z"
    }
   },
   "source": [
    "import builtins\n",
    "\n",
    "from coppertop.pipe import *\n",
    "\n",
    "from dm.core.types import matrix, vec, pytuple, t, dseq, pylist, num, offset, bool\n",
    "from bones.core.sentinels import Missing\n",
    "from bones.core.errors import NotYetImplemented\n",
    "from dm.core.structs import tv\n",
    "from bones.ts.core import Constructors\n",
    "from bones.ts.metatypes import BTAtom, BType\n",
    "from dm.testing import check, equals\n",
    "from dm.pp import PP\n",
    "from _ import *\n",
    "\n",
    "@coppertop\n",
    "def sequence_(n):\n",
    "    return range(n)\n",
    "offset.sequence_ = sequence_"
   ],
   "outputs": [],
   "execution_count": 1
  },
  {
   "metadata": {
    "ExecuteTime": {
     "end_time": "2025-05-26T12:23:06.536816Z",
     "start_time": "2025-05-26T12:23:06.515914Z"
    }
   },
   "cell_type": "code",
   "source": [
    "# implement matrices as dseq of dseq\n",
    "\n",
    "mutable = BTAtom('mutable')\n",
    "maddResult = BTAtom('maddResult')\n",
    "rowmajor = BTAtom('rowmajor')\n",
    "Matrix = BType('Matrix: matrix & rowmajor & dseq in mem')\n",
    "       \n",
    "@coppertop\n",
    "def _newMatrix(t:Constructors, m:t.count, n:t.count) -> Matrix:\n",
    "    answer = [Missing] * m\n",
    "    for i in m >> offset.sequence_:\n",
    "        answer[i] = [0] * n\n",
    "    return dseq(Matrix, answer)\n",
    "\n",
    "@coppertop\n",
    "def _newMatrix(t:Constructors, contents:pylist) -> Matrix:\n",
    "    # could check it's rectangular\n",
    "    return dseq(Matrix, contents)\n",
    "\n",
    "Matrix.setConstructor(_newMatrix)\n",
    "\n",
    "\n",
    "@coppertop(style=unary)\n",
    "def toMatrix(lol:pylist):\n",
    "    return Matrix(lol)\n",
    "\n",
    "@coppertop(style=unary)\n",
    "def toCol(l:pylist):\n",
    "    m = l >> count\n",
    "    answer = Matrix(m, 1)\n",
    "    for i in m >> offset.sequence_:\n",
    "        answer[i][0] = l[i]\n",
    "    return answer\n",
    "\n",
    "@coppertop(style=unary)\n",
    "def toRow(l:pylist):\n",
    "    n = l >> count\n",
    "    answer = Matrix(1, n)\n",
    "    for j in n >> offset.sequence_:\n",
    "        answer[0][j] = l[j]\n",
    "    return answer\n",
    "\n",
    "@coppertop(style=unary)\n",
    "def toSeq(l:pylist):\n",
    "    raise NotYetImplemented()\n",
    "\n",
    "@coppertop(style=unary)\n",
    "def toSeqOfSeq(A:Matrix):\n",
    "    raise NotYetImplemented()\n",
    "\n",
    "@coppertop(style=unary)\n",
    "def shape(A:Matrix) -> pytuple:\n",
    "    return len(A), len(A[0])\n",
    "\n",
    "@coppertop(style=unary)\n",
    "def min(A:Matrix) -> num:\n",
    "    return min([min(r) for r in A])\n",
    "\n",
    "@coppertop(style=unary)\n",
    "def max(A:Matrix) -> num:\n",
    "    return max([max(r) for r in A])\n",
    "\n",
    "@coppertop(style=unary)\n",
    "def minmax(A:Matrix) -> pytuple:\n",
    "    return min([min(r) for r in A]), max([max(r) for r in A])\n",
    "\n",
    "@coppertop(style=unary)\n",
    "def abs(A:Matrix) -> Matrix:\n",
    "    m, n = A >> shape\n",
    "    answer = Matrix(m, n)\n",
    "    for i in m >> offset.sequence_:\n",
    "        for j in n >> offset.sequence_:\n",
    "            answer[i][j] = builtins.abs(A[i][j])\n",
    "    return answer\n",
    "\n",
    "@coppertop(style=unary)\n",
    "def T(A:Matrix) -> Matrix:\n",
    "    m, n = A >> shape\n",
    "    answer = Matrix(n, m)\n",
    "    for i in m >> offset.sequence_:\n",
    "        for j in n >> offset.sequence_:\n",
    "            answer[j][i] = A[i][j]\n",
    "    return answer\n",
    "\n",
    "@coppertop\n",
    "def PP(A:Matrix):\n",
    "    # 'show 2 figures of smallest'\n",
    "    m, n = A >> shape\n",
    "    a = A >> abs\n",
    "    minA, maxA = minmax(A)\n",
    "    numPreDot = format(maxA, '.0f') >> count\n",
    "    numPostDot = 0\n",
    "    numForDot = 0\n",
    "    padding = numPreDot + numForDot + numPostDot\n",
    "    for i in m >> offset.sequence_:\n",
    "        line = ''\n",
    "        for j in n >> offset.sequence_:\n",
    "            line += ('  ' if line else '') + builtins.format(A[i][j], '.0f') >> pad(_, dict(right=padding))\n",
    "        line >> PP\n",
    "    return A\n",
    "\n",
    "@coppertop(style=binary)\n",
    "def madd(A:Matrix, B:Matrix) -> Matrix:\n",
    "    mA, nA = A >> shape\n",
    "    mB, nB = B >> shape\n",
    "    assert mA == mB and nA == nB\n",
    "    answer = Matrix(mA, nA)\n",
    "    for i in mA >> offset.sequence_:\n",
    "        for j in nA >> offset.sequence_:\n",
    "            answer[i][j] = A[i][j] + B[i][j]\n",
    "    return answer\n",
    "\n",
    "@coppertop(style=binary)\n",
    "def madd(A:Matrix&mutable, B:Matrix) -> Matrix&mutable:\n",
    "    mA, nA = A >> shape\n",
    "    mB, nB = B >> shape\n",
    "    assert mA == mB and nA == nB\n",
    "    for i in mA >> offset.sequence_:\n",
    "        for j in nA >> offset.sequence_:\n",
    "            A[i][j] = A[i][j] + B[i][j]\n",
    "    return A\n",
    "\n",
    "@coppertop(style=unary)\n",
    "def XXT(A:Matrix) -> Matrix:\n",
    "    return A >> mmul >> (A >> T)\n",
    "\n",
    "@coppertop(style=unary)\n",
    "def XTX(A:Matrix) -> Matrix:\n",
    "    return A >> T >> mmul >> A\n",
    "\n",
    "@coppertop(style=binary)\n",
    "def mmul(A:Matrix, B:Matrix) -> Matrix:\n",
    "    m, n = A >> shape\n",
    "    mB, nB = B >> shape\n",
    "    assert n == mB\n",
    "    answer = Matrix(m, nB)\n",
    "    for i in m >> offset.sequence_:\n",
    "        for j in nB >> offset.sequence_:\n",
    "            for k in n >> offset.sequence_:\n",
    "                answer[i][j] += (A[i][k]) * (B[k][j])\n",
    "    return answer\n",
    "\n",
    "@coppertop(style=binary)\n",
    "def mtimes(s:num, A:Matrix) -> Matrix:\n",
    "    m, n = A >> shape\n",
    "    answer = Matrix(m, n)\n",
    "    for i in m >> offset.sequence_:\n",
    "        for j in n >> offset.sequence_:\n",
    "            answer[i][j] = A[i][j] * s\n",
    "    return answer\n",
    "\n",
    "@coppertop(style=binary)\n",
    "def mtimes(A:Matrix, s:num) -> Matrix:\n",
    "    m, n = A >> shape\n",
    "    answer = Matrix(m, n)\n",
    "    for i in m >> offset.sequence_:\n",
    "        for j in n >> offset.sequence_:\n",
    "            answer[i][j] = A[i][j] * s\n",
    "    return answer\n",
    "\n",
    "@coppertop(style=binary)\n",
    "def scalarProductRC(row:Matrix, col:Matrix) -> num:\n",
    "    mR, nR = row >> shape\n",
    "    mC, nC = col >> shape\n",
    "    assert row >> isRow\n",
    "    assert col >> isCol\n",
    "    answer = 0\n",
    "    for i in nR >> offset.sequence_:\n",
    "        answer += row[0][i] * col[i][0]\n",
    "    return answer\n",
    "\n",
    "@coppertop(style=binary)\n",
    "def outerProductCR(col:Matrix, row:Matrix) -> Matrix:\n",
    "    mC, nC = col >> shape\n",
    "    mR, nR = row >> shape\n",
    "    assert col >> isCol\n",
    "    assert row >> isRow\n",
    "    answer = Matrix(mC, nR)\n",
    "    for j in nR >> offset.sequence_:\n",
    "        for i in mC >> offset.sequence_:\n",
    "            answer[i][j] += row[0][j] * col[i][0]\n",
    "    return answer\n",
    "\n",
    "@coppertop(style=binary)\n",
    "def outerProductCR_(col:Matrix, row:Matrix) -> (Matrix&mutable&maddResult)^Matrix&mutable&maddResult:\n",
    "    return outerProductCR_impl(_, col, row)\n",
    "\n",
    "@coppertop(style=unary)\n",
    "def outerProductCR_impl(answer: Matrix&mutable&maddResult, col:Matrix, row:Matrix) -> Matrix&mutable&maddResult:\n",
    "    mC, nC = col >> shape\n",
    "    mR, nR = row >> shape\n",
    "    assert col >> isCol\n",
    "    assert row >> isRow\n",
    "    for j in nR >> offset.sequence_:\n",
    "        for i in mC >> offset.sequence_:\n",
    "            answer[i][j] += row[0][j] * col[i][0]\n",
    "    return answer\n",
    "\n",
    "@coppertop(style=binary)\n",
    "def madd(A:Matrix&mutable&maddResult, fnB:((Matrix&mutable&maddResult)^(Matrix&mutable&maddResult))) -> Matrix&mutable&maddResult:\n",
    "    return fnB(A)\n",
    "\n",
    "@coppertop(style=binary)\n",
    "def atRow(A:Matrix, o:offset) -> Matrix:\n",
    "    m, n = A >> shape\n",
    "    answer = Matrix(1, n)\n",
    "    for j in n >> offset.sequence_:\n",
    "        answer[0][j] = A[o][j]\n",
    "    return answer    \n",
    "\n",
    "@coppertop(style=binary)\n",
    "def atCol(A:Matrix, o:offset) -> Matrix:\n",
    "    m, n = A >> shape\n",
    "    answer = Matrix(m, 1)\n",
    "    for i in m >> offset.sequence_:\n",
    "        answer[i][0] = A[i][o]\n",
    "    return answer\n",
    "\n",
    "@coppertop(style=unary)\n",
    "def isCol(A:Matrix) -> bool:\n",
    "    m, n = A >> shape\n",
    "    return n == 1\n",
    "\n",
    "@coppertop(style=unary)\n",
    "def isRow(A:Matrix) -> bool:\n",
    "    m, n = A >> shape\n",
    "    return m == 1\n",
    "\n"
   ],
   "id": "0a3394df-00ec-486d-ad02-ff77387898eb",
   "outputs": [],
   "execution_count": 2
  },
  {
   "metadata": {},
   "cell_type": "markdown",
   "source": [
    "ASIDE:\n",
    "\n",
    "Are vector and matrix different types?\n",
    "\n",
    "against\n",
    "* takeCol -> vec, takeCols -> matrix, then need two functions for A >> mmul >> B >> (takeCols >> [0]) and A >> mmul >> B >> (takeCol >> 1) though \n",
    "  conceptually they mean the same thing\n",
    "* we would like to render the type correctly to match our intuition - we can't tell which way to render a vec (col or row) can we default to col?\n",
    "* doubles up number of methods for each type - then also need tensor, ndarray shares functionality\n",
    "\n",
    "for\n",
    "* if we want to access a vec - we don't need to know if it is a column or row - at, atput, count\n",
    "\n",
    "Decision: start off with essential relationships rather than inner qualities, i.e. how is it used versus some conception of what it is, and revisit later if needed."
   ],
   "id": "2eef94398beeb33d"
  },
  {
   "cell_type": "markdown",
   "id": "f8cc673c-1fca-44dd-a3c2-b8f3d75c46c1",
   "metadata": {},
   "source": [
    "<br>\n",
    "\n",
    "### matrix times vector\n",
    "\n",
    "For $A x$, normally is thought of as the scalar (aka inner or dot) product of each row in $A$ with $x$, e.g. \n",
    "\n",
    "$$\n",
    "\\begin{align}\n",
    "\\begin{pmatrix}\n",
    "2 & 3 \\\\\n",
    "2 & 4 \\\\\n",
    "3 & 7\n",
    "\\end{pmatrix}\n",
    "\\begin{pmatrix}\n",
    "1 \\\\\n",
    "2 \\\\\n",
    "\\end{pmatrix}\n",
    "=\n",
    "\\begin{pmatrix}\n",
    "( 2, 3 ) \\cdot (1, 2) \\\\\n",
    "( 2, 4 ) \\cdot (1, 2) \\\\\n",
    "( 3, 7 ) \\cdot (1, 2)\n",
    "\\end{pmatrix}\n",
    "\\end{align}\n",
    "$$\n"
   ]
  },
  {
   "cell_type": "code",
   "id": "b30f8c86-cd8d-400a-bb38-1d940a84d3b9",
   "metadata": {
    "ExecuteTime": {
     "end_time": "2025-05-26T12:23:06.541731Z",
     "start_time": "2025-05-26T12:23:06.537734Z"
    }
   },
   "source": [
    "A = [[2,3],[ 2,4], [3,7]] >> toMatrix >> PP\n",
    "'' >> PP\n",
    "x = [1, 2] >> toCol >> PP"
   ],
   "outputs": [
    {
     "name": "stdout",
     "output_type": "stream",
     "text": [
      "  2  3\n",
      "  2  4\n",
      "  3  7\n",
      "\n",
      "  1\n",
      "  2\n"
     ]
    }
   ],
   "execution_count": 3
  },
  {
   "cell_type": "markdown",
   "id": "4f8a2541-d35c-4433-9d45-47fb112f72ee",
   "metadata": {},
   "source": [
    "ai has found even more efficient ways than the high school way - https://arstechnica.com/information-technology/2022/10/deepmind-breaks-50-year-math-record-using-ai-new-record-falls-a-week-later/"
   ]
  },
  {
   "cell_type": "code",
   "id": "458f4ea0-feb5-43d6-b631-62815e625b50",
   "metadata": {
    "ExecuteTime": {
     "end_time": "2025-05-26T12:23:06.547512Z",
     "start_time": "2025-05-26T12:23:06.543756Z"
    }
   },
   "source": [
    "# @coppertop(style=binary, module='notes.impl')\n",
    "@coppertop(style=binary)\n",
    "def mulMatVec1(A:Matrix, v:Matrix) -> Matrix:\n",
    "    mA, nA = A >> shape\n",
    "    mV, nV = v >> shape\n",
    "    assert nA == mV\n",
    "    assert v >> isCol\n",
    "    answer = Matrix(mA, nV)\n",
    "    for i in mA >> offset.sequence_:\n",
    "        for j in nV >> offset.sequence_:\n",
    "            answer[i][j] = (A >> atRow >> i) >> scalarProductRC >> (v >> atCol >> j)\n",
    "    return answer"
   ],
   "outputs": [],
   "execution_count": 4
  },
  {
   "cell_type": "code",
   "id": "a8cab700-fca7-4e52-b130-d6ea54ce1ddd",
   "metadata": {
    "ExecuteTime": {
     "end_time": "2025-05-26T12:23:06.553278Z",
     "start_time": "2025-05-26T12:23:06.550230Z"
    }
   },
   "source": [
    "A >> mulMatVec1 >> x >> PP;"
   ],
   "outputs": [
    {
     "name": "stdout",
     "output_type": "stream",
     "text": [
      "  8\n",
      " 10\n",
      " 17\n"
     ]
    }
   ],
   "execution_count": 5
  },
  {
   "cell_type": "markdown",
   "id": "80115e01-3274-4cdb-98ad-0e7c930c893e",
   "metadata": {},
   "source": [
    "More intuitively we can think of the whole answer as the weighted columns of $A$ ($\\{\\textbf{a}_1, \\textbf{a}_2\\}$) with the weights coming from $x$, thus:\n",
    "\n",
    "$$\n",
    "\\begin{align}\n",
    "\\begin{pmatrix}\n",
    "2 & 3 \\\\\n",
    "2 & 4 \\\\\n",
    "3 & 7\n",
    "\\end{pmatrix}\n",
    "\\begin{pmatrix}\n",
    "1 \\\\\n",
    "2 \\\\\n",
    "\\end{pmatrix}\n",
    "= 1 \\cdot\n",
    "\\begin{pmatrix}\n",
    "2\\\\\n",
    "2\\\\\n",
    "3\n",
    "\\end{pmatrix}\n",
    "+ 2 \\cdot\n",
    "\\begin{pmatrix}\n",
    "3\\\\\n",
    "4\\\\\n",
    "7\n",
    "\\end{pmatrix}\n",
    "\\end{align}\n",
    "$$"
   ]
  },
  {
   "cell_type": "code",
   "id": "8309d349-d3f1-41d4-861a-53360a4aa09e",
   "metadata": {
    "ExecuteTime": {
     "end_time": "2025-05-26T12:23:06.557607Z",
     "start_time": "2025-05-26T12:23:06.554461Z"
    }
   },
   "source": [
    "# @coppertop(style=binary, module='notes.intuitive')\n",
    "@coppertop(style=binary)\n",
    "def mulMatVec2(A:Matrix, v:Matrix) -> Matrix:\n",
    "    mA, nA = A >> shape\n",
    "    mV, nV = v >> shape\n",
    "    assert nA == mV\n",
    "    assert v >> isCol\n",
    "    answer = Matrix(mA, nV)\n",
    "    for j in nA >> offset.sequence_:\n",
    "        scalar = v[j][0]\n",
    "        answer = answer >> madd >> (A >> atCol >> j >> mtimes >> scalar)\n",
    "    return answer"
   ],
   "outputs": [],
   "execution_count": 6
  },
  {
   "cell_type": "code",
   "id": "42cd8ee3-6483-41a7-bc37-6dde0955d019",
   "metadata": {
    "ExecuteTime": {
     "end_time": "2025-05-26T12:23:06.561104Z",
     "start_time": "2025-05-26T12:23:06.558483Z"
    }
   },
   "source": [
    "A >> mulMatVec2 >> x >> PP;"
   ],
   "outputs": [
    {
     "name": "stdout",
     "output_type": "stream",
     "text": [
      "  8\n",
      " 10\n",
      " 17\n"
     ]
    }
   ],
   "execution_count": 7
  },
  {
   "cell_type": "markdown",
   "id": "7f4d393d-a7a1-40b9-8390-b0dd36af9a11",
   "metadata": {},
   "source": [
    "<br>\n",
    "\n",
    "### matrix times matrix"
   ]
  },
  {
   "cell_type": "code",
   "id": "80b54983-5ad4-4ecf-a0dd-0cfa1c7cae96",
   "metadata": {
    "ExecuteTime": {
     "end_time": "2025-05-26T12:23:06.567342Z",
     "start_time": "2025-05-26T12:23:06.562842Z"
    }
   },
   "source": [
    "B = [[3,4,6], [4,5,6]] >> toMatrix\n",
    "A >> mmul >> B >> PP;"
   ],
   "outputs": [
    {
     "name": "stdout",
     "output_type": "stream",
     "text": [
      " 18  23  30\n",
      " 22  28  36\n",
      " 37  47  60\n"
     ]
    }
   ],
   "execution_count": 8
  },
  {
   "cell_type": "code",
   "id": "39d5360e-cdf2-4d86-94de-aa52d1cebd6d",
   "metadata": {
    "ExecuteTime": {
     "end_time": "2025-05-26T12:23:06.572024Z",
     "start_time": "2025-05-26T12:23:06.568914Z"
    }
   },
   "source": [
    "# @coppertop(style=binary, module='notes.intuitive')\n",
    "@coppertop(style=binary)\n",
    "def mulMatMat3(A:Matrix, B:Matrix) -> Matrix:\n",
    "    mA, nA = A >> shape\n",
    "    mB, nB = B >> shape\n",
    "    assert nA == mB\n",
    "    answer = Matrix(mA, nB)\n",
    "    for i in nA >> offset.sequence_:\n",
    "        'outer:' >> PP\n",
    "        outerProduct = (A >> atCol >> i) >> outerProductCR >> (B >> atRow >> i) >> PP\n",
    "        'running:' >> PP\n",
    "        answer = answer >> madd >> outerProduct >> PP\n",
    "        \n",
    "    return answer"
   ],
   "outputs": [],
   "execution_count": 9
  },
  {
   "cell_type": "code",
   "id": "c7cb0a75-7045-4974-8aac-5790a9ab75a7",
   "metadata": {
    "ExecuteTime": {
     "end_time": "2025-05-26T12:23:06.576538Z",
     "start_time": "2025-05-26T12:23:06.573041Z"
    }
   },
   "source": [
    "A >> PP\n",
    "'' >> PP\n",
    "B >> PP\n",
    "'-----' >> PP\n",
    "A >> mulMatMat3 >> B;"
   ],
   "outputs": [
    {
     "name": "stdout",
     "output_type": "stream",
     "text": [
      "  2  3\n",
      "  2  4\n",
      "  3  7\n",
      "\n",
      "  3  4  6\n",
      "  4  5  6\n",
      "-----\n",
      "outer:\n",
      "  6  8  12\n",
      "  6  8  12\n",
      "  9  12  18\n",
      "running:\n",
      "  6  8  12\n",
      "  6  8  12\n",
      "  9  12  18\n",
      "outer:\n",
      " 12  15  18\n",
      " 16  20  24\n",
      " 28  35  42\n",
      "running:\n",
      " 18  23  30\n",
      " 22  28  36\n",
      " 37  47  60\n"
     ]
    }
   ],
   "execution_count": 10
  },
  {
   "cell_type": "markdown",
   "id": "64cf25e5-bfb2-43df-b4c5-5ea8717bc92b",
   "metadata": {},
   "source": [
    "<br>\n",
    "\n",
    "and potentially a little faster :)"
   ]
  },
  {
   "cell_type": "code",
   "id": "f258c141-8f88-40b5-bb0c-e386f524e730",
   "metadata": {
    "ExecuteTime": {
     "end_time": "2025-05-26T12:29:17.693897Z",
     "start_time": "2025-05-26T12:29:17.688526Z"
    }
   },
   "source": [
    "# @coppertop(style=binary, module='notes.intuitive')\n",
    "@coppertop(style=binary)\n",
    "def mulMatMat4(A:Matrix, B:Matrix) -> Matrix:\n",
    "    mA, nA = A >> shape\n",
    "    mB, nB = B >> shape\n",
    "    assert nA == mB\n",
    "    answer = Matrix(mA, nB) | +(mutable & maddResult)                                # answer can be destructively updated\n",
    "    for i in nA >> offset.sequence_:\n",
    "        'outer:' >> PP\n",
    "        outerProduct = (A >> atCol >> i) >> outerProductCR_ >> (B >> atRow >> i) >> PP  # use deferred outerProductCR_ to remove an allocation\n",
    "        'running:' >> PP\n",
    "        answer = answer >> madd >> outerProduct >> PP\n",
    "    return answer | -(mutable & maddResult)"
   ],
   "outputs": [],
   "execution_count": 35
  },
  {
   "cell_type": "code",
   "id": "e083c570-0f68-49e0-900b-3a520342aa58",
   "metadata": {
    "ExecuteTime": {
     "end_time": "2025-05-26T12:29:19.140102Z",
     "start_time": "2025-05-26T12:29:19.069159Z"
    }
   },
   "source": "A >> mulMatMat4 >> B ",
   "outputs": [
    {
     "name": "stdout",
     "output_type": "stream",
     "text": [
      "outer:\n",
      "<jones._punary object at 0x114836560>\n",
      "running:\n",
      "  6  8  12\n",
      "  6  8  12\n",
      "  9  12  18\n",
      "outer:\n",
      "<jones._punary object at 0x114836480>\n",
      "running:\n",
      " 18  23  30\n",
      " 22  28  36\n",
      " 37  47  60\n"
     ]
    },
    {
     "ename": "BTypeError",
     "evalue": "RHS is trying to subtract (mutable, maddResult) which isn't in the LHS py&matrix&t156&dseq&mutable&maddResult&rowmajor - mutable&maddResult",
     "output_type": "error",
     "traceback": [
      "\u001B[0;31m---------------------------------------------------------------------------\u001B[0m",
      "\u001B[0;31mBTypeError\u001B[0m                                Traceback (most recent call last)",
      "Cell \u001B[0;32mIn[36], line 1\u001B[0m\n\u001B[0;32m----> 1\u001B[0m \u001B[43mA\u001B[49m\u001B[43m \u001B[49m\u001B[38;5;241;43m>>\u001B[39;49m\u001B[43m \u001B[49m\u001B[43mmulMatMat4\u001B[49m\u001B[43m \u001B[49m\u001B[38;5;241;43m>>\u001B[39;49m\u001B[43m \u001B[49m\u001B[43mB\u001B[49m \n",
      "File \u001B[0;32m~/arwen/coppertop/src/coppertop/pipe.py:518\u001B[0m, in \u001B[0;36m_Dispatcher.__call__\u001B[0;34m(self, *args)\u001B[0m\n\u001B[1;32m    512\u001B[0m             raiseLess(ex, \u001B[38;5;28;01mTrue\u001B[39;00m)\n\u001B[1;32m    513\u001B[0m             \u001B[38;5;66;03m# argTs = [_ppType(argT) for argT in args]\u001B[39;00m\n\u001B[1;32m    514\u001B[0m             \u001B[38;5;66;03m# retT = _ppType(x.tRet)\u001B[39;00m\n\u001B[1;32m    515\u001B[0m             \u001B[38;5;66;03m# return f'({\",\".join(argTs)})->{retT} <{x.style.name}>  :   in {x.fullname}'\u001B[39;00m\n\u001B[1;32m    516\u001B[0m     \u001B[38;5;28;01melse\u001B[39;00m:\n\u001B[1;32m    517\u001B[0m         \u001B[38;5;66;03m# dispatchTime += time.perf_counter_ns() - t4; dispatchCount += 1\u001B[39;00m\n\u001B[0;32m--> 518\u001B[0m         ret \u001B[38;5;241m=\u001B[39m \u001B[43mfn\u001B[49m\u001B[38;5;241;43m.\u001B[39;49m\u001B[43mpyfn\u001B[49m\u001B[43m(\u001B[49m\u001B[38;5;241;43m*\u001B[39;49m\u001B[43margs\u001B[49m\u001B[43m)\u001B[49m\n\u001B[1;32m    519\u001B[0m         \u001B[38;5;66;03m# t5 = time.perf_counter_ns()\u001B[39;00m\n\u001B[1;32m    520\u001B[0m tRet \u001B[38;5;241m=\u001B[39m fn\u001B[38;5;241m.\u001B[39mtRet\n",
      "Cell \u001B[0;32mIn[35], line 13\u001B[0m, in \u001B[0;36mmulMatMat4\u001B[0;34m(A, B)\u001B[0m\n\u001B[1;32m     11\u001B[0m     \u001B[38;5;124m'\u001B[39m\u001B[38;5;124mrunning:\u001B[39m\u001B[38;5;124m'\u001B[39m \u001B[38;5;241m>>\u001B[39m PP\n\u001B[1;32m     12\u001B[0m     answer \u001B[38;5;241m=\u001B[39m answer \u001B[38;5;241m>>\u001B[39m madd \u001B[38;5;241m>>\u001B[39m outerProduct \u001B[38;5;241m>>\u001B[39m PP\n\u001B[0;32m---> 13\u001B[0m \u001B[38;5;28;01mreturn\u001B[39;00m \u001B[43manswer\u001B[49m\u001B[43m \u001B[49m\u001B[38;5;241;43m|\u001B[39;49m\u001B[43m \u001B[49m\u001B[38;5;241;43m-\u001B[39;49m\u001B[43m(\u001B[49m\u001B[43mmutable\u001B[49m\u001B[43m \u001B[49m\u001B[38;5;241;43m&\u001B[39;49m\u001B[43m \u001B[49m\u001B[43mmaddResult\u001B[49m\u001B[43m)\u001B[49m\n",
      "File \u001B[0;32m~/arwen/coppertop/src/bones/ts/_type_lang/jones_type_manager.py:711\u001B[0m, in \u001B[0;36m_SubtractStuff.__ror__\u001B[0;34m(self, instance)\u001B[0m\n\u001B[1;32m    709\u001B[0m a_, ab, b_, weakenings \u001B[38;5;241m=\u001B[39m _partitionIntersectionTLs(tlLhs, tlRhs)\n\u001B[1;32m    710\u001B[0m \u001B[38;5;28;01mif\u001B[39;00m b_:\n\u001B[0;32m--> 711\u001B[0m     \u001B[38;5;28;01mraise\u001B[39;00m BTypeError(\u001B[38;5;124mf\u001B[39m\u001B[38;5;124m'\u001B[39m\u001B[38;5;124mRHS is trying to subtract \u001B[39m\u001B[38;5;132;01m{\u001B[39;00mb_\u001B[38;5;132;01m}\u001B[39;00m\u001B[38;5;124m which isn\u001B[39m\u001B[38;5;130;01m\\'\u001B[39;00m\u001B[38;5;124mt in the LHS \u001B[39m\u001B[38;5;132;01m{\u001B[39;00mt\u001B[38;5;132;01m}\u001B[39;00m\u001B[38;5;124m - \u001B[39m\u001B[38;5;132;01m{\u001B[39;00m\u001B[38;5;28mself\u001B[39m\u001B[38;5;241m.\u001B[39mt\u001B[38;5;132;01m}\u001B[39;00m\u001B[38;5;124m'\u001B[39m)\n\u001B[1;32m    712\u001B[0m \u001B[38;5;28;01mif\u001B[39;00m \u001B[38;5;129;01mnot\u001B[39;00m ab:\n\u001B[1;32m    713\u001B[0m     \u001B[38;5;28;01mraise\u001B[39;00m ProgrammerError(\u001B[38;5;124mf\u001B[39m\u001B[38;5;124m'\u001B[39m\u001B[38;5;124mCan\u001B[39m\u001B[38;5;130;01m\\'\u001B[39;00m\u001B[38;5;124mt end up subtracting nothing\u001B[39m\u001B[38;5;124m'\u001B[39m)\n",
      "\u001B[0;31mBTypeError\u001B[0m: RHS is trying to subtract (mutable, maddResult) which isn't in the LHS py&matrix&t156&dseq&mutable&maddResult&rowmajor - mutable&maddResult"
     ]
    }
   ],
   "execution_count": 36
  },
  {
   "cell_type": "code",
   "id": "8a251b8c-1e65-4c39-8f44-638d7c3e2e6e",
   "metadata": {},
   "source": [
    "outerProductCR_(_,_)"
   ],
   "outputs": [],
   "execution_count": null
  },
  {
   "metadata": {},
   "cell_type": "code",
   "outputs": [],
   "execution_count": null,
   "source": "",
   "id": "33fdb00b05f95de9"
  }
 ],
 "metadata": {
  "kernelspec": {
   "display_name": "Python 3 (ipykernel)",
   "language": "python",
   "name": "python3"
  },
  "language_info": {
   "codemirror_mode": {
    "name": "ipython",
    "version": 3
   },
   "file_extension": ".py",
   "mimetype": "text/x-python",
   "name": "python",
   "nbconvert_exporter": "python",
   "pygments_lexer": "ipython3",
   "version": "3.11.0"
  }
 },
 "nbformat": 4,
 "nbformat_minor": 5
}
