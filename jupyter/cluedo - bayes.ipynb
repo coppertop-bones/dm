{
 "cells": [
  {
   "cell_type": "code",
   "id": "bb59e60b-2aef-4187-9d61-d3e5aebc0f23",
   "metadata": {
    "ExecuteTime": {
     "end_time": "2025-07-04T08:26:03.686774Z",
     "start_time": "2025-07-04T08:26:02.392354Z"
    }
   },
   "source": [
    "import numpy as np\n",
    "\n",
    "from coppertop.pipe import *\n",
    "from coppertop.dm.core.types import offset\n",
    "from coppertop.dm.core import kvs, first, values, drop, at, keys, shape, count, collect, pad, take\n",
    "from coppertop.dm.numpy import shape\n",
    "from coppertop.dm.core.types import pylist\n",
    "\n",
    "from coppertop.dm.examples.cluedo.core import *\n",
    "from coppertop.dm.examples.cluedo import simple\n",
    "from coppertop.dm.examples.cluedo import bayes_pad\n",
    "from coppertop.dm.examples.cluedo.bayes_pad import PP\n",
    "from coppertop.dm.examples.cluedo.games import games"
   ],
   "outputs": [],
   "execution_count": 1
  },
  {
   "metadata": {
    "ExecuteTime": {
     "end_time": "2025-07-04T08:26:04.480627Z",
     "start_time": "2025-07-04T08:26:04.477072Z"
    }
   },
   "cell_type": "code",
   "source": [
    "deal, preevents, events = games[13]\n",
    "# deal = {Pl: [St, Ki, Ha, Ca, Or], Gr: 5, Or: 4, Pe: 4}"
   ],
   "id": "ca0f9f7c4623341c",
   "outputs": [],
   "execution_count": 2
  },
  {
   "cell_type": "code",
   "id": "902d5327-3319-40e4-9b6a-f22ccd68f00d",
   "metadata": {
    "tags": [],
    "ExecuteTime": {
     "end_time": "2025-07-04T08:26:05.675907Z",
     "start_time": "2025-07-04T08:26:05.670698Z"
    }
   },
   "source": [
    "Me, hand = deal >> kvs >> first\n",
    "handSizes = [len(hand)] + list(deal >> values >> drop >> 1)\n",
    "knowns = [hand] + [[]] * (len(deal) - 1)\n",
    "\n",
    "f'{deal >> keys | pylist}' >> PP;"
   ],
   "outputs": [
    {
     "name": "stdout",
     "output_type": "stream",
     "text": [
      "[Pl, Gr, Or, Pe]\n"
     ]
    }
   ],
   "execution_count": 3
  },
  {
   "cell_type": "code",
   "id": "d8d5ffa6-45ad-49b1-b0b7-c92f2a1ed5d3",
   "metadata": {
    "tags": [],
    "ExecuteTime": {
     "end_time": "2025-07-04T08:26:13.238191Z",
     "start_time": "2025-07-04T08:26:09.166975Z"
    }
   },
   "source": "_.possMaster, slices = bayes_pad.createPossibilities(people, weapons, rooms, handSizes, knowns)",
   "outputs": [
    {
     "name": "stdout",
     "output_type": "stream",
     "text": [
      "nTBI:  150  nEachSet:  90090   nCols:  16  mem:  216.216MB\n",
      "zeros: 0.0007980000000000001  =0:  0.040130625\n"
     ]
    }
   ],
   "execution_count": 4
  },
  {
   "cell_type": "code",
   "id": "8474385d-eeaf-417c-8740-69543c13b121",
   "metadata": {
    "tags": [],
    "ExecuteTime": {
     "end_time": "2025-07-04T08:26:14.452114Z",
     "start_time": "2025-07-04T08:26:14.355775Z"
    }
   },
   "source": [
    "_.pads = {}\n",
    "_.events = []\n",
    "_.suggestId = 0\n",
    "_.otherPlayers = deal >> keys >> drop >> 1\n",
    "_.rowTitles = ([TBI] + _.otherPlayers) >> collect >> (lambda x: repr(x) >> pad(_,{'left':5}))\n",
    "_.knownCards = dict(zip(deal >> keys, knowns))\n",
    "_.ss = dict(zip([TBI, Me] + _.otherPlayers, slices))\n",
    "_.DEBUG = True\n",
    "\n",
    "s0, s1, s2, s3 = 1.05, 0.5, 0.25, 0.0\n",
    "\n",
    "_.poss = np.array(_.possMaster)\n",
    "_.l = np.ones(_.poss >> shape >> at >> (0 | offset))\n",
    "f'{(_.l >> count) * 8 / 1_000_000:,.1f} MB' >> PP;"
   ],
   "outputs": [
    {
     "name": "stdout",
     "output_type": "stream",
     "text": [
      "108.1 MB\n"
     ]
    }
   ],
   "execution_count": 5
  },
  {
   "metadata": {
    "ExecuteTime": {
     "end_time": "2025-07-04T08:26:16.864175Z",
     "start_time": "2025-07-04T08:26:16.858952Z"
    }
   },
   "cell_type": "code",
   "source": "# events = []",
   "id": "fa0851d39826b3e0",
   "outputs": [],
   "execution_count": 6
  },
  {
   "cell_type": "code",
   "execution_count": 104,
   "id": "37c27ef3-9c99-47ac-a12b-8ecc0d34b47b",
   "metadata": {
    "tags": []
   },
   "outputs": [
    {
     "name": "stdout",
     "output_type": "stream",
     "text": [
      "We know Orchid has {Ki}\n",
      "Orchid: 7 -> 2\n",
      "We know Mustard has {Di}\n",
      "Peacock: 21 -> 11\n",
      "We know Peacock has {Ha}\n",
      "We know Green has {Li}\n",
      "We know Orchid has {Bi}\n",
      "We know Orchid has {Bi}\n",
      "3300000\n",
      "6400000\n",
      "1010000\n",
      "55500000\n",
      "                                  Me          Mu          Gr          Or          Pe          \n",
      "Green            -         131%         -          ? 63%       ? 48%        ?          ? 19%  \n",
      "Mustard          X                      -           -           -           -           -     \n",
      "Orchid           -      S1 125%         -           -          ? 6%        ? 99%       ? 19%  \n",
      "Peacock          -                      X           -           -           -           -     \n",
      "Plum             -      S1 77%          -          ? 9%        ? 48%        ?          ? 19%  \n",
      "Scarlet          -                      X           -           -           -           -     \n",
      "----                                                                                          \n",
      "Candlestick      -                      X           -           -           -           -     \n",
      "Dagger           -                      X           -           -           -           -     \n",
      "Lead Pipe          2    S1           2  -        1  -        2  -        1  ?        2  -     \n",
      "Revolver           2    S1 90%          -        1  -           -           -       1  ? 90%  \n",
      "Rope               2    S2 0%           -        1  -           -       2  ? 0%         -     \n",
      "Wrench             5       131%         -          ? 63%       ? 48%        ?          ? 19%  \n",
      "----                                                                                          \n",
      "Ballroom         -                      -           -           X           -           -     \n",
      "Billiard Room    -                      -           -           -           X           -     \n",
      "Conservatory     -                      -           X           -           -           -     \n",
      "Dining Room      -                      -           X           -           -           -     \n",
      "Hall             -                      -           -           -           -           X     \n",
      "Kitchen          -                      -           -           -           X           -     \n",
      "Library          -                      -           -           X           -           -     \n",
      "Lounge             5       131%         -          ? 63%       ? 48%        ?          ? 19%  \n",
      "Study              2    S2 9%           -        1  -           -           -       2  ? 9%   \n"
     ]
    }
   ],
   "source": [
    "preevents = []\n",
    "like = {0:100, 1:10, 2:5, 3:0}\n",
    "bag = simple.createBag(Me, cards, {Mu: 4, Gr: 4, Or: 3, Pe: 3}) \\\n",
    "    >> figureKnown >> preevents + events \\\n",
    "    >> processResponses >> events2 \\\n",
    "    >> processSuggestions(_, _, like) >> events2\n",
    "bag >> PP;"
   ]
  },
  {
   "metadata": {},
   "cell_type": "code",
   "outputs": [
    {
     "name": "stdout",
     "output_type": "stream",
     "text": [
      "calcPad: #0, 6,056.3ms\n",
      "0: 13513500,  1: 0,  2: 0,  3: 0\n",
      "unchanged: 13513500, 216.2 MB\n",
      "9355500\n",
      "old: 13513500, 216.2 MB\n",
      "new: 4158000, 66.5 MB\n",
      "calcPad: #1, 2,501.0ms\n",
      "0: 2236500,  1: 1921500,  2: 226800,  3: 0\n",
      "unchanged: 4158000, 66.5 MB\n",
      "1921500\n",
      "old: 4158000, 66.5 MB\n",
      "new: 2236500, 35.8 MB\n",
      "update: <coppertop.dm.examples.cluedo.core.HasOne object at 0x11d970f50> has one of [Pe, Le, Ki]   (already has [])\n",
      "919800\n",
      "old: 2236500, 35.8 MB\n",
      "new: 1316700, 21.1 MB\n",
      "calcPad: #2, 495.6ms\n",
      "0: 916020,  1: 400680,  2: 0,  3: 0\n",
      "unchanged: 1316700, 21.1 MB\n",
      "283500\n",
      "old: 1316700, 21.1 MB\n",
      "new: 1033200, 16.5 MB\n",
      "0\n",
      "unchanged: 1033200, 16.5 MB\n",
      "calcPad: #3, 407.9ms\n",
      "0: 810180,  1: 223020,  2: 0,  3: 0\n",
      "unchanged: 1033200, 16.5 MB\n",
      "0\n",
      "unchanged: 1033200, 16.5 MB\n",
      "calcPad: #4, 434.0ms\n",
      "0: 1033200,  1: 0,  2: 0,  3: 0\n",
      "unchanged: 1033200, 16.5 MB\n",
      "681240\n",
      "old: 1033200, 16.5 MB\n",
      "new: 351960, 5.6 MB\n",
      "274260\n",
      "old: 351960, 5.6 MB\n",
      "new: 77700, 1.2 MB\n",
      "27300\n",
      "old: 77700, 1.2 MB\n",
      "new: 50400, 0.8 MB\n",
      "calcPad: #5, 20.4ms\n",
      "0: 0,  1: 50400,  2: 15960,  3: 0\n",
      "unchanged: 50400, 0.8 MB\n",
      "update: <coppertop.dm.examples.cluedo.core.HasOne object at 0x11d97b510> has one of [Sc, Da, Ba]   (already has [])\n",
      "31500\n",
      "old: 50400, 0.8 MB\n",
      "new: 18900, 0.3 MB\n",
      "calcPad: #6, 8.2ms\n",
      "0: 9675,  1: 9225,  2: 1030,  3: 0\n",
      "unchanged: 18900, 0.3 MB\n",
      "update: <coppertop.dm.examples.cluedo.core.HasOne object at 0x11d971390> has one of [Sc, Ro, Li]   (already has [])\n",
      "12195\n",
      "old: 18900, 0.3 MB\n",
      "new: 6705, 0.1 MB\n",
      "calcPad: #7, 3.0ms\n",
      "0: 2375,  1: 4330,  2: 470,  3: 0\n",
      "unchanged: 6705, 0.1 MB\n",
      "0\n",
      "unchanged: 6705, 0.1 MB\n",
      "update: <coppertop.dm.examples.cluedo.core.HasOne object at 0x11d970310> has one of [Sc, Re, Li]   (already has [])\n",
      "3995\n",
      "old: 6705, 0.1 MB\n",
      "new: 2710, 0.0 MB\n",
      "calcPad: #8, 1.5ms\n",
      "0: 2710,  1: 0,  2: 0,  3: 0\n",
      "unchanged: 2710, 0.0 MB\n",
      "420\n",
      "old: 2710, 0.0 MB\n",
      "new: 2290, 0.0 MB\n",
      "540\n",
      "old: 2290, 0.0 MB\n",
      "new: 1750, 0.0 MB\n",
      "220\n",
      "old: 1750, 0.0 MB\n",
      "new: 1530, 0.0 MB\n",
      "calcPad: #9, 1.1ms\n",
      "0: 1530,  1: 0,  2: 0,  3: 0\n",
      "unchanged: 1530, 0.0 MB\n",
      "0\n",
      "unchanged: 1530, 0.0 MB\n",
      "0\n",
      "unchanged: 1530, 0.0 MB\n",
      "0\n",
      "unchanged: 1530, 0.0 MB\n",
      "calcPad: #10, 1.1ms\n",
      "0: 1530,  1: 0,  2: 0,  3: 0\n",
      "unchanged: 1530, 0.0 MB\n",
      "0\n",
      "unchanged: 1530, 0.0 MB\n",
      "0\n",
      "unchanged: 1530, 0.0 MB\n",
      "calcPad: #11, 1.1ms\n",
      "0: 1020,  1: 510,  2: 0,  3: 0\n",
      "unchanged: 1530, 0.0 MB\n",
      "0\n",
      "unchanged: 1530, 0.0 MB\n",
      "calcPad: #12, 2.1ms\n",
      "0: 1530,  1: 0,  2: 0,  3: 0\n",
      "unchanged: 1530, 0.0 MB\n",
      "486\n",
      "old: 1530, 0.0 MB\n",
      "new: 1044, 0.0 MB\n",
      "462\n",
      "old: 1044, 0.0 MB\n",
      "new: 582, 0.0 MB\n",
      "calcPad: #13, 1.2ms\n",
      "0: 375,  1: 207,  2: 0,  3: 0\n",
      "unchanged: 582, 0.0 MB\n",
      "162\n",
      "old: 582, 0.0 MB\n",
      "new: 420, 0.0 MB\n",
      "117\n",
      "old: 420, 0.0 MB\n",
      "new: 303, 0.0 MB\n",
      "0\n",
      "unchanged: 303, 0.0 MB\n",
      "calcPad: #14, 1.0ms\n"
     ]
    }
   ],
   "execution_count": 7,
   "source": "events >> bayes_pad.processEvents(_, s0, s1, s2, s3)",
   "id": "57e347cbeb6bf015"
  },
  {
   "metadata": {},
   "cell_type": "code",
   "outputs": [
    {
     "name": "stdout",
     "output_type": "stream",
     "text": [
      "        Gr     Mu     Or     Pe     Pl     Sc     Ca     Da     Le     Re     Ro     Wr     Ba     Bi     Co     Di     Ha     Ki     Li     Lo     St     \n",
      "TBI      -      -      -      -      -   100.0%    -      -      -      -      -   100.0%    -    12.9%  52.7%  12.9%    -      -     8.6%  12.9%    -  \n",
      "Gr     36.0%  36.0%    -    65.5%  36.0%    -      -   100.0%    -    68.2%  10.8%    -      -    31.1%    -    31.1%    -      -    54.5%  31.1%    -  \n",
      "Or     44.9%  44.9%    -      -    44.9%    -      -      -      -    29.1%   6.6%    -   100.0%  38.6%    -    38.6%    -      -    13.9%  38.6%    -  \n",
      "Pe     19.2%  19.2%    -    34.5%  19.2%    -      -      -   100.0%   2.7%  82.6%    -      -    17.4%  47.3%  17.4%    -      -    23.0%  17.4%    -  \n",
      "\n",
      "        Gr     Mu     Or     Pe     Pl     Sc     Ca     Da     Le     Re     Ro     Wr     Ba     Bi     Co     Di     Ha     Ki     Li     Lo     St     \n",
      "TBI      -      -      -      -      -   100.0%    -      -      -      -      -   100.0%    -    16.2%  56.4%    -      -      -    11.2%  16.2%    -  \n",
      "Gr     42.1%  42.1%    -    64.6%  42.1%    -      -   100.0%    -    73.8%  12.8%    -      -    34.8%    -      -      -      -    53.0%  34.8%    -  \n",
      "Or     34.7%  34.7%    -      -    34.7%    -      -      -      -    22.9%   5.2%    -   100.0%  28.5%    -   100.0%    -      -    10.9%  28.5%    -  \n",
      "Pe     23.2%  23.2%    -    35.4%  23.2%    -      -      -   100.0%   3.3%  82.0%    -      -    20.6%  43.6%    -      -      -    24.9%  20.6%    -  \n",
      "\n",
      "        Gr     Mu     Or     Pe     Pl     Sc     Ca     Da     Le     Re     Ro     Wr     Ba     Bi     Co     Di     Ha     Ki     Li     Lo     St     \n",
      "TBI      -      -      -      -      -   100.0%    -      -      -      -      -   100.0%    -    10.7%  32.5%    -      -      -     7.3%  49.5%    -  \n",
      "Gr     38.2%  38.2%    -    63.1%  38.2%    -      -   100.0%    -    69.9%  12.0%    -      -    34.6%    -      -      -      -    55.2%  50.5%    -  \n",
      "Or     39.7%  39.7%    -      -    39.7%    -      -      -      -    27.0%   6.1%    -   100.0%  34.7%    -   100.0%    -      -    12.9%    -      -  \n",
      "Pe     22.0%  22.0%    -    36.9%  22.0%    -      -      -   100.0%   3.1%  81.9%    -      -    20.0%  67.5%    -      -      -    24.6%    -      -  \n"
     ]
    }
   ],
   "execution_count": 50,
   "source": [
    "-3 >> bayes_pad.printBayesPad\n",
    "'' >> PP\n",
    "-2 >> bayes_pad.printBayesPad\n",
    "'' >> PP\n",
    "-1 >> bayes_pad.printBayesPad"
   ],
   "id": "8873134ce2e00dea"
  },
  {
   "cell_type": "code",
   "execution_count": null,
   "id": "65e16ed8-3c7b-4d3a-aba5-50902134bf26",
   "metadata": {},
   "outputs": [],
   "source": []
  }
 ],
 "metadata": {
  "kernelspec": {
   "display_name": "Python 3 (ipykernel)",
   "language": "python",
   "name": "python3"
  },
  "language_info": {
   "codemirror_mode": {
    "name": "ipython",
    "version": 3
   },
   "file_extension": ".py",
   "mimetype": "text/x-python",
   "name": "python",
   "nbconvert_exporter": "python",
   "pygments_lexer": "ipython3",
   "version": "3.11.0"
  }
 },
 "nbformat": 4,
 "nbformat_minor": 5
}
