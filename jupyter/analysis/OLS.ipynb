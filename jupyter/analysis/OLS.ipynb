{
 "cells": [
  {
   "cell_type": "markdown",
   "metadata": {},
   "source": [
    "## PURPOSE\n",
    "\n",
    "To relate the mathematical and statistical side of OLS. Let's see if coppertop-bones helps make it clearer.\n",
    "\n",
    "*Concepts to become familiar with...* \\\n",
    "Measurement - what does it mean to measure? how do we measure? A few lines from a qualitative researcher giving TED talk  - https://youtu.be/X4Qm9cGRub0?t=58, https://youtu.be/X4Qm9cGRub0?t=101, https://youtu.be/X4Qm9cGRub0?t=429, https://www.youtube.com/watch?v=X4Qm9cGRub0, https://youtu.be/X4Qm9cGRub0?t=649.\n"
   ]
  },
  {
   "cell_type": "code",
   "execution_count": 1,
   "metadata": {},
   "outputs": [
    {
     "ename": "ImportError",
     "evalue": "cannot import name 'tvarray' from 'bones.lang.structs' (/Users/david/arwen/IR/minc/coppertop/src/bones/lang/structs.py)",
     "output_type": "error",
     "traceback": [
      "\u001b[0;31m---------------------------------------------------------------------------\u001b[0m",
      "\u001b[0;31mImportError\u001b[0m                               Traceback (most recent call last)",
      "Cell \u001b[0;32mIn[1], line 7\u001b[0m\n\u001b[1;32m      3\u001b[0m \u001b[38;5;28;01mfrom\u001b[39;00m \u001b[38;5;21;01mcoppertop\u001b[39;00m\u001b[38;5;21;01m.\u001b[39;00m\u001b[38;5;21;01mpipe\u001b[39;00m \u001b[38;5;28;01mimport\u001b[39;00m \u001b[38;5;241m*\u001b[39m\n\u001b[1;32m      5\u001b[0m \u001b[38;5;66;03m# from dm.core.types import N, num, Nm, Nn\u001b[39;00m\n\u001b[1;32m      6\u001b[0m \u001b[38;5;66;03m# from bones.ts.metatypes import BType, S\u001b[39;00m\n\u001b[0;32m----> 7\u001b[0m \u001b[38;5;28;01mfrom\u001b[39;00m \u001b[38;5;21;01mbones\u001b[39;00m\u001b[38;5;21;01m.\u001b[39;00m\u001b[38;5;21;01mlang\u001b[39;00m\u001b[38;5;21;01m.\u001b[39;00m\u001b[38;5;21;01mstructs\u001b[39;00m \u001b[38;5;28;01mimport\u001b[39;00m tvarray\n\u001b[1;32m      8\u001b[0m \u001b[38;5;28;01mimport\u001b[39;00m \u001b[38;5;21;01mdm\u001b[39;00m\u001b[38;5;21;01m.\u001b[39;00m\u001b[38;5;21;01mpp\u001b[39;00m\u001b[38;5;241m,\u001b[39m \u001b[38;5;21;01mdm\u001b[39;00m\u001b[38;5;21;01m.\u001b[39;00m\u001b[38;5;21;01mlinalg\u001b[39;00m\u001b[38;5;21;01m.\u001b[39;00m\u001b[38;5;21;01mcore\u001b[39;00m\u001b[38;5;241m,\u001b[39m \u001b[38;5;21;01mdm\u001b[39;00m\u001b[38;5;21;01m.\u001b[39;00m\u001b[38;5;21;01mtesting\u001b[39;00m\n\u001b[1;32m      9\u001b[0m \u001b[38;5;28;01mfrom\u001b[39;00m \u001b[38;5;21;01mdm\u001b[39;00m\u001b[38;5;21;01m.\u001b[39;00m\u001b[38;5;21;01mlinalg\u001b[39;00m\u001b[38;5;21;01m.\u001b[39;00m\u001b[38;5;21;01mtypes\u001b[39;00m \u001b[38;5;28;01mimport\u001b[39;00m matrix\n",
      "\u001b[0;31mImportError\u001b[0m: cannot import name 'tvarray' from 'bones.lang.structs' (/Users/david/arwen/IR/minc/coppertop/src/bones/lang/structs.py)"
     ]
    }
   ],
   "source": [
    "import numpy, scipy\n",
    "\n",
    "from coppertop.pipe import *\n",
    "\n",
    "# from dm.core.types import N, num, Nm, Nn\n",
    "# from bones.ts.metatypes import BType, S\n",
    "from bones.lang.structs import tvarray\n",
    "import dm.pp, dm.linalg.core, dm.testing\n",
    "from dm.linalg.types import matrix\n",
    "from _ import *\n",
    "\n",
    "matrix_ = matrix[tvarray].setPP('M')"
   ]
  },
  {
   "cell_type": "markdown",
   "metadata": {},
   "source": [
    "#### Solve A.x = b using QR decomposition\n",
    "\n",
    "```\n",
    "A.x = b\n",
    "Q.R.x = b\n",
    "Q'.Q.R.x = Q'.b but Q'.Q = I    Q is orthogonal, R is upper right\n",
    "R.x = Q'.b\n",
    "```"
   ]
  },
  {
   "cell_type": "code",
   "execution_count": 2,
   "metadata": {},
   "outputs": [
    {
     "ename": "NameError",
     "evalue": "name 'to' is not defined",
     "output_type": "error",
     "traceback": [
      "\u001b[0;31m---------------------------------------------------------------------------\u001b[0m",
      "\u001b[0;31mNameError\u001b[0m                                 Traceback (most recent call last)",
      "Cell \u001b[0;32mIn[2], line 1\u001b[0m\n\u001b[0;32m----> 1\u001b[0m A \u001b[38;5;241m=\u001b[39m [[\u001b[38;5;241m1\u001b[39m, \u001b[38;5;241m2\u001b[39m], [\u001b[38;5;241m3\u001b[39m, \u001b[38;5;241m5\u001b[39m]] \u001b[38;5;241m>>\u001b[39m \u001b[43mto\u001b[49m \u001b[38;5;241m>>\u001b[39m matrix_\n\u001b[1;32m      2\u001b[0m b \u001b[38;5;241m=\u001b[39m [\u001b[38;5;241m1\u001b[39m, \u001b[38;5;241m2\u001b[39m] \u001b[38;5;241m>>\u001b[39m to \u001b[38;5;241m>>\u001b[39m matrix_\n\u001b[1;32m      3\u001b[0m qr \u001b[38;5;241m=\u001b[39m A \u001b[38;5;241m>>\u001b[39m dm\u001b[38;5;241m.\u001b[39mlinalg\u001b[38;5;241m.\u001b[39mnp\u001b[38;5;241m.\u001b[39mqr\n",
      "\u001b[0;31mNameError\u001b[0m: name 'to' is not defined"
     ]
    }
   ],
   "source": [
    "A = [[1, 2], [3, 5]] >> to >> matrix_\n",
    "b = [1, 2] >> to >> matrix_\n",
    "qr = A >> dm.linalg.np.qr\n",
    "x = qr.r >> dm.linalg.solve >> (qr.q.T @ b)\n",
    "\n",
    "A @ x >> check >> numpy.allclose >> b\n",
    "[A @ b, b >> typeOf, x]"
   ]
  },
  {
   "cell_type": "code",
   "execution_count": 3,
   "metadata": {},
   "outputs": [
    {
     "data": {
      "text/plain": [
       "M([[1 2]\n",
       " [3 5]])"
      ]
     },
     "execution_count": 3,
     "metadata": {},
     "output_type": "execute_result"
    }
   ],
   "source": [
    "A"
   ]
  },
  {
   "cell_type": "code",
   "execution_count": 4,
   "metadata": {},
   "outputs": [
    {
     "data": {
      "text/plain": [
       "M([[1 3]\n",
       " [2 4]])"
      ]
     },
     "execution_count": 4,
     "metadata": {},
     "output_type": "execute_result"
    }
   ],
   "source": [
    "[[1, 2], [3, 4]] >> to >> matrix_ >> T"
   ]
  },
  {
   "cell_type": "code",
   "execution_count": 5,
   "metadata": {},
   "outputs": [],
   "source": [
    "a = [[1,2],[3,4]] >> to >> matrix_\n",
    "b = [1,2] >> to >> matrix_\n",
    "\n",
    "# conclusion | should be a type coercion operator not a constructor nor a convertor"
   ]
  },
  {
   "cell_type": "code",
   "execution_count": 6,
   "metadata": {},
   "outputs": [],
   "source": [
    "@coppertop(style=binary)\n",
    "def mul(a:matrix_, b:matrix_) -> matrix_:\n",
    "    return a @ b\n"
   ]
  },
  {
   "cell_type": "code",
   "execution_count": 7,
   "metadata": {},
   "outputs": [
    {
     "data": {
      "text/plain": [
       "M([[ 5]\n",
       " [11]])"
      ]
     },
     "execution_count": 7,
     "metadata": {},
     "output_type": "execute_result"
    }
   ],
   "source": [
    "a >> mul >> b"
   ]
  },
  {
   "cell_type": "code",
   "execution_count": 8,
   "metadata": {},
   "outputs": [
    {
     "data": {
      "text/plain": [
       "array([[0.33465762, 0.12478118, 0.01767288, ..., 0.21635316, 0.57779763,\n",
       "        0.15680313],\n",
       "       [0.17605664, 0.96496247, 0.64223147, ..., 0.68316978, 0.82156004,\n",
       "        0.3150869 ],\n",
       "       [0.01762648, 0.09279127, 0.98013694, ..., 0.33242808, 0.93488947,\n",
       "        0.38159252],\n",
       "       ...,\n",
       "       [0.474239  , 0.86305896, 0.7866039 , ..., 0.65809344, 0.83189771,\n",
       "        0.36204261],\n",
       "       [0.22107907, 0.26358017, 0.276704  , ..., 0.46868001, 0.4026032 ,\n",
       "        0.93944553],\n",
       "       [0.9865297 , 0.41226973, 0.81011981, ..., 0.3396135 , 0.22967277,\n",
       "        0.62588579]])"
      ]
     },
     "execution_count": 8,
     "metadata": {},
     "output_type": "execute_result"
    }
   ],
   "source": [
    "numpy.random.uniform(size=(100,100))"
   ]
  },
  {
   "cell_type": "code",
   "execution_count": 9,
   "metadata": {
    "tags": []
   },
   "outputs": [],
   "source": [
    "# numpy.random >> HH"
   ]
  },
  {
   "cell_type": "code",
   "execution_count": 10,
   "metadata": {},
   "outputs": [
    {
     "data": {
      "text/plain": [
       "'[[0.55 0.98 0.75 ... 0.33 0.52 0.16]\\n [0.12 0.87 0.62 ... 0.47 0.46 0.94]\\n [0.30 0.93 0.21 ... 0.64 0.31 0.55]\\n ...\\n [0.32 0.92 0.11 ... 0.85 0.04 0.22]\\n [0.75 0.15 0.23 ... 0.77 0.79 0.34]\\n [0.18 0.97 0.52 ... 0.32 0.05 0.36]]'"
      ]
     },
     "execution_count": 10,
     "metadata": {},
     "output_type": "execute_result"
    }
   ],
   "source": [
    "numpy.array2string(numpy.random.uniform(size=(100,100)), precision=2, floatmode='fixed')"
   ]
  },
  {
   "cell_type": "code",
   "execution_count": 11,
   "metadata": {
    "tags": []
   },
   "outputs": [],
   "source": [
    "# numpy.array2string >> HH"
   ]
  },
  {
   "cell_type": "code",
   "execution_count": 12,
   "metadata": {},
   "outputs": [
    {
     "data": {
      "text/plain": [
       "M"
      ]
     },
     "execution_count": 12,
     "metadata": {},
     "output_type": "execute_result"
    }
   ],
   "source": [
    "(a @ numpy.array([[1,2], [3,4]]))._t"
   ]
  },
  {
   "cell_type": "code",
   "execution_count": 13,
   "metadata": {},
   "outputs": [
    {
     "data": {
      "text/plain": [
       "M"
      ]
     },
     "execution_count": 13,
     "metadata": {},
     "output_type": "execute_result"
    }
   ],
   "source": [
    "(a @ b)._t"
   ]
  },
  {
   "cell_type": "code",
   "execution_count": null,
   "metadata": {},
   "outputs": [],
   "source": []
  },
  {
   "cell_type": "markdown",
   "metadata": {},
   "source": [
    "#### OLS - Normal equations\n",
    "\n",
    "```\n",
    "XT.X.B = XT.Y\n",
    "```\n",
    "\n",
    "<br>\n",
    "\n",
    "### OLS Example\n",
    "\n",
    "#### Generate some random data"
   ]
  },
  {
   "cell_type": "code",
   "execution_count": 14,
   "metadata": {},
   "outputs": [],
   "source": [
    "#lhs = X >> TT @ X\n"
   ]
  },
  {
   "cell_type": "code",
   "execution_count": 15,
   "metadata": {},
   "outputs": [
    {
     "data": {
      "text/plain": [
       "numpy.random._generator.Generator"
      ]
     },
     "execution_count": 15,
     "metadata": {},
     "output_type": "execute_result"
    }
   ],
   "source": [
    "rng = numpy.random.default_rng()\n",
    "rng >> typeOf"
   ]
  },
  {
   "cell_type": "markdown",
   "metadata": {},
   "source": [
    "#### Do fit"
   ]
  },
  {
   "cell_type": "code",
   "execution_count": null,
   "metadata": {},
   "outputs": [],
   "source": []
  },
  {
   "cell_type": "markdown",
   "metadata": {},
   "source": [
    "#### Check stats"
   ]
  },
  {
   "cell_type": "code",
   "execution_count": null,
   "metadata": {},
   "outputs": [],
   "source": []
  },
  {
   "cell_type": "code",
   "execution_count": null,
   "metadata": {},
   "outputs": [],
   "source": []
  },
  {
   "cell_type": "code",
   "execution_count": null,
   "metadata": {},
   "outputs": [],
   "source": []
  },
  {
   "cell_type": "code",
   "execution_count": null,
   "metadata": {},
   "outputs": [],
   "source": []
  }
 ],
 "metadata": {
  "kernelspec": {
   "display_name": "Python 3 (ipykernel)",
   "language": "python",
   "name": "python3"
  },
  "language_info": {
   "codemirror_mode": {
    "name": "ipython",
    "version": 3
   },
   "file_extension": ".py",
   "mimetype": "text/x-python",
   "name": "python",
   "nbconvert_exporter": "python",
   "pygments_lexer": "ipython3",
   "version": "3.11.0"
  }
 },
 "nbformat": 4,
 "nbformat_minor": 4
}
