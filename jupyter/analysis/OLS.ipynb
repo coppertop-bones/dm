{
 "cells": [
  {
   "cell_type": "markdown",
   "metadata": {},
   "source": [
    "## PURPOSE\n",
    "\n",
    "To relate the mathematical and statistical side of OLS. Let's see if coppertop-bones helps make it clearer.\n",
    "\n",
    "*Concepts to become familiar with...* \\\n",
    "Measurement - what does it mean to measure? how do we measure? A few lines from a qualitative researcher giving TED talk  - https://youtu.be/X4Qm9cGRub0?t=58, https://youtu.be/X4Qm9cGRub0?t=101, https://youtu.be/X4Qm9cGRub0?t=429, https://www.youtube.com/watch?v=X4Qm9cGRub0, https://youtu.be/X4Qm9cGRub0?t=649.\n"
   ]
  },
  {
   "cell_type": "code",
   "execution_count": 1,
   "metadata": {},
   "source": [
    "import numpy, scipy\n",
    "\n",
    "from coppertop.pipe import *\n",
    "\n",
    "# from dm.core.types import N, num, Nm, Nn\n",
    "# from bones.ts.metatypes import BType, S\n",
    "from bones.lang.structs import tvarray\n",
    "import dm.pp, dm.linalg.core, dm.testing\n",
    "from dm.linalg.types import matrix\n",
    "from _ import *\n",
    "\n",
    "matrix_ = matrix[tvarray].setPP('M')"
   ],
   "outputs": []
  },
  {
   "cell_type": "markdown",
   "metadata": {},
   "source": [
    "#### Solve A.x = b using QR decomposition\n",
    "\n",
    "```\n",
    "A.x = b\n",
    "Q.R.x = b\n",
    "Q'.Q.R.x = Q'.b but Q'.Q = I    Q is orthogonal, R is upper right\n",
    "R.x = Q'.b\n",
    "```"
   ]
  },
  {
   "cell_type": "code",
   "execution_count": 2,
   "metadata": {},
   "source": [
    "A = [[1, 2], [3, 5]] >> to >> matrix_\n",
    "b = [1, 2] >> to >> matrix_\n",
    "qr = A >> dm.linalg.np.qr\n",
    "x = qr.r >> dm.linalg.solve >> (qr.q.T @ b)\n",
    "\n",
    "A @ x >> check >> numpy.allclose >> b\n",
    "[A @ b, b >> typeOf, x]"
   ],
   "outputs": []
  },
  {
   "cell_type": "code",
   "execution_count": 3,
   "metadata": {},
   "source": [
    "A"
   ],
   "outputs": []
  },
  {
   "cell_type": "code",
   "execution_count": 4,
   "metadata": {},
   "source": [
    "[[1, 2], [3, 4]] >> to >> matrix_ >> T"
   ],
   "outputs": []
  },
  {
   "cell_type": "code",
   "execution_count": 5,
   "metadata": {},
   "source": [
    "a = [[1,2],[3,4]] >> to >> matrix_\n",
    "b = [1,2] >> to >> matrix_\n",
    "\n",
    "# conclusion | should be a type coercion operator not a constructor nor a convertor"
   ],
   "outputs": []
  },
  {
   "cell_type": "code",
   "execution_count": 6,
   "metadata": {},
   "source": [
    "@coppertop(style=binary)\n",
    "def mul(a:matrix_, b:matrix_) -> matrix_:\n",
    "    return a @ b\n"
   ],
   "outputs": []
  },
  {
   "cell_type": "code",
   "execution_count": 7,
   "metadata": {},
   "source": [
    "a >> mul >> b"
   ],
   "outputs": []
  },
  {
   "cell_type": "code",
   "execution_count": 8,
   "metadata": {},
   "source": [
    "numpy.random.uniform(size=(100,100))"
   ],
   "outputs": []
  },
  {
   "cell_type": "code",
   "execution_count": 9,
   "metadata": {
    "tags": []
   },
   "source": [
    "# numpy.random >> HH"
   ],
   "outputs": []
  },
  {
   "cell_type": "code",
   "execution_count": 10,
   "metadata": {},
   "source": [
    "numpy.array2string(numpy.random.uniform(size=(100,100)), precision=2, floatmode='fixed')"
   ],
   "outputs": []
  },
  {
   "cell_type": "code",
   "execution_count": 11,
   "metadata": {
    "tags": []
   },
   "source": [
    "# numpy.array2string >> HH"
   ],
   "outputs": []
  },
  {
   "cell_type": "code",
   "execution_count": 12,
   "metadata": {},
   "source": [
    "(a @ numpy.array([[1,2], [3,4]]))._t"
   ],
   "outputs": []
  },
  {
   "cell_type": "code",
   "execution_count": 13,
   "metadata": {},
   "source": [
    "(a @ b)._t"
   ],
   "outputs": []
  },
  {
   "cell_type": "code",
   "execution_count": null,
   "metadata": {},
   "source": [],
   "outputs": []
  },
  {
   "cell_type": "markdown",
   "metadata": {},
   "source": [
    "#### OLS - Normal equations\n",
    "\n",
    "```\n",
    "XT.X.B = XT.Y\n",
    "```\n",
    "\n",
    "<br>\n",
    "\n",
    "### OLS Example\n",
    "\n",
    "#### Generate some random data"
   ]
  },
  {
   "cell_type": "code",
   "execution_count": 14,
   "metadata": {},
   "source": [
    "#lhs = X >> TT @ X\n"
   ],
   "outputs": []
  },
  {
   "cell_type": "code",
   "execution_count": 15,
   "metadata": {},
   "source": [
    "rng = numpy.random.default_rng()\n",
    "rng >> typeOf"
   ],
   "outputs": []
  },
  {
   "cell_type": "markdown",
   "metadata": {},
   "source": [
    "#### Do fit"
   ]
  },
  {
   "cell_type": "code",
   "execution_count": null,
   "metadata": {},
   "source": [],
   "outputs": []
  },
  {
   "cell_type": "markdown",
   "metadata": {},
   "source": [
    "#### Check stats"
   ]
  },
  {
   "cell_type": "code",
   "execution_count": null,
   "metadata": {},
   "source": [],
   "outputs": []
  },
  {
   "cell_type": "code",
   "execution_count": null,
   "metadata": {},
   "source": [],
   "outputs": []
  },
  {
   "cell_type": "code",
   "execution_count": null,
   "metadata": {},
   "source": [],
   "outputs": []
  },
  {
   "cell_type": "code",
   "execution_count": null,
   "metadata": {},
   "source": [],
   "outputs": []
  }
 ],
 "metadata": {
  "kernelspec": {
   "display_name": "Python 3 (ipykernel)",
   "language": "python",
   "name": "python3"
  },
  "language_info": {
   "codemirror_mode": {
    "name": "ipython",
    "version": 3
   },
   "file_extension": ".py",
   "mimetype": "text/x-python",
   "name": "python",
   "nbconvert_exporter": "python",
   "pygments_lexer": "ipython3",
   "version": "3.11.0"
  }
 },
 "nbformat": 4,
 "nbformat_minor": 4
}
