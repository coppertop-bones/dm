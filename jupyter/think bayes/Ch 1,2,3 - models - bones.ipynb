{
 "cells": [
  {
   "cell_type": "code",
   "execution_count": 1,
   "metadata": {},
   "source": [
    "load dm.pmf\n",
    "load dm.core\n",
    "//from dm.pmf import toPMF, toL, normalise\n",
    "from dm.core import PP, *, /"
   ],
   "outputs": []
  },
  {
   "cell_type": "markdown",
   "metadata": {},
   "source": [
    "<br>\n",
    "\n",
    "#### Bayes Refresher\n",
    "\n",
    "from PROP 3\n",
    "$$\n",
    "\\begin{align}\n",
    "\\mathbf{P}\\left(B \\cap A\\right) = \\mathbf{P}\\left(B\\mathbin{\\vert}A\\right)\\cdot \\mathbf{P}\\left(A\\right)\\\\\n",
    "\\end{align}\n",
    "$$\n",
    "\n",
    "and obviously\n",
    "$$\\mathbf{P}(A \\cap B) = \\mathbf{P}(B \\cap A)$$\n",
    "\n",
    "so\n",
    "$$\n",
    "\\begin{align}\n",
    "\\mathbf{P}( A\\mathbin{\\vert}B) \\cdot \\mathbf{P}(B)=\\mathbf{P}(B\\mathbin{\\vert}A)\\cdot \\mathbf{P}(A)\n",
    "\\end{align}\n",
    "$$\n",
    "\n",
    "aka\n",
    "$$\n",
    "\\begin{align}\n",
    "\\mathbf{P}( hypothesis\\mathbin{\\vert}data) \\cdot \\mathbf{P}(data)=\\mathbf{P}(data\\mathbin{\\vert}hypothesis)\\cdot \\mathbf{P}(hypothesis)\n",
    "\\end{align}\n",
    "$$\n",
    "\n",
    "Comtemporaneous (look it up) version, i.e. after some data is known\n",
    "$$\n",
    "\\begin{align}\n",
    "posterior =likelihood\\cdot prior \\cdot constant\n",
    "\\end{align}\n",
    "$$"
   ]
  },
  {
   "cell_type": "markdown",
   "metadata": {},
   "source": [
    "<br>\n",
    "\n",
    "#### 1.6 The M&M Problem\n",
    "\n",
    "M&M’s are small candy-coated chocolates that come in a variety of colors.\n",
    "Mars, Inc., which makes M&M’s, changes the mixture of colors from time\n",
    "to time.\n",
    "\n",
    "In 1995, they introduced blue M&M’s. Before then, the color mix in a bag\n",
    "of plain M&M’s was 30% Brown, 20% Yellow, 20% Red, 10% Green, 10%\n",
    "Orange, 10% Tan. Afterward it was 24% Blue , 20% Green, 16% Orange,\n",
    "14% Yellow, 13% Red, 13% Brown.\n",
    "\n",
    "Suppose a friend of mine has two bags of M&M’s, and he tells me that one\n",
    "is from 1994 and one from 1996. He won’t tell me which is which, but he\n",
    "gives me one M&M from each bag. One is yellow and one is green. What is\n",
    "the probability that the yellow one came from the 1994 bag?"
   ]
  },
  {
   "cell_type": "code",
   "execution_count": 2,
   "metadata": {},
   "source": [
    "//%%module m_n_ms inherit scratch\n",
    "\n",
    "bag1994: {Brown:30, Yellow:20, Red:20, Green:10, Orange:10, Tan:10} toPMF PP\n",
    "bag1996: {Brown:13, Yellow:14, Red:13, Green:20, Orange:16, Blue:24} toPMF PP."
   ],
   "outputs": []
  },
  {
   "cell_type": "markdown",
   "metadata": {},
   "source": [
    "hypA -> yellow is from 1994, green is from 1996\\\n",
    "hypB -> green is from 1994, yellow is from 1996"
   ]
  },
  {
   "cell_type": "code",
   "execution_count": 3,
   "metadata": {},
   "source": [
    "//%%module m_n_ms\n",
    "\n",
    "prior: {hypA:0.5, hypB:0.5} toPMF PP\n",
    "\n",
    "likelihood: {\n",
    "    hypA:bag1994.Yellow * bag1996.Green, \n",
    "    hypB:bag1994.Green * bag1996.Yellow\n",
    "} toL PP\n",
    "\n",
    "post: prior * likelihood normalise PP\n",
    "\n",
    "20/27"
   ],
   "outputs": []
  },
  {
   "cell_type": "markdown",
   "metadata": {},
   "source": [
    "<br>\n",
    "\n",
    "#### 1.7 The Monty Hall problem\n",
    "\n",
    "Monty Hall was the original host of the game show Let’s Make a Deal. The\n",
    "Monty Hall problem is based on one of the regular games on the show. If\n",
    "you are on the show, here’s what happens:\n",
    "\n",
    "• Monty shows you three closed doors and tells you that there is a prize\n",
    "behind each door: one prize is a car, the other two are less valuable\n",
    "prizes like peanut butter and fake finger nails. The prizes are arranged\n",
    "at random.\n",
    "\n",
    "• The object of the game is to guess which door has the car. If you guess\n",
    "right, you get to keep the car.\n",
    "\n",
    "• You pick a door, which we will call Door A. We’ll call the other doors\n",
    "B and C.\n",
    "\n",
    "• Before opening the door you chose, Monty increases the suspense by\n",
    "opening either Door B or C, whichever does not have the car. (If the\n",
    "car is actually behind Door A, Monty can safely open B or C, so he\n",
    "chooses one at random.)\n",
    "\n",
    "• Then Monty offers you the option to stick with your original choice or\n",
    "switch to the one remaining unopened door.\n",
    "\n",
    "The question is, should you “stick” or “switch” or does it make no difference?"
   ]
  },
  {
   "cell_type": "markdown",
   "metadata": {},
   "source": [
    "**Minor reframe**\n",
    "\n",
    "Let A be the door we initially choose at random \\\n",
    "Let B be the door Monty selects to show us to be without a car \\\n",
    "Let C be the other door we can choose after the fact"
   ]
  },
  {
   "cell_type": "code",
   "execution_count": 32,
   "metadata": {},
   "source": [
    "%%module monty_hall inherit scratch\n",
    "\n",
    "prior: {A:1, B:1, C:1} toPmf\n",
    "likelihood: {   // i.e. likelihood of monty opening B given that the car is behind each, i.e. p(data|hyp)\n",
    "    A: 0.5,     // prob of opening B if behind A - he can choose at random so 50:50\n",
    "    B: 0,       // prob of opening B if behind B - Monty can't open B else he'd reveal the car, so cannot open B => 0%\n",
    "    C: 1,       // prob of opening B if behind C - Monty can't open C else he'd reveal the car, so must open B => 100%\n",
    "} toL\n",
    "posterior: prior * likelihood normalise"
   ],
   "outputs": []
  },
  {
   "cell_type": "markdown",
   "metadata": {},
   "source": [
    "#### 1.8 Discussion\n",
    "If the Monty Hall problem is your idea of fun, I have collected a num- ber of similar problems in an article called “All your Bayes are belong to us,” which you can read at http://allendowney.blogspot.com/2011/10/ all-your-bayes-are-belong-to-us.html."
   ]
  },
  {
   "cell_type": "markdown",
   "metadata": {},
   "source": [
    "<br>\n",
    "\n",
    "#### 2.8 Exercises\n",
    "\n",
    "**Exercise 2.1.** In Section 2.3 I said that the solution to the cookie problem generalizes to the case where we draw multiple cookies with replacement.\n",
    "\n",
    "But in the more likely scenario where we eat the cookies we draw, the likelihood of each draw depends on the previous draws.\n",
    "\n",
    "Modify the solution in this chapter to handle selection without replacement. Hint: add instance variables to Cookie to represent the hypothetical state of the bowls, and modify Likelihood accordingly. You might want to define a Bowl object."
   ]
  },
  {
   "cell_type": "code",
   "execution_count": 33,
   "metadata": {},
   "source": [
    "@coppertop\n",
    "def withAttr(s, name, value):\n",
    "    s = adhoc(s)\n",
    "    s[name] = value\n",
    "    return s"
   ],
   "outputs": []
  },
  {
   "cell_type": "code",
   "execution_count": 34,
   "metadata": {},
   "source": [
    "%%python\n",
    "\n",
    "@coppertop\n",
    "def jarLikelihood(jarsStates, flavour):\n",
    "    return jarsStates >> each >> (lambda j: (j >> at(_,'tag'), j[flavour])) >> to(_,L)\n",
    "\n",
    "@coppertop\n",
    "def jarUpdate(jarsStateAndPrior, flavour):\n",
    "    jarsState, prior = jarsStateAndPrior\n",
    "    posterior = prior >> pmfMul >> jarLikelihood(jarsState, flavour) >> normalise\n",
    "    jarsState = jarsState >> each >> (lambda s: s >> withAttr(_, flavour, s[flavour] - 1))\n",
    "    f'{flavour}: {posterior >> formatPmf} ({jarsState})' >> PP\n",
    "    return (jarsState, posterior)\n",
    "\n",
    "modelState = [adhoc(V=30, C=10, tag='J1'), adhoc(V=20, C=20, tag='J2')]\n",
    "data = ['V', 'C']\n",
    "\n",
    "(modelState, PMF(J1=0.5, J2=0.5)) >> inject(data, _, _) >> jarUpdate;"
   ],
   "outputs": []
  },
  {
   "cell_type": "code",
   "execution_count": null,
   "metadata": {},
   "source": [
    "%%module cookies\n",
    "\n",
    "jarLikelihood: {[jarsStates, flavour] jarsStates collect {(j.tag, j[flavour])} toL}\n",
    "\n",
    "jarUpdate: {[jarsStateAndPrior, flavour]                           // we could unpack instead like this - jarUpdate: {[(jarsState, prior), flavour] \n",
    "    (jarsState, prior): jarsStateAndPrior\n",
    "    posterior: prior * jarLikelihood(jarsState, flavour) normalise\n",
    "    jarsState: jarsState collect [[js] js[flavour]: js[flavour] - 1]\n",
    "    flavour join \": \" join (posterior formatPmf) join \" (\" join jarsState join \")\" PP \n",
    "    (jarState, posterior)\n",
    "}\n",
    "\n",
    "modelState: ( {V:30, C:10, tag:\"J1\"}, {V:20, C:20, tag:\"J2\"} )\n",
    "data: (\"V\", \"C\")\n",
    "\n",
    "(modelState, {J1:0.5, J2:0.5} toPmf) inject (data,,) jarUpdate.\n",
    "data inject: (modelState, {J1:0.5, J2:0.5} toPmf) into: jarUpdate.\n",
    "\n"
   ],
   "outputs": []
  },
  {
   "cell_type": "markdown",
   "metadata": {},
   "source": [
    "<br>\n",
    "\n",
    "#### 3.1 The dice problem\n",
    "\n",
    "Suppose I have a box of dice that contains a 4-sided die, a 6-sided die, an 8-sided die, a 12-sided die, and a 20-sided die. If you have ever played Dungeons & Dragons, you know what I am talking about.\n",
    "\n",
    "Suppose I select a die from the box at random, roll it, and get a 6. What is the probability that I rolled each die?"
   ]
  },
  {
   "cell_type": "code",
   "execution_count": 35,
   "metadata": {},
   "source": [
    "# normalise >> sig"
   ],
   "outputs": []
  },
  {
   "cell_type": "code",
   "execution_count": 36,
   "metadata": {},
   "source": [
    "@coppertop\n",
    "def diceLikelihood(rvs, val):\n",
    "    tagLikePairs = rvs >> each >> (lambda rv: (rv.tag, rv._get(val, 0.0)))\n",
    "    return L(tagLikePairs)\n",
    "\n",
    "d4 = (sequence(1, 4) >> uniform)(tag='d4')\n",
    "d6 = (sequence(1, 6) >> uniform)(tag='d6')\n",
    "d8 = (sequence(1, 8) >> uniform)(tag='d8')\n",
    "d12 = (sequence(1, 12) >> uniform)(tag='d12')\n",
    "d20 = (sequence(1, 20) >> uniform)(tag='d20')\n",
    "\n",
    "modelState = [d4, d6, d8, d12, d20]\n",
    "prior = PMF(d4=1, d6=1, d8=1, d12=1, d20=1)\n",
    "prior >> PP(_,formatPmf) >> pmfMul >> (diceLikelihood(modelState, 6) >> PP(_,formatL)) >> normalise >> PP(_,formatPmf);"
   ],
   "outputs": []
  },
  {
   "cell_type": "code",
   "execution_count": 37,
   "metadata": {},
   "source": [
    "@coppertop\n",
    "def diceUpdate(prior, modelState, data):\n",
    "    posterior = prior >> pmfMul >> diceLikelihood(modelState, data) >> normalise\n",
    "    return posterior >> PP(_, formatPmf)\n",
    "\n",
    "[6, 6, 8, 7, 7, 5, 4] >> inject(_, prior, _) >> diceUpdate(_, modelState, _);"
   ],
   "outputs": []
  },
  {
   "cell_type": "code",
   "execution_count": 38,
   "metadata": {},
   "source": [
    "@coppertop\n",
    "def toSteps(s:PMF+adhoc, **kwargs) -> pytuple:\n",
    "    return asSteps(s >> keys, s >> values, **kwargs)\n",
    "\n",
    "def asSteps(xs, ys, align='center', width=None):\n",
    "    #xMin, xMax = min(xs), max(xs)\n",
    "    if width is None:\n",
    "        width = np.diff(xs).min()\n",
    "    points = []\n",
    "    lastx = np.nan\n",
    "    lasty = np.nan\n",
    "    for x, y in zip(xs, ys):\n",
    "        if (x - lastx) > 1e-5:\n",
    "            points.append((lastx, 0))\n",
    "            points.append((x, 0))\n",
    "        if not np.isnan(lasty):\n",
    "            points.append((x, lasty))\n",
    "        points.append((x, y))\n",
    "        points.append((x + width, y))\n",
    "        lastx = x + width\n",
    "        lasty = y\n",
    "    points.append((lastx, lasty))\n",
    "    pxs, pys = zip(*points)\n",
    "    if align == 'center':\n",
    "        pxs = np.array(pxs) - width / 2.0\n",
    "    elif align == 'right':\n",
    "        pxs = np.array(pxs) - width\n",
    "    return pxs, np.array(pys)"
   ],
   "outputs": []
  },
  {
   "cell_type": "markdown",
   "metadata": {},
   "source": [
    "<br>\n",
    "\n",
    "#### 3.2 The locomotive problem\n",
    "\n",
    "A railroad numbers its locomotives in order 1..N. One day you see a locomotive with the number 60. Estimate how many locomotives the railroad has."
   ]
  },
  {
   "cell_type": "markdown",
   "metadata": {},
   "source": [
    "**Notes**\n",
    "\n",
    "The railroad has more than 1000 locomotives \\\n",
    "If the railroad has N locomotives then the chance of seeing a particular locomotive is uniformly distributed with P = 1/N \\\n",
    "See http://en.wikipedia.org/wiki/Minimum_mean_square_error"
   ]
  },
  {
   "cell_type": "code",
   "execution_count": 39,
   "metadata": {},
   "source": [
    "prior = (sequence(1, 1000) >> uniform)\n",
    "data = 60\n",
    "\n",
    "@coppertop\n",
    "def railroadLikehood(N, ob):\n",
    "    return (sequence(1, N) >> each >> (lambda hyp: \n",
    "        (hyp, 0) if hyp < ob else (hyp, 1 / hyp)) >> to(_,adhoc)\n",
    "    ) | L\n",
    "\n",
    "likelihood = railroadLikehood(1000, data)\n",
    "posterior = prior >> pmfMul >> likelihood >> normalise\n",
    "\n",
    "[posterior \\\n",
    "     >> values \\\n",
    "     >> max, posterior[60], posterior[59], \n",
    "     posterior \\\n",
    "     >> mean\n",
    "]"
   ],
   "outputs": []
  },
  {
   "cell_type": "code",
   "execution_count": 40,
   "metadata": {},
   "source": [
    "fig = plt.figure(figsize=(5, 5), dpi= 80, facecolor='w', edgecolor='k')\n",
    "plt.plot(*(posterior >> toSteps));"
   ],
   "outputs": []
  },
  {
   "cell_type": "markdown",
   "metadata": {},
   "source": [
    "hmmm... that's quite a heavy tail..."
   ]
  },
  {
   "cell_type": "code",
   "execution_count": 41,
   "metadata": {},
   "source": [
    "[250, 500, 1000, 2000, 4000] >> each >> (lambda N: \n",
    "    (sequence(1, N) >> uniform) \n",
    "        >> pmfMul \n",
    "        >> railroadLikehood(N, data)\n",
    "        >> normalise \n",
    "        >> mean\n",
    ")"
   ],
   "outputs": []
  },
  {
   "cell_type": "markdown",
   "metadata": {},
   "source": [
    "#### 3.4 An alternative prior\n",
    "\n",
    "In fact, the distribution of company sizes tends to follow a power law, as Robert Axtell reports in Science (see http://www.sciencemag.org/content/293/5536/1818.full.pdf)"
   ]
  },
  {
   "cell_type": "code",
   "execution_count": 42,
   "metadata": {},
   "source": [
    "@coppertop\n",
    "def powerLawPrior(n, alpha):\n",
    "    return sequence(1, 1000) >> each >> (lambda hyp: (hyp, hyp**(-alpha))) >> to(_,adhoc) >> normalise\n",
    "\n",
    "fig = plt.figure(figsize=(5, 5), dpi= 80, facecolor='w', edgecolor='k')\n",
    "plt.plot(*(1000 >> powerLawPrior(_, 1) >> toSteps));"
   ],
   "outputs": []
  },
  {
   "cell_type": "markdown",
   "metadata": {},
   "source": [
    "#### 3.5 Credible intervals"
   ]
  },
  {
   "cell_type": "code",
   "execution_count": 48,
   "metadata": {},
   "source": [
    "observations = [30, 60, 90]\n",
    "Ns = [250, 500, 1000, 2000, 4000]\n",
    "\n",
    "Ns >> each >> (lambda N: \n",
    "    powerLawPrior(N, 0.9)\n",
    "        >> inject(observations, _, _) >> (lambda prior, ob:\n",
    "            prior\n",
    "                >> pmfMul \n",
    "                >> railroadLikehood(N, ob)\n",
    "                >> normalise \n",
    "        )\n",
    "        >> partial(lambda pmf: [pmf >> percentile(_,0.05), pmf >> mean, pmf >> percentile(_,0.95)])\n",
    ")"
   ],
   "outputs": []
  },
  {
   "cell_type": "code",
   "execution_count": null,
   "metadata": {},
   "source": [],
   "outputs": []
  },
  {
   "cell_type": "code",
   "execution_count": null,
   "metadata": {},
   "source": [],
   "outputs": []
  },
  {
   "cell_type": "code",
   "execution_count": null,
   "metadata": {},
   "source": [],
   "outputs": []
  },
  {
   "cell_type": "code",
   "execution_count": null,
   "metadata": {},
   "source": [],
   "outputs": []
  },
  {
   "cell_type": "code",
   "execution_count": 21,
   "metadata": {},
   "source": [
    "PMF is an exponential or a struct\n",
    "\n",
    "num**num\n",
    "str**num\n",
    "tag**any (not num)\n",
    "\n",
    "\n",
    "PMF & keysAndTags\n",
    "PMF & numsAndTags\n",
    "\n",
    "keyAndTags = S(keys=(str**num)[map], tags=(str**str)[map])\n",
    "numsAndTags = S(nums=(num**num)[list], tags=(str**str)[map])\n",
    "\n",
    "\n",
    "if we wanted we could also have\n",
    "\n",
    "PMF & keys  (i.e. (str**num)[map])\n",
    "PMF & nums  (i.e. (num**num)[list])\n",
    "\n",
    "\n",
    "\n",
    "\n",
    "\n",
    "@coppertop(style=binary)\n",
    "def rvAdd(lhs:PMF[T1], rhs:PMF[T1]) -> PMF[T1]:\n",
    "    return _rvOp(lhs, rhs, operator.add)\n",
    "\n",
    "\n",
    "@coppertop(style=binary)\n",
    "def _rvOp(lhs:PMF[keyAndTags], rhs:PMF[keyAndTags], op:(num*num)^num) -> PMF[keyAndTags]:\n",
    "    ...\n",
    "\n",
    "\n",
    "@coppertop(style=binary)\n",
    "def _rvOp(lhs:PMF[numsAndTags], rhs:PMF[numsAndTags], op:(num*num)^num) -> PMF[numsAndTags]:\n",
    "    ...\n",
    "\n",
    "\n",
    "\n",
    "\n",
    "or can have PMF = _PMF[T1]\n",
    "\n",
    "\n",
    "\n",
    "@coppertop(style=binary)\n",
    "def rvAdd(lhs:PMF, rhs:PMF) -> PMF:\n",
    "    return _rvOp(lhs, rhs, operator.add)\n",
    "\n",
    "\n",
    "@coppertop(style=nullary)\n",
    "def _rvOp(lhs:_PMF[keyAndTags], rhs:_PMF[keyAndTags], op:(num*num)^num) -> _PMF[keyAndTags]:\n",
    "    ...\n",
    "\n",
    "\n",
    "@coppertop(style=nullary)\n",
    "def _rvOp(lhs:_PMF[numsAndTags], rhs:_PMF[numsAndTags], op:(num*num)^num) -> _PMF[numsAndTags]:\n",
    "    ...\n",
    "\n",
    "\n",
    "\n",
    "similarly for CMF and L\n",
    "\n",
    "\n",
    "\n",
    "\n",
    "\n",
    "\n",
    "should either be str**num or\n",
    "num**num\n",
    "\n",
    "tag is\n",
    "str**!num\n",
    "\n",
    "bag1994 = PMF(Brown=30, Yellow=20, Red=20, Green=10, Orange=10, Tan=10)    is of type bag1994 but adhoc\n",
    "\n",
    "bag1996 = PMF(Brown=13, Yellow=14, Red=13, Green=20, Orange=16, Blue=24)    is of type bag1996 but adhoc\n",
    "\n",
    "\n",
    "\n",
    "the compiler can type check PMFs with keys and tags (but not with nums? because of unnecessary type explosion and it not being useful rather than is hard or impossible)\n",
    "\n",
    "\n",
    "prior = PMF(hypA=0.5, hypB=0.5) >> PP    of type S(hypA=num, hypB=num) & PMF\n",
    "\n",
    "prior.hypA\n",
    "prior.hypB\n",
    "\n",
    "\n",
    "\n",
    "likelihood = L(\n",
    "    hypA=bag1994.Yellow * bag1996.Green, \n",
    "    hypB=bag1994.Green * bag1996.Yellow\n",
    ") >> PP\n",
    "\n",
    "post = prior >> pmfMul >> likelihood >> normalise\n",
    "post >> PP\n",
    "\n",
    "\n",
    "we need three likelihood functions?\n",
    "\n",
    "if we select a tan L is hypA = 1, hypB=0, opposite for Blue, else above\n",
    "\n",
    "bag1994[colour] is untypeable access - however we can type colour and the return value\n",
    "bag1994.Yellow is typeable access\n",
    "\n",
    "tuple.1 is typeable access\n",
    "aTuple[1] is untypeable\n",
    "\n",
    "\n",
    "mmLike(colours:N**colour, ...)\n",
    "    could have a switch on colour with accessors\n",
    "\n",
    "thus product / exponential blurs with []\n",
    "\n",
    "so list apply is exponential accessor\n",
    ". is product accessor\n",
    "\n",
    "\n",
    "\n",
    "\n",
    "modelState = [adhoc(V=30, C=10, tag='J1'), adhoc(V=20, C=20, tag='J2')]\n",
    "\n",
    "\n",
    "hyp1 = PMF(V=20, C=20, tag='J2')\n",
    "\n",
    "or\n",
    "\n",
    "hyp1 = PMF(V=20, C=20)\n",
    "hyp1.tag = 'J2'\n",
    "\n",
    "how to dispatch the dot\n",
    "\n",
    "or\n",
    "\n",
    "hyp1['tag'] = 'J2'\n",
    "\n",
    "how to dispatch the item access\n",
    "\n",
    "and reconcile to a struct()\n",
    "\n",
    "\n",
    "def setAttr(PMF(T1), name, value)\n",
    "\n",
    "def setItem(PMF(T1), name, value)\n",
    "\n",
    "\n",
    "so tvstruct would dispatch\n",
    "tvtuple would too except fred.1 is invalid python syntax\n",
    "tup[1] = \"hello\"\n",
    "\n",
    "seq and map don't have individual\n",
    "\n",
    "\n",
    "\n",
    "so the \"interface\" to a struct can hide the structure details - what about\n",
    "\n",
    "pmf.tags.fred = 1\n",
    "pmf.tags = [1,2,3]\n",
    "\n",
    "so you have two ways\n",
    "\n",
    "\n",
    "pmf = S(nums, tags)   'bones' struct\n",
    "or\n",
    "pmf = Pmf()           python class\n",
    "\n",
    "\n",
    "\n"
   ],
   "outputs": []
  },
  {
   "cell_type": "code",
   "execution_count": 12,
   "metadata": {},
   "source": [
    "1+1"
   ],
   "outputs": []
  },
  {
   "cell_type": "code",
   "execution_count": 11,
   "metadata": {},
   "source": [
    "1+1"
   ],
   "outputs": []
  },
  {
   "cell_type": "code",
   "execution_count": null,
   "metadata": {},
   "source": [],
   "outputs": []
  },
  {
   "cell_type": "markdown",
   "metadata": {},
   "source": [
    "IDEAL ERRORS"
   ]
  },
  {
   "cell_type": "code",
   "execution_count": null,
   "metadata": {
    "tags": []
   },
   "source": [
    "\"hello\" >> toCmf"
   ],
   "outputs": []
  },
  {
   "cell_type": "markdown",
   "metadata": {},
   "source": [
    "```\n",
    "Can't find toCmf(str) in:\n",
    "  toCmf(pmf:(adhoc + (t514 & _numEtAl & _PMF))) in dm.pmf\n",
    "```\n",
    "\n",
    "ideally\n",
    "\n",
    "```\n",
    "DispatchError: Can't find toCmf(str) in:\n",
    "  toCmf(pmf:PMF+adhoc) -> any    in dm.pmf[176]\n",
    "---------------------------------------------------------------------------\n",
    "Traceback (most recent call last)\n",
    "\n",
    "<ipython-input-26-8a7f9c734ab9> in <module>\n",
    "----> 1 \"hello\" >> toCmf\n",
    "```"
   ]
  },
  {
   "cell_type": "code",
   "execution_count": null,
   "metadata": {},
   "source": [],
   "outputs": []
  }
 ],
 "metadata": {
  "kernelspec": {
   "display_name": "Python 3 (ipykernel)",
   "language": "python",
   "name": "python3"
  },
  "language_info": {
   "codemirror_mode": {
    "name": "ipython",
    "version": 3
   },
   "file_extension": ".py",
   "mimetype": "text/x-python",
   "name": "python",
   "nbconvert_exporter": "python",
   "pygments_lexer": "ipython3",
   "version": "3.11.0"
  }
 },
 "nbformat": 4,
 "nbformat_minor": 4
}
