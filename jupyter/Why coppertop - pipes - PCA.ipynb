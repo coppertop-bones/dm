{
 "cells": [
  {
   "cell_type": "markdown",
   "id": "11f7df98-b68b-4017-88ca-fa0d01a61448",
   "metadata": {},
   "source": [
    "#### Goal - show how the piping in coppertop makes it easier to do non-trivial computations in Excel doing a PCA on some equities as an example\n",
    "\n",
    "I'm going to show my workings here - for didactic and requirements reasons\n",
    "\n",
    "\n",
    "OPEN: groot needs explaining (add an issue)"
   ]
  },
  {
   "cell_type": "code",
   "execution_count": 1,
   "id": "bf1d3583-a984-4ab7-96da-140f9ce78c9a",
   "metadata": {},
   "source": [
    "%matplotlib inline\n",
    "\n",
    "import datetime, polars as pl, matplotlib.pyplot as plt, pandas as pd\n",
    "\n",
    "from coppertop.pipe import *\n",
    "from bones.core.sentinels import Missing\n",
    "import dm.core, dm.pp, dm.polarframe, dm.pandaframe, dm.fs, dm.linalg.core\n",
    "from _ import *\n",
    "from _ import dm, fs"
   ],
   "outputs": []
  },
  {
   "cell_type": "markdown",
   "id": "ad183d0f-dfe3-4880-ab56-953c5485cdc8",
   "metadata": {},
   "source": [
    "<br>\n",
    "\n",
    "#### piped function calls vs nested function calls\n",
    "\n",
    "Many people seem to find the left to right style of pipeline style easier to read than nesting functions. Compare this:"
   ]
  },
  {
   "cell_type": "code",
   "execution_count": 2,
   "id": "8ff415ea-be94-440b-9234-e21ae9acca8e",
   "metadata": {},
   "source": [
    "list(filter(lambda x: x > 2, map(lambda x: x + 1, [1,2,3])))"
   ],
   "outputs": []
  },
  {
   "cell_type": "markdown",
   "id": "34c38dbb-1ee0-4474-b023-efd1b3645356",
   "metadata": {},
   "source": [
    "with this (where map => collect, filter => select):"
   ]
  },
  {
   "cell_type": "code",
   "execution_count": 3,
   "id": "516479c5-5226-4d83-ad3e-72b4c484bedf",
   "metadata": {},
   "source": [
    "[1,2,3] >> collect >> (lambda x: x + 1) >> select >> (lambda x: x > 2)"
   ],
   "outputs": []
  },
  {
   "cell_type": "markdown",
   "id": "ba14a497-4912-46bf-b4cf-f3543a968549",
   "metadata": {},
   "source": [
    "or using the convention that a trailing underscore in a function names indicates a deferred function:"
   ]
  },
  {
   "cell_type": "code",
   "execution_count": 4,
   "id": "045ed4ef-3051-4f51-8f6f-e4699c764d69",
   "metadata": {},
   "source": [
    "@coppertop(style=binary)\n",
    "def collect_(xs, fn):\n",
    "    return map(fn, xs)\n",
    "\n",
    "@coppertop(style=binary)\n",
    "def select_(xs, fn):\n",
    "    return filter(fn, xs)\n",
    "\n",
    "[1,2,3] >> collect_  >> (lambda x: x + 1) >> select_ >> (lambda x: x > 2) >> to >> list"
   ],
   "outputs": []
  },
  {
   "cell_type": "markdown",
   "id": "22f36b54-8797-4e59-a35a-79f36567a387",
   "metadata": {},
   "source": [
    "Just for interest these are the bones equivalents\n",
    "```\n",
    "(1,2,3) collect {x + 1} select {x > 2}\n",
    "(1,2,3) collect_ {x + 1} select_ {x > 2} to <:N**count>\n",
    "\n",
    "```\n"
   ]
  },
  {
   "cell_type": "markdown",
   "id": "44eb7a79-79fd-41c1-85bd-7d5978d5c160",
   "metadata": {},
   "source": [
    "<br>\n",
    "\n",
    "#### PCA\n",
    "\n",
    "First - on a train journey I downloaded some stocks from Yahoo Finance - https://finance.yahoo.com/quote/MSFT/history?p=MSFT etc\n",
    "\n",
    "\n"
   ]
  },
  {
   "cell_type": "code",
   "execution_count": 5,
   "id": "f3d73ff8-9f6e-4e08-9b04-c557128adfcb",
   "metadata": {},
   "source": [
    "fs >> DD"
   ],
   "outputs": []
  },
  {
   "cell_type": "code",
   "execution_count": 6,
   "id": "9c8871cb-f1f4-4a82-aa14-87e0cd54d70e",
   "metadata": {},
   "source": [
    "'./analysis/data' >> fs.scanFiles"
   ],
   "outputs": []
  },
  {
   "cell_type": "code",
   "execution_count": 7,
   "id": "84ce33f9-4ce2-42a2-8716-deb7f7a3a5fa",
   "metadata": {},
   "source": [
    "'./analysis/data/AMZN.csv' >> dm.polars.csv.read"
   ],
   "outputs": []
  },
  {
   "cell_type": "markdown",
   "id": "84008182-94ba-4078-ac5e-a0397400f9f1",
   "metadata": {},
   "source": [
    "or as a pandas dataframe"
   ]
  },
  {
   "cell_type": "code",
   "execution_count": 8,
   "id": "12a9c604-31f1-4d1d-93fa-7b5096522add",
   "metadata": {},
   "source": [
    "'./analysis/data/AMZN.csv' >> dm.polars.csv.read >> to >> pd.DataFrame"
   ],
   "outputs": []
  },
  {
   "cell_type": "code",
   "execution_count": 9,
   "id": "52c708c7-a84f-4f0c-ad5c-d3750e778cba",
   "metadata": {},
   "source": [
    "d1 = datetime.date(2021, 12, 1)\n",
    "d2 = datetime.date(2022, 11, 30)\n",
    "\n",
    "AMZN = './analysis/data/AMZN.csv'  \\\n",
    "    >> dm.polars.csv.read \\\n",
    "    >> take >> ['Date', 'Close'] \\\n",
    "    >> select >> ((d1 <= pl.col(\"Date\")) & (pl.col(\"Date\") <= d2))\n",
    "MSFT = './analysis/data/MSFT.csv'  \\\n",
    "    >> dm.polars.csv.read \\\n",
    "    >> take >> ['Date', 'Close'] \\\n",
    "    >> select >> ((d1 <= pl.col(\"Date\")) & (pl.col(\"Date\") <= d2))\n",
    "AAPL = './analysis/data/AAPL.csv'  \\\n",
    "    >> dm.polars.csv.read \\\n",
    "    >> take >> ['Date', 'Close'] \\\n",
    "    >> select >> ((d1 <= pl.col(\"Date\")) & (pl.col(\"Date\") <= d2))\n",
    "TSLA = './analysis/data/TSLA.csv'  \\\n",
    "    >> dm.polars.csv.read \\\n",
    "    >> take >> ['Date', 'Close'] \\\n",
    "    >> select >> ((d1 <= pl.col(\"Date\")) & (pl.col(\"Date\") <= d2))\n",
    "GOOG = './analysis/data/GOOG.csv'  \\\n",
    "    >> dm.polars.csv.read \\\n",
    "    >> take >> ['Date', 'Close'] \\\n",
    "    >> select >> ((d1 <= pl.col(\"Date\")) & (pl.col(\"Date\") <= d2))"
   ],
   "outputs": []
  },
  {
   "cell_type": "markdown",
   "id": "1f2a96f0-545a-4b86-b5c1-0f9331888d0c",
   "metadata": {},
   "source": [
    "Let's join them together. I have aj (asof join for dataframes)\n",
    "\n",
    "OPEN: aj needs to name the columns better - the standard polars ones are not scalable and the api should be the same accross all versions, maybe a kdb like column rename would be better.\n",
    "\n",
    "OPEN: naming is slightly different for immutable languges - withNames for mutable languages, setNames for immutable - is `MSFT >> setNames >> [_,'MSFT']` good? q had xcols and xcol and I had to look up, `MSFT >> reorder >> ['MSFT']`\n"
   ]
  },
  {
   "cell_type": "code",
   "execution_count": 10,
   "id": "85f18adf-1564-4fe4-bc4f-98acf370f59b",
   "metadata": {},
   "source": [
    "aj >> sig"
   ],
   "outputs": []
  },
  {
   "cell_type": "markdown",
   "id": "97b7dfea-3e1b-4141-b579-1216716d2899",
   "metadata": {},
   "source": [
    "OPEN: alias polars.internals.dataframe.frame.DataFrame as something clear and short \\\n",
    "let's try this (turns out to be a good guess but don't like the new name `Close_right`)"
   ]
  },
  {
   "cell_type": "code",
   "execution_count": 11,
   "id": "2034669e-f512-4a8f-8b6f-5e403c4f612b",
   "metadata": {},
   "source": [
    "AMZN >> aj(_,_,'Date', 'Date') >> MSFT "
   ],
   "outputs": []
  },
  {
   "cell_type": "markdown",
   "id": "6f8662f6-d87e-4041-b0af-bced0d387f87",
   "metadata": {},
   "source": [
    "as I have to know that the new column name will be appended with \"\\_right\" and that if I call it again it throws an error - to me the api just doesn't scale"
   ]
  },
  {
   "cell_type": "code",
   "execution_count": 12,
   "id": "06c5b655-71af-4547-93e0-a1a26177749f",
   "metadata": {},
   "source": [
    "try:\n",
    "    AMZN \\\n",
    "        >> aj(_,_,'Date', 'Date') >> MSFT \\\n",
    "        >> aj(_,_,'Date', 'Date') >> AAPL \n",
    "except Exception as ex:\n",
    "    ex >> PP"
   ],
   "outputs": []
  },
  {
   "cell_type": "code",
   "execution_count": 13,
   "id": "0997c9f7-25a4-4009-895b-1a134440345f",
   "metadata": {},
   "source": [
    "AMZN >> rename >> 'Close' >> 'AMZN'  \\\n",
    "    >> aj(_,_,'Date', 'Date') >> MSFT >> rename >> 'Close' >> 'MSFT' \\\n",
    "    >> aj(_,_,'Date', 'Date') >> AAPL >> rename >> 'Close' >> 'AAPL' "
   ],
   "outputs": []
  },
  {
   "cell_type": "code",
   "execution_count": 14,
   "id": "614ad936-75ca-45fb-ac41-8b8f984d1877",
   "metadata": {},
   "source": [
    "closesFrame = AMZN >> rename >> 'Close' >> 'AMZN' \\\n",
    "    >> aj(_,_,'Date', 'Date') >> MSFT >> rename >> 'Close' >> 'MSFT' \\\n",
    "    >> aj(_,_,'Date', 'Date') >> AAPL >> rename >> 'Close' >> 'AAPL' \\\n",
    "    >> aj(_,_,'Date', 'Date') >> TSLA >> rename >> 'Close' >> 'TSLA' \\\n",
    "    >> aj(_,_,'Date', 'Date') >> GOOG >> rename >> 'Close' >> 'GOOG'\n",
    "closesFrame"
   ],
   "outputs": []
  },
  {
   "cell_type": "markdown",
   "id": "aacac1cd-6c69-4003-abc0-6032846f5a07",
   "metadata": {},
   "source": [
    "We can do better"
   ]
  },
  {
   "cell_type": "code",
   "execution_count": 15,
   "id": "fb8b4d13-f5bd-4ece-8aa9-441b6c10963b",
   "metadata": {},
   "source": [
    "d1 = datetime.date(2021, 12, 1)\n",
    "d2 = datetime.date(2022, 11, 30)\n",
    "\n",
    "allSeries = ['AMZN', 'MSFT', 'AAPL', 'TSLA', 'GOOG'] >> collect >> (lambda name: \n",
    "    f'./analysis/data/{name}.csv'\n",
    "        >> dm.polars.csv.read \n",
    "        >> take >> ['Date', 'Close']\n",
    "        >> rename >> 'Close' >> name\n",
    "        >> select >> ((d1 <= pl.col(\"Date\")) & (pl.col(\"Date\") <= d2))\n",
    ") \n",
    "\n",
    "closesFrame = allSeries >> inject(_, Missing, _) >> (lambda prior, each: \n",
    "    each if prior is Missing else prior >> aj(_,_,'Date','Date') >> each\n",
    ")\n",
    "\n",
    "closesFrame"
   ],
   "outputs": []
  },
  {
   "cell_type": "markdown",
   "id": "756a4c88-ac9a-4752-9add-5170497293c5",
   "metadata": {},
   "source": [
    "<br>\n",
    "\n",
    "next take diffs and do the SVD (i.e. to generated the PCA loadings, aka eigenvectors, etc)"
   ]
  },
  {
   "cell_type": "code",
   "execution_count": 17,
   "id": "1807d027-d845-44d1-8f9b-eebb8ab2c8d6",
   "metadata": {},
   "source": [
    "vs = closesFrame >> drop >> 'Date' >> takePanel >> diffRows>> dm.linalg.pca >> withKeys >> ['v','s']\n",
    "v, s = vs >> values"
   ],
   "outputs": []
  },
  {
   "cell_type": "code",
   "execution_count": 18,
   "id": "209d92a7-10bf-466f-b917-a6cce06ec27b",
   "metadata": {},
   "source": [
    "plt.plot(v >> atCol >> 0, 'red')\n",
    "plt.plot(v >> atCol >> 1, 'orange')\n",
    "plt.plot(v >> atCol >> 2, 'green')\n",
    "plt.plot(v >> atCol >> 3, 'blue')\n",
    "plt.plot(v >> atCol >> 4, 'black')"
   ],
   "outputs": []
  },
  {
   "cell_type": "markdown",
   "id": "6f8ac66d-333c-4eaa-920b-54698f237ed7",
   "metadata": {},
   "source": [
    "<br>\n",
    "\n",
    "#### Putting it in Excel using pyxll\n",
    "\n",
    "some code to call an anonymous python function via pyxll:"
   ]
  },
  {
   "cell_type": "code",
   "execution_count": null,
   "id": "d296fb42-94d7-411c-8fee-cd8376840543",
   "metadata": {},
   "source": [
    "import traceback, sys\n",
    "\n",
    "@xl_func(auto_resize=True)\n",
    "@xl_arg(\"srcOrFn\", \"union<str[], str>\")\n",
    "def pyFn(srcOrFn, *args):\n",
    "    if isinstance(srcOrFn, list):\n",
    "        srcOrFn = '\\n'.join(srcOrFn)\n",
    "    fn = eval(srcOrFn, globals())\n",
    "    try:\n",
    "        answer = fn(*args)\n",
    "    except Exception as ex:\n",
    "        et, ev, tb = sys.exc_info()\n",
    "        lines = ['PYTHON TRACEBACK']\n",
    "        for e in traceback.format_exception(et, ev, tb):\n",
    "            lines.extend(e.split('\\n'))\n",
    "        return lines\n",
    "    return answer\n"
   ],
   "outputs": []
  },
  {
   "cell_type": "markdown",
   "id": "c293cf6b-0bf7-4aa1-9667-8e791fc4d817",
   "metadata": {},
   "source": [
    "doing the svd in exel:\n",
    "\n",
    "```\n",
    "=pyFn(\"lambda x: x >> drop >> 'Date' >> takePanel >> diffRows>> dm.linalg.pca >> withKeys >> ['v','s']\", {cell with closesFrame object})\n",
    "```"
   ]
  },
  {
   "cell_type": "code",
   "execution_count": null,
   "id": "58633430-107a-4e64-be43-a3197afb7b40",
   "metadata": {},
   "source": [],
   "outputs": []
  },
  {
   "cell_type": "code",
   "execution_count": null,
   "id": "315c8666-54aa-40b0-8747-250b98089877",
   "metadata": {},
   "source": [],
   "outputs": []
  },
  {
   "cell_type": "code",
   "execution_count": null,
   "id": "57435de1-4f19-43d6-8029-1995d5883766",
   "metadata": {},
   "source": [],
   "outputs": []
  }
 ],
 "metadata": {
  "kernelspec": {
   "display_name": "Python 3 (ipykernel)",
   "language": "python",
   "name": "python3"
  },
  "language_info": {
   "codemirror_mode": {
    "name": "ipython",
    "version": 3
   },
   "file_extension": ".py",
   "mimetype": "text/x-python",
   "name": "python",
   "nbconvert_exporter": "python",
   "pygments_lexer": "ipython3",
   "version": "3.11.0"
  }
 },
 "nbformat": 4,
 "nbformat_minor": 5
}
