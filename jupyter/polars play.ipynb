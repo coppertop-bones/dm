{
 "cells": [
  {
   "cell_type": "markdown",
   "id": "aef0e015-ac99-471a-9033-9327cd63b5ea",
   "metadata": {},
   "source": [
    "#### EXAMPLE WRAPPING POLARS"
   ]
  },
  {
   "cell_type": "code",
   "execution_count": 1,
   "id": "103e1b02-4a33-4726-ae14-90069a93c02e",
   "metadata": {},
   "source": [
    "import polars\n",
    "from coppertop.pipe import *\n",
    "# from coppertop.utils import *\n",
    "\n",
    "from bones.lang.types import btup\n",
    "from dm.core.types import date, N, num\n",
    "import dm.pp\n",
    "from broot import *\n",
    "from broot import DD"
   ],
   "outputs": []
  },
  {
   "cell_type": "code",
   "execution_count": 2,
   "id": "9921def5-3b1a-41f9-bf0d-b1a2c8bf47d7",
   "metadata": {},
   "source": [
    "import builtins\n",
    "from bones.ts.metatypes import weaken, BTAtom\n",
    "from dm.core.types import txt, pylist, pytuple, pydict, T1\n",
    "from dm.core.datetime import parseDate, toCTimeFormat\n",
    "\n",
    "\n",
    "# pframe = BTAtom.ensure('pframe')\n",
    "# pcol = BTAtom.ensure('pcol')\n",
    "\n",
    "# weaken(polars.DataFrame, pframe)\n",
    "# weaken(polars.Series, pcol)\n",
    "\n",
    "pframe = polars.DataFrame\n",
    "pcol = polars.Series\n",
    "\n",
    "\n",
    "@coppertop(style=binary)\n",
    "def take(a:pframe, k:txt) -> pframe:\n",
    "    return a[[k]]\n",
    "\n",
    "@coppertop(style=binary)\n",
    "def take(a:pframe, isOrKs:pylist+pytuple) -> pframe:\n",
    "    if not isOrKs:\n",
    "        raise NotYetImplemented()\n",
    "    elif isinstance(isOrKs[0], (builtins.str, txt)):\n",
    "        return a[isOrKs]\n",
    "    elif isinstance(isOrKs[0], int):\n",
    "        raise NotYetImplemented()\n",
    "    else:\n",
    "        raise TypeError()\n",
    "\n",
    "@coppertop(style=binary)\n",
    "def to(xs:pcol, t:(N**num)[btup]) -> (N**num)[btup]:\n",
    "    xs = xs.to_numpy()\n",
    "    return btup(t, [parseNum(x) for x in xs])\n",
    "\n",
    "@coppertop(style=binary)\n",
    "def to(xs:pcol, t:(N**date)[btup], f:txt) -> (N**date)[btup]:\n",
    "    xs = xs.to_numpy()\n",
    "    cFormat = toCTimeFormat(f)\n",
    "    return btup(t, [parseDate(x, cFormat) for x in xs])\n",
    "\n",
    "@coppertop(style=ternary)\n",
    "def atPut(pf:pframe, k:txt, col:pcol) -> pframe:\n",
    "    # pf.replace is destructive :(, pf.with_column is non-destructive :)\n",
    "    return pf.with_column(polars.Series(k, col))\n",
    "\n",
    "@coppertop(style=ternary)\n",
    "def atPut(pf:pframe, k:txt, col:(N**T1)[btup]) -> pframe:\n",
    "    # pf.replace is destructive :(, pf.with_column is non-destructive :)\n",
    "    return pf.with_column(polars.Series(k, col))\n",
    "\n",
    "@coppertop\n",
    "def csvTo(filename:txt, t:pframe) -> pframe:\n",
    "    return polars.read_csv(filename)\n",
    "\n",
    "@coppertop\n",
    "def csvTo(filename:txt, t:pframe, renames:pydict) -> pframe:\n",
    "    # rename is non-destuctive :)\n",
    "    return polars.read_csv(filename).rename(renames)\n",
    "\n",
    "@coppertop\n",
    "def csvTo(filename:txt, t:pframe, renames:pydict, conversions:pydict) -> pframe:\n",
    "    return polars.read_csv(filename)\n",
    "\n",
    "@coppertop(style=unary)\n",
    "def keys(d:pframe) -> pylist:\n",
    "    return d.columns"
   ],
   "outputs": []
  },
  {
   "cell_type": "code",
   "execution_count": 3,
   "id": "4c37355c-d32f-4a51-8dda-22cd60052de8",
   "metadata": {},
   "source": [
    "renames = {\n",
    "    'Date':'date', '1 Mo':'1m', '2 Mo':'2m', '3 Mo':'3m', '6 Mo':'6m', '1 Yr':'1y', '2 Yr':'2y', \n",
    "    '3 Yr':'3y', '5 Yr':'5y', '7 Yr':'7y', '10 Yr':'10y', '20 Yr':'20y', '30 Yr':'30y',\n",
    "}\n",
    "\n",
    "pdf = './analysis/data/US yields.csv' >> csvTo(_, pframe, renames)"
   ],
   "outputs": []
  },
  {
   "cell_type": "code",
   "execution_count": 4,
   "id": "d87df613-0211-4bf8-8b1e-526981e408db",
   "metadata": {},
   "source": [
    "pdf >> keys"
   ],
   "outputs": []
  },
  {
   "cell_type": "code",
   "execution_count": 5,
   "id": "0a0495b0-2f1d-46b9-a82b-fb5d5bd8478b",
   "metadata": {},
   "source": [
    "pdf >> DD;"
   ],
   "outputs": []
  },
  {
   "cell_type": "code",
   "execution_count": null,
   "id": "a2acb367-6802-4967-b261-13f4401f78e7",
   "metadata": {},
   "source": [],
   "outputs": []
  },
  {
   "cell_type": "code",
   "execution_count": 6,
   "id": "abd3b396-c22b-4900-b47a-599d9548598e",
   "metadata": {},
   "source": [
    "pdf['date'] >> DD;"
   ],
   "outputs": []
  },
  {
   "cell_type": "code",
   "execution_count": 7,
   "id": "b552adb1-9cd1-447e-8315-c098e78838ed",
   "metadata": {
    "tags": []
   },
   "source": [
    "pdf >> take >> 'date'"
   ],
   "outputs": []
  },
  {
   "cell_type": "code",
   "execution_count": 8,
   "id": "afe366f0-1152-4036-966f-b21b73ccd5ba",
   "metadata": {},
   "source": [
    "pdf2 = pdf >> atPut >> 'date' >> (pdf['date'] >> to(_, _, 'MM/DD/YY') >> (N**date)[btup])"
   ],
   "outputs": []
  },
  {
   "cell_type": "code",
   "execution_count": 9,
   "id": "0220e85c-51f2-4d75-95c3-0de46edc2ed1",
   "metadata": {},
   "source": [
    "pdf2 >> take >> ['date', '1y', '5y']"
   ],
   "outputs": []
  },
  {
   "cell_type": "code",
   "execution_count": 10,
   "id": "0c3e9ede-06ca-496b-9c01-3a41156a1570",
   "metadata": {},
   "source": [
    "pdf >> take >> 'date'"
   ],
   "outputs": []
  },
  {
   "cell_type": "markdown",
   "id": "904307cc-1a40-4a23-807b-46ebeb43833b",
   "metadata": {},
   "source": [
    "<br>\n",
    "\n",
    "I'm not very keen on the typing of this next piece of code as it's harder to follow what's going on:"
   ]
  },
  {
   "cell_type": "code",
   "execution_count": 11,
   "id": "75a9cd16-6f02-46ff-b3e3-88e40117fb9b",
   "metadata": {},
   "source": [
    "pdf[['date', '1y']] >> TT;\n",
    "pdf[['date']] >> TT;\n",
    "pdf['date'] >> TT;"
   ],
   "outputs": []
  },
  {
   "cell_type": "markdown",
   "id": "4ca89e35-116c-42de-b9b9-9caa2a01463f",
   "metadata": {},
   "source": [
    "As an example, consider what the type is of `pdf[x]`. You can't tell from the syntax of the snippet and first have to figure the type of `x`."
   ]
  },
  {
   "cell_type": "code",
   "execution_count": null,
   "id": "c186fa1d-1c2c-49cb-9a56-795c9fd03d0f",
   "metadata": {},
   "source": [],
   "outputs": []
  }
 ],
 "metadata": {
  "kernelspec": {
   "display_name": "Python 3 (ipykernel)",
   "language": "python",
   "name": "python3"
  },
  "language_info": {
   "codemirror_mode": {
    "name": "ipython",
    "version": 3
   },
   "file_extension": ".py",
   "mimetype": "text/x-python",
   "name": "python",
   "nbconvert_exporter": "python",
   "pygments_lexer": "ipython3",
   "version": "3.11.0"
  }
 },
 "nbformat": 4,
 "nbformat_minor": 5
}
