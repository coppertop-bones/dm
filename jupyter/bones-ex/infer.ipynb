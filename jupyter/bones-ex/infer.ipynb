{
 "cells": [
  {
   "cell_type": "code",
   "execution_count": 1,
   "metadata": {},
   "source": [
    "load tbone.core\n",
    "from tbone.core import ifTrue:ifFalse:, true, false, join, +, arrayJoin, toTxt"
   ],
   "outputs": []
  },
  {
   "cell_type": "markdown",
   "metadata": {},
   "source": [
    "### Inference with higher-order functions, parametric polymorphism and message-sending, aka overloads"
   ]
  },
  {
   "cell_type": "code",
   "execution_count": 2,
   "metadata": {
    "tags": []
   },
   "source": [
    "%%types, norun\n",
    "hoo: {x ifTrue: f(y) ifFalse: f(z)}\n",
    "id: {x}\n",
    "addThree: {x + 1}\n",
    "addThree: {join(x, \"Three\")}\n",
    "hoo(id, true, 1, \"Two\")\n",
    "hoo(addThree, true, 1, \"Two\")"
   ],
   "outputs": []
  },
  {
   "cell_type": "markdown",
   "metadata": {},
   "source": [
    "#### Notation\n",
    "\n",
    "litint, litnum, num, index, txt, littxt are all primitive types\n",
    "\n",
    "T1, T2, T3, ... - type schema variables \\\n",
    "txt + T2 - union \\\n",
    "txt & isin - intersection \\\n",
    "int * txt - tuple, (int, txt)\\\n",
    "int ^ txt - function, int -> txt\n",
    "\n",
    "#### syntax\n",
    "{} - a function (undeclared arguments are assumed to be passed in dictionary order) \\\n",
    "fred: 1 - binds the name fred to 1 \\\n",
    "f(x, y) - the usual function application"
   ]
  },
  {
   "cell_type": "markdown",
   "metadata": {},
   "source": [
    "### Without unions this sort of problem requires rank-2 types\n",
    "\n",
    "For example see https://stackoverflow.com/questions/36587571/confusing-about-haskell-type-inference...\n",
    "\n",
    "> I have just started learning Haskell. As Haskell is static typed and has polymorphic type inference, the type of the identity function is\n",
    "> \n",
    "> ```\n",
    "> id :: a -> a\n",
    "> ```\n",
    "> <br>\n",
    "> \n",
    "> suggesting id can take any type as its parameter and return itself. It works fine when I try:\n",
    "> \n",
    "> ```\n",
    "> a = (id 1, id True)\n",
    "> ```\n",
    "> <br>\n",
    "> \n",
    "> I just suppose that at compile time, the first id is Num a :: a -> a, and the second id is Bool -> Bool. When I try the following code, it gives an error:\n",
    "> \n",
    "> ```\n",
    "> foo f a b = (f a, f b)\n",
    "> result = foo id 1 True\n",
    "> ```\n",
    "> <br>\n",
    "> \n",
    "> It shows the type of a must be the same type of b, since it works fine with\n",
    "> \n",
    "> ```\n",
    "> result = foo id 1 2\n",
    "> ```\n",
    "> <br>\n",
    "> \n",
    "> But is that true that the type of id's parameter can be polymorphic, so that a and b can be different type?\n",
    "\n",
    "<br>\n",
    "\n",
    "### More examples"
   ]
  },
  {
   "cell_type": "markdown",
   "metadata": {},
   "source": [
    "Passing _<:int+txt>_ into _addOne_"
   ]
  },
  {
   "cell_type": "code",
   "execution_count": 3,
   "metadata": {},
   "source": [
    "%%types, norun\n",
    "b: (true ifTrue: \"1.0\" ifFalse: 1)\n",
    "addOne: {x + 1}\n",
    "addOne(b)"
   ],
   "outputs": []
  },
  {
   "cell_type": "markdown",
   "metadata": {},
   "source": [
    "_addOne_ doesn't yet handle _<:littxt>_ or _<:txt>_ so add an implementation that does"
   ]
  },
  {
   "cell_type": "code",
   "execution_count": 4,
   "metadata": {},
   "source": [
    "%%types, norun\n",
    "addOne: {x join \"One\"}\n",
    "addOne(b)"
   ],
   "outputs": []
  },
  {
   "cell_type": "markdown",
   "metadata": {},
   "source": [
    "here toTxt can be passed for f"
   ]
  },
  {
   "cell_type": "code",
   "execution_count": 5,
   "metadata": {},
   "source": [
    "%%types, norun\n",
    "woo: {join(f(x), f(y))}\n",
    "woo(toTxt, 1, \"two\")"
   ],
   "outputs": []
  },
  {
   "cell_type": "markdown",
   "metadata": {},
   "source": [
    "but id cannot"
   ]
  },
  {
   "cell_type": "code",
   "execution_count": 6,
   "metadata": {},
   "source": [
    "%%types, norun\n",
    "woo(id, 1, \"two\")"
   ],
   "outputs": []
  }
 ],
 "metadata": {
  "kernelspec": {
   "display_name": "bones",
   "language": "bones",
   "name": "bones"
  },
  "language_info": {
   "mimetype": "text/plain",
   "name": "multi_kernel"
  }
 },
 "nbformat": 4,
 "nbformat_minor": 4
}
