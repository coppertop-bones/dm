{
 "cells": [
  {
   "cell_type": "code",
   "execution_count": 1,
   "metadata": {},
   "outputs": [
    {
     "name": "stdout",
     "output_type": "stream",
     "text": []
    },
    {
     "name": "stdout",
     "output_type": "stream",
     "text": [
      "\n"
     ]
    }
   ],
   "source": [
    "load tbone.core\n",
    "from tbone.core import ifTrue:ifFalse:, true, false, join, +, arrayJoin, toTxt"
   ]
  },
  {
   "cell_type": "markdown",
   "metadata": {},
   "source": [
    "### Inference with higher-order functions, parametric polymorphism and message-sending, aka overloads"
   ]
  },
  {
   "cell_type": "code",
   "execution_count": 2,
   "metadata": {
    "tags": []
   },
   "outputs": [
    {
     "name": "stdout",
     "output_type": "stream",
     "text": [
      "\n",
      "  2:  ((T1^T2 & T3^T4) * bool * T1 * T3) ^ T2+T4\n",
      "  3:  T1^T1\n",
      "  4:  litint+litdec+num+index ^ litint+litdec+num+index\n",
      "  5:  txt^txt & (litint+litdec+num+index ^ litint+litdec+num+index)\n",
      "  6:  litint+littxt\n",
      "  7:  litint+litdec+txt+num+index\n",
      "\n"
     ]
    }
   ],
   "source": [
    "%%types, norun\n",
    "hoo: {x ifTrue: f(y) ifFalse: f(z)}\n",
    "id: {x}\n",
    "addThree: {x + 1}\n",
    "addThree: {join(x, \"Three\")}\n",
    "hoo(id, true, 1, \"Two\")\n",
    "hoo(addThree, true, 1, \"Two\")"
   ]
  },
  {
   "cell_type": "markdown",
   "metadata": {},
   "source": [
    "#### Notation\n",
    "\n",
    "litint, litdec, num, index, txt, littxt are all primitive types\n",
    "\n",
    "T1, T2, T3, ... - type schema variables \\\n",
    "txt + T2 - union \\\n",
    "txt & isin - intersection \\\n",
    "int * txt - tuple, (int, txt)\\\n",
    "int ^ txt - function, int -> txt\n",
    "\n",
    "#### syntax\n",
    "{} - a function (undeclared arguments are assumed to be passed in dictionary order) \\\n",
    "fred: 1 - binds the name fred to 1 \\\n",
    "f(x, y) - the usual function application"
   ]
  },
  {
   "cell_type": "markdown",
   "metadata": {},
   "source": [
    "### Without unions this sort of problem requires rank-2 types\n",
    "\n",
    "For example see https://stackoverflow.com/questions/36587571/confusing-about-haskell-type-inference...\n",
    "\n",
    "> I have just started learning Haskell. As Haskell is static typed and has polymorphic type inference, the type of the identity function is\n",
    "> \n",
    "> ```\n",
    "> id :: a -> a\n",
    "> ```\n",
    "> <br>\n",
    "> \n",
    "> suggesting id can take any type as its parameter and return itself. It works fine when I try:\n",
    "> \n",
    "> ```\n",
    "> a = (id 1, id True)\n",
    "> ```\n",
    "> <br>\n",
    "> \n",
    "> I just suppose that at compile time, the first id is Num a :: a -> a, and the second id is Bool -> Bool. When I try the following code, it gives an error:\n",
    "> \n",
    "> ```\n",
    "> foo f a b = (f a, f b)\n",
    "> result = foo id 1 True\n",
    "> ```\n",
    "> <br>\n",
    "> \n",
    "> It shows the type of a must be the same type of b, since it works fine with\n",
    "> \n",
    "> ```\n",
    "> result = foo id 1 2\n",
    "> ```\n",
    "> <br>\n",
    "> \n",
    "> But is that true that the type of id's parameter can be polymorphic, so that a and b can be different type?\n",
    "\n",
    "<br>\n",
    "\n",
    "### More examples"
   ]
  },
  {
   "cell_type": "markdown",
   "metadata": {},
   "source": [
    "Passing _<:int+txt>_ into _addOne_"
   ]
  },
  {
   "cell_type": "code",
   "execution_count": 3,
   "metadata": {},
   "outputs": [
    {
     "name": "stdout",
     "output_type": "stream",
     "text": [
      "\n",
      "  2:  litint+littxt\n",
      "  3:  litint+litdec+num+index ^ litint+litdec+num+index\n",
      "\n"
     ]
    },
    {
     "name": "stderr",
     "output_type": "stream",
     "text": [
      "site: 4: addOne(b)\n",
      "arg1: b\n",
      "GrammarError: cannot constrain {littxt} <: t27 <: {} <: litint+litdec+num+index whilst constraining t27+t28 <: litint+litdec+num+index\n"
     ]
    }
   ],
   "source": [
    "%%types, norun\n",
    "b: (true ifTrue: \"1.0\" ifFalse: 1)\n",
    "addOne: {x + 1}\n",
    "addOne(b)"
   ]
  },
  {
   "cell_type": "markdown",
   "metadata": {},
   "source": [
    "_addOne_ doesn't yet handle _<:littxt>_ or _<:txt>_ so add an implementation that does"
   ]
  },
  {
   "cell_type": "code",
   "execution_count": 4,
   "metadata": {},
   "outputs": [
    {
     "name": "stdout",
     "output_type": "stream",
     "text": [
      "\n",
      "  2:  txt^txt & (litint+litdec+num+index ^ litint+litdec+num+index)\n",
      "  3:  litint+litdec+txt+num+index\n",
      "\n"
     ]
    }
   ],
   "source": [
    "%%types, norun\n",
    "addOne: {x join \"One\"}\n",
    "addOne(b)"
   ]
  },
  {
   "cell_type": "markdown",
   "metadata": {},
   "source": [
    "here toTxt can be passed for f"
   ]
  },
  {
   "cell_type": "code",
   "execution_count": 5,
   "metadata": {},
   "outputs": [
    {
     "name": "stdout",
     "output_type": "stream",
     "text": [
      "\n",
      "  2:  ((T1^txt & T2^txt) * T1 * T2) ^ txt\n",
      "  3:  txt\n",
      "\n"
     ]
    }
   ],
   "source": [
    "%%types, norun\n",
    "woo: {join(f(x), f(y))}\n",
    "woo(toTxt, 1, \"two\")"
   ]
  },
  {
   "cell_type": "markdown",
   "metadata": {},
   "source": [
    "but id cannot"
   ]
  },
  {
   "cell_type": "code",
   "execution_count": 6,
   "metadata": {},
   "outputs": [
    {
     "name": "stdout",
     "output_type": "stream",
     "text": [
      "\n",
      "\n"
     ]
    },
    {
     "name": "stderr",
     "output_type": "stream",
     "text": [
      "site: 2: woo(id, 1, \"two\")\n",
      "arg2: 1\n",
      "GrammarError: cannot constrain litint  <: txt\n"
     ]
    }
   ],
   "source": [
    "%%types, norun\n",
    "woo(id, 1, \"two\")"
   ]
  }
 ],
 "metadata": {
  "kernelspec": {
   "display_name": "bones",
   "language": "bones",
   "name": "bones"
  },
  "language_info": {
   "mimetype": "text/plain",
   "name": "multi_kernel"
  }
 },
 "nbformat": 4,
 "nbformat_minor": 4
}
