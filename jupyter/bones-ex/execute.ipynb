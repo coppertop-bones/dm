{
 "cells": [
  {
   "cell_type": "code",
   "execution_count": 1,
   "id": "727ea4b1-9d3e-4d9a-aff5-468af821f806",
   "metadata": {},
   "outputs": [
    {
     "name": "stdout",
     "output_type": "stream",
     "text": [
      "\n",
      "<litint:4>\n"
     ]
    }
   ],
   "source": [
    "load snibs.core\n",
    "from snibs.core import +, *, ifTrue:ifFalse:, true, false, ==, join\n",
    "x: 1 + 1               \n",
    "y: 2                  \n",
    "x * y"
   ]
  },
  {
   "cell_type": "code",
   "execution_count": 2,
   "id": "7159a480-0182-4c9a-80e5-478f9ec4e85f",
   "metadata": {},
   "outputs": [
    {
     "name": "stdout",
     "output_type": "stream",
     "text": [
      "\n",
      "<T1+T2:\"True\">\n"
     ]
    }
   ],
   "source": [
    "1 == 1 ifTrue: \"True\" ifFalse: 0"
   ]
  },
  {
   "cell_type": "code",
   "execution_count": 3,
   "id": "3c73d44c-14c5-4fdc-afd5-936498f84598",
   "metadata": {},
   "outputs": [
    {
     "name": "stdout",
     "output_type": "stream",
     "text": [
      "\n",
      "bfunc: {[x:txt] -> txt}\n"
     ]
    }
   ],
   "source": [
    "hoo: {x ifTrue: f(y) ifFalse: f(z)}\n",
    "id: {x}\n",
    "addThree: {x + 3}\n",
    "addThree: {join(x, \"Three\")}"
   ]
  },
  {
   "cell_type": "code",
   "execution_count": 4,
   "id": "201cbe1b-ae4e-4427-8176-79bdccc3791f",
   "metadata": {},
   "outputs": [
    {
     "name": "stdout",
     "output_type": "stream",
     "text": [
      "\n",
      "<T1+T2:1>\n"
     ]
    }
   ],
   "source": [
    "hoo(id, 1 == 1, 1, \"Two\")"
   ]
  },
  {
   "cell_type": "code",
   "execution_count": 5,
   "id": "45191381-e065-45e6-b743-00f1c6c3a0b1",
   "metadata": {},
   "outputs": [
    {
     "name": "stdout",
     "output_type": "stream",
     "text": [
      "\n",
      "<T1+T2:\"Two\">\n"
     ]
    }
   ],
   "source": [
    "hoo(id, 1 == 2, 1, \"Two\")"
   ]
  },
  {
   "cell_type": "code",
   "execution_count": 6,
   "id": "0c764584-e355-4bba-8155-96b5094be89d",
   "metadata": {},
   "outputs": [
    {
     "name": "stdout",
     "output_type": "stream",
     "text": [
      "\n",
      "<T1+T2:4>\n"
     ]
    }
   ],
   "source": [
    "hoo(addThree, 1 == 1, 1, \"Two\")"
   ]
  },
  {
   "cell_type": "code",
   "execution_count": 7,
   "id": "4f48ff2e-7c00-4163-93b3-a8007359847b",
   "metadata": {},
   "outputs": [
    {
     "name": "stdout",
     "output_type": "stream",
     "text": [
      "\n",
      "<T1+T2:\"Two\"\"Three\">\n"
     ]
    }
   ],
   "source": [
    "hoo(addThree, 1 == 2, 1, \"Two\")"
   ]
  },
  {
   "cell_type": "code",
   "execution_count": null,
   "id": "6f170065-9618-4470-80d4-eec4e7869b41",
   "metadata": {},
   "outputs": [],
   "source": []
  }
 ],
 "metadata": {
  "kernelspec": {
   "display_name": "bones",
   "language": "bones",
   "name": "bones"
  },
  "language_info": {
   "mimetype": "text/plain",
   "name": "multi_kernel"
  }
 },
 "nbformat": 4,
 "nbformat_minor": 5
}
