{
 "cells": [
  {
   "cell_type": "code",
   "execution_count": 1,
   "metadata": {
    "tags": []
   },
   "outputs": [],
   "source": [
    "from coppertop.pipe import *\n",
    "from dm.examples.cluedo.core import *\n",
    "from dm.examples.cluedo.algos import createBag, figureKnown, processResponses, processSuggestions, cluedo_bag\n",
    "from dm.examples.cluedo.reports import rep1\n",
    "from _ import PP"
   ]
  },
  {
   "cell_type": "code",
   "execution_count": 2,
   "metadata": {
    "tags": []
   },
   "outputs": [],
   "source": [
    "@coppertop\n",
    "def PP(bag:cluedo_bag) -> cluedo_bag:\n",
    "    bag.pad >> rep1(_, bag.handId) >> PP\n",
    "    return bag"
   ]
  },
  {
   "cell_type": "code",
   "execution_count": 3,
   "metadata": {
    "tags": []
   },
   "outputs": [
    {
     "name": "stdout",
     "output_type": "stream",
     "text": [
      "Orchid: 330 -> 204\n",
      "We know Peacock has {Or}\n",
      "We know Green has {Ba}\n",
      "Orchid: 204 -> 204\n",
      "1344000\n",
      "628250\n",
      "421150\n",
      "                                  Me          Gr          Or          Pe          \n",
      "Green              4    S1 92%       1  -          ? 43%       ? 43%    1  ? 5%   \n",
      "Mustard            3    S1 69%          -        1  -          ? 62%    1  ? 6%   \n",
      "Orchid           -                      -           -           -           X     \n",
      "Peacock            3    S1 49%          -          ? 43%    1  ? 6%         -     \n",
      "Plum               4       127%         -          ? 43%       ? 43%       ? 40%  \n",
      "Scarlet            2    S1 6%           -       1  ? 6%         -           -     \n",
      "----                                               \n",
      "Candlestick      -                      X           -           -           -     \n",
      "Dagger           -                      X           -           -           -     \n",
      "Lead Pipe        -                      X           -           -           -     \n",
      "Revolver           3    S1 69%       1  -        1  -          ? 62%    1  ? 6%   \n",
      "Rope               3    S2 44%          -          ? 43%    2  ? 0%         -     \n",
      "Wrench             2       40%       1  -           -           -          ? 40%  \n",
      "----                                               \n",
      "Ballroom         -                      -           X           -           -     \n",
      "Billiard Room      4       127%         -          ? 43%       ? 43%       ? 40%  \n",
      "Conservatory       2    S2 0%        1  -           -           -       2  ? 0%   \n",
      "Dining Room      -                      X           -           -           -     \n",
      "Hall               4       127%         -          ? 43%       ? 43%       ? 40%  \n",
      "Kitchen          -                      X           -           -           -     \n",
      "Library            4       127%         -          ? 43%       ? 43%       ? 40%  \n",
      "Lounge             4    S1 90%          -          ? 43%    1  ? 6%        ? 40%  \n",
      "Study              4       127%         -          ? 43%       ? 43%       ? 40%  \n"
     ]
    }
   ],
   "source": [
    "Me = Pl\n",
    "events = [\n",
    "\n",
    "    [Me, Gr, Re, Ba], [Gr, Ba],\n",
    "    [Gr, Mu, Re, Ki], Or - one,\n",
    "    [Or, Or, Ro, Lo], Pe - one,\n",
    "    [Pe, Gr, Da, Co], [Me, Da],\n",
    "\n",
    "    [Me, Or, Wr, Co], Gr, Or, [Pe, Or],\n",
    "    [Gr, Sc, Ca, Ki], Or, Pe, [Me, Ca],\n",
    "    [Or, Pe, Ro, Ba], Pe, Me, Gr - one,\n",
    "    [Pe, Mu, Re, Co], Me, Gr, Or - one,\n",
    "\n",
    "    #     [Me, Sc, Wr, Bi], [Gr, Bi],         # Sc, Wr, Co\n",
    "    #     [Gr, Sc, Le, Ba], Or, Pe, [Me, Le],\n",
    "\n",
    "    #     [Or, Pe, Re, Co], Pe, Me, Gr,   # won\n",
    "\n",
    "]\n",
    "\n",
    "like = {0 :100, 1 :10, 2 :5, 3 :0}\n",
    "bag = createBag(Me, [Ki, Di, Le, Da, Ca], {Gr: 5, Or: 4, Pe: 4}) \\\n",
    "      >> figureKnown >> events >> processResponses >> events >> processSuggestions(_, _, like) >> events\n",
    "bag >> PP;"
   ]
  },
  {
   "cell_type": "code",
   "execution_count": 4,
   "metadata": {
    "tags": []
   },
   "outputs": [
    {
     "name": "stdout",
     "output_type": "stream",
     "text": [
      "Orchid: 330 -> 204\n",
      "We know Peacock has {Or}\n",
      "We know Green has {Ba}\n",
      "Orchid: 204 -> 204\n",
      "1344000\n",
      "628250\n",
      "421150\n",
      "                                  Me          Gr          Or          Pe          \n",
      "Green              4    S1 92%       1  -          ? 43%       ? 43%    1  ? 5%   \n",
      "Mustard            3    S1 69%          -        1  -          ? 62%    1  ? 6%   \n",
      "Orchid           -                      -           -           -           X     \n",
      "Peacock            3    S1 49%          -          ? 43%    1  ? 6%         -     \n",
      "Plum               4       127%         -          ? 43%       ? 43%       ? 40%  \n",
      "Scarlet            2    S1 6%           -       1  ? 6%         -           -     \n",
      "----                                               \n",
      "Candlestick      -                      X           -           -           -     \n",
      "Dagger           -                      X           -           -           -     \n",
      "Lead Pipe        -                      X           -           -           -     \n",
      "Revolver           3    S1 69%       1  -        1  -          ? 62%    1  ? 6%   \n",
      "Rope               3    S2 44%          -          ? 43%    2  ? 0%         -     \n",
      "Wrench             2       40%       1  -           -           -          ? 40%  \n",
      "----                                               \n",
      "Ballroom         -                      -           X           -           -     \n",
      "Billiard Room      4       127%         -          ? 43%       ? 43%       ? 40%  \n",
      "Conservatory       2    S2 0%        1  -           -           -       2  ? 0%   \n",
      "Dining Room      -                      X           -           -           -     \n",
      "Hall               4       127%         -          ? 43%       ? 43%       ? 40%  \n",
      "Kitchen          -                      X           -           -           -     \n",
      "Library            4       127%         -          ? 43%       ? 43%       ? 40%  \n",
      "Lounge             4    S1 90%          -          ? 43%    1  ? 6%        ? 40%  \n",
      "Study              4       127%         -          ? 43%       ? 43%       ? 40%  \n"
     ]
    }
   ],
   "source": [
    "Me = Pl\n",
    "events = [\n",
    "    \n",
    "    [Me, Gr, Re, Ba], [Gr, Ba],\n",
    "    [Gr, Mu, Re, Ki], Or - one,\n",
    "    [Or, Or, Ro, Lo], Pe - one,\n",
    "    [Pe, Gr, Da, Co], [Me, Da],\n",
    "    \n",
    "    [Me, Or, Wr, Co], Gr, Or, [Pe, Or],\n",
    "    [Gr, Sc, Ca, Ki], Or, Pe, [Me, Ca],\n",
    "    [Or, Pe, Ro, Ba], Pe, Me, Gr - one,\n",
    "    [Pe, Mu, Re, Co], Me, Gr, Or - one,\n",
    "    \n",
    "#     [Me, Sc, Wr, Bi], [Gr, Bi],         # Sc, Wr, Co\n",
    "#     [Gr, Sc, Le, Ba], Or, Pe, [Me, Le],\n",
    "    \n",
    "#     [Or, Pe, Re, Co], Pe, Me, Gr,   # won\n",
    "    \n",
    "]\n",
    "\n",
    "like = {0:100, 1:10, 2:5, 3:0}\n",
    "bag = createBag(Me, [Ki, Di, Le, Da, Ca], {Gr: 5, Or: 4, Pe: 4}) \\\n",
    "    >> figureKnown >> events >> processResponses >> events >> processSuggestions(_, _, like) >> events\n",
    "bag >> PP;"
   ]
  },
  {
   "cell_type": "code",
   "execution_count": 5,
   "metadata": {
    "tags": []
   },
   "outputs": [
    {
     "name": "stdout",
     "output_type": "stream",
     "text": [
      "We know Orchid has {Ro}\n",
      "We know Green has {Bi}\n",
      "Green: 495 -> 285\n",
      "1536500\n",
      "686550\n",
      "7000\n",
      "                                  Me          Gr          Or          Pe          \n",
      "Green              2    S1 5%        1  -           -       1  ? 5%      1  -     \n",
      "Mustard            4       118%         -          ? 33%       ? 34%       ? 50%  \n",
      "Orchid           -                      X           -           -           -     \n",
      "Peacock            4       118%         -          ? 33%       ? 34%       ? 50%  \n",
      "Plum               2    S1 4%           -       1  ? 4%         -           -     \n",
      "Scarlet          -                      X           -           -           -     \n",
      "----                                               \n",
      "Candlestick      -                      X           -           -           -     \n",
      "Dagger             4       118%         -          ? 33%       ? 34%       ? 50%  \n",
      "Lead Pipe        -                      X           -           -           -     \n",
      "Revolver           3    S1 65%          -          ? 59%    1  ? 5%         -     \n",
      "Rope             -                      -           -           X           -     \n",
      "Wrench           -                      X           -           -           -     \n",
      "----                                               \n",
      "Ballroom           3       84%       1  -        1  -          ? 34%       ? 50%  \n",
      "Billiard Room    -                      -           X           -           -     \n",
      "Conservatory       2    S1 4%           -       1  ? 4%         -           -     \n",
      "Dining Room        3    S1 38%          -          ? 33%    1  ? 4%         -     \n",
      "Hall               3    S1 65%          -          ? 59%    1  ? 5%         -     \n",
      "Kitchen            4       118%         -          ? 33%       ? 34%       ? 50%  \n",
      "Library            4       118%         -          ? 33%       ? 34%       ? 50%  \n",
      "Lounge             4       118%         -          ? 33%       ? 34%       ? 50%  \n",
      "Study              4       118%         -          ? 33%       ? 34%       ? 50%  \n"
     ]
    }
   ],
   "source": [
    "Me = Pl\n",
    "events = [\n",
    "    \n",
    "    [Gr, Or, Ro, Ba], Or-one,\n",
    "    [Or, Or, Le, Di], Pe, [Me, Le],\n",
    "    [Pe, Gr, Ro, Bi], Me, Gr-one,\n",
    "    [Me, Gr, Ro, Ba], Gr, [Or, Ro],\n",
    "    [Or, Ro], \n",
    "    [Gr, Bi],\n",
    "    \n",
    "    [Gr, Pl, Wr, Co], Or, Pe, [Me, Wr],\n",
    "    [Or, Gr, Re, Ha], Pe, Me, Gr-one,\n",
    "#     [Pe, Pl, Wr, Co], [Me, Wr],\n",
    "#     [Me, Pl, Pl, Co], [Gr, Pl],\n",
    "    \n",
    "#     [Gr, Gr, Re, Di], Or-one,\n",
    "#     [Or, Gr, Re, Li], Pe, Me, Gr-one,\n",
    "#     [Pe, Pl, Ro, Lo], Me, Gr-one,\n",
    "#     [Gr, Ha],\n",
    "#     [Or, Di],\n",
    "#     [Gr, Li],\n",
    "#     [Me, Gr, Re, Co], Gr, Or, Pe\n",
    "    \n",
    "]\n",
    "\n",
    "like = {0:100, 1:10, 2:5, 3:0}\n",
    "# 60ms\n",
    "bag = createBag(Me, [Wr, Le, Ca, Sc, Or], {Gr: 5, Or: 4, Pe: 4}) \\\n",
    "    >> figureKnown >> events >> processResponses >> events >> processSuggestions(_, _, like) >> events\n",
    "bag >> PP;"
   ]
  },
  {
   "cell_type": "code",
   "execution_count": 6,
   "metadata": {
    "tags": []
   },
   "outputs": [
    {
     "name": "stdout",
     "output_type": "stream",
     "text": [
      "Peacock: 495 -> 285\n",
      "23380\n",
      "23625\n",
      "2048100\n",
      "                                  Me          Gr          Or          Pe          \n",
      "Green              4       94%          -          ? 24%       ? 38%       ? 31%  \n",
      "Mustard            4       94%          -          ? 24%       ? 38%       ? 31%  \n",
      "Orchid           -                      -           X           -           -     \n",
      "Peacock          -                      X           -           -           -     \n",
      "Plum             -                      -           X           -           -     \n",
      "Scarlet            4       94%          -          ? 24%       ? 38%       ? 31%  \n",
      "----                                               \n",
      "Candlestick        4       94%          -          ? 24%       ? 38%       ? 31%  \n",
      "Dagger           -                      X           -           -           -     \n",
      "Lead Pipe          3    S1 30%          -          ? 24%    1  ? 6%         -     \n",
      "Revolver           3    S1 61%          -       1  ? 3%         -          ? 58%  \n",
      "Rope               4    S2 63%       2  -          ? 24%       ? 38%    2  ? 0%   \n",
      "Wrench             4       94%          -          ? 24%       ? 38%       ? 31%  \n",
      "----                                               \n",
      "Ballroom           3    S1 30%       1  -          ? 24%    1  ? 6%         -     \n",
      "Billiard Room      4       94%       1  -          ? 24%       ? 38%       ? 31%  \n",
      "Conservatory     -                      X           -           -           -     \n",
      "Dining Room        4       94%          -          ? 24%       ? 38%       ? 31%  \n",
      "Hall             -                      X           -           -           -     \n",
      "Kitchen          -                      X           -           -           -     \n",
      "Library            3    S1 61%          -       1  ? 3%         -          ? 58%  \n",
      "Lounge             4       94%          -          ? 24%       ? 38%       ? 31%  \n",
      "Study              4       94%          -          ? 24%       ? 38%       ? 31%  \n"
     ]
    }
   ],
   "source": [
    "Me = Pl\n",
    "events = [\n",
    "    \n",
    "    [Pe, Pl, Ro, Ki], [Me, Ki],\n",
    "    [Me, Pl, Ro, Ba], [Gr, Pl],\n",
    "    [Gr, Pe, Re, Li], Or, Pe - one,\n",
    "    #Or low roll\n",
    "    \n",
    "    [Pe, Or, Ro, Co], [Me, Co],\n",
    "    [Me, Or, Ro, Bi], [Gr, Or],\n",
    "    #Gr low roll\n",
    "    [Or, Pe, Le, Ba], Pe, [Me, Pe],\n",
    "    \n",
    "#     [Pe, Mu, Le, Ba], Me, Gr, Or,\n",
    "    \n",
    "]\n",
    "\n",
    "like = {0:100, 1:10, 2:5, 3:0}\n",
    "bag = createBag(Me, [Ki, Ha, Co, Da, Pe], {Gr: 5, Or: 4, Pe: 4}) \\\n",
    "    >> figureKnown >> events >> processResponses >> events >> processSuggestions(_, _, like) >> events\n",
    "bag >> PP;"
   ]
  },
  {
   "cell_type": "code",
   "execution_count": 7,
   "metadata": {
    "tags": []
   },
   "outputs": [
    {
     "name": "stdout",
     "output_type": "stream",
     "text": [
      "350000\n",
      "350000\n",
      "70000\n",
      "                                  Me          Gr          Or          Pe          \n",
      "Green            X                      -           -           -           -     \n",
      "Mustard          -         100%         -          ? 42%       ? 42%       ? 14%  \n",
      "Orchid           -                      -           -           -           X     \n",
      "Peacock          -                      -           X           -           -     \n",
      "Plum             -         100%         -          ? 42%       ? 42%       ? 14%  \n",
      "Scarlet          -                      X           -           -           -     \n",
      "----                                               \n",
      "Candlestick      -         100%         -          ? 42%       ? 42%       ? 14%  \n",
      "Dagger           -                      X           -           -           -     \n",
      "Lead Pipe        -         100%         -          ? 42%       ? 42%       ? 14%  \n",
      "Revolver         X                      -           -           -           -     \n",
      "Rope             -         100%         -          ? 42%       ? 42%       ? 14%  \n",
      "Wrench           -                      X           -           -           -     \n",
      "----                                               \n",
      "Ballroom         -                      X           -           -           -     \n",
      "Billiard Room    -         100%         -          ? 42%       ? 42%       ? 14%  \n",
      "Conservatory     -         100%         -          ? 42%       ? 42%       ? 14%  \n",
      "Dining Room      -                      -           -           -           X     \n",
      "Hall             -                      -           -           -           X     \n",
      "Kitchen          -                      -           X           -           -     \n",
      "Library          -                      -           -           X           -     \n",
      "Lounge           X                      -           -           -           -     \n",
      "Study            -                      X           -           -           -     \n"
     ]
    }
   ],
   "source": [
    "# 3 Dec 2022\n",
    "Me = Pl\n",
    "events = [\n",
    "    \n",
    "    [Gr, Gr, Re, Ki], Or, Pe, Me,\n",
    "    [Or, Gr, Re, Ba], Pe, [Me, Ba],\n",
    "    [Pe, Gr, Re, Di], Me, Gr, Or,\n",
    "    [Me, Sc, Da, Li], Gr, [Or, Li],\n",
    "    \n",
    "    [Gr, Pe, Re, Lo], Or, Pe, Me,\n",
    "    [Or, Gr, Re, Li], Pe, Me, Gr,\n",
    "    [Pe, Or, Re, Lo], Me, Gr, Or,\n",
    "    [Me, Sc, Wr, Ha], Gr, Or, [Pe, Ha],\n",
    "]\n",
    "\n",
    "like = {0:100, 1:10, 2:5, 3:0}\n",
    "# 60ms\n",
    "bag = createBag(Me, [St, Ba, Wr, Da, Sc], {Gr: 5, Or: 4, Pe: 4}) \\\n",
    "    >> figureKnown >> events >> processResponses >> events >> processSuggestions(_, _, like) >> events\n",
    "bag >> PP;"
   ]
  },
  {
   "cell_type": "code",
   "execution_count": null,
   "metadata": {},
   "outputs": [],
   "source": []
  },
  {
   "cell_type": "code",
   "execution_count": null,
   "metadata": {},
   "outputs": [],
   "source": []
  },
  {
   "cell_type": "code",
   "execution_count": null,
   "metadata": {},
   "outputs": [],
   "source": []
  }
 ],
 "metadata": {
  "kernelspec": {
   "display_name": "Python 3 (ipykernel)",
   "language": "python",
   "name": "python3"
  },
  "language_info": {
   "codemirror_mode": {
    "name": "ipython",
    "version": 3
   },
   "file_extension": ".py",
   "mimetype": "text/x-python",
   "name": "python",
   "nbconvert_exporter": "python",
   "pygments_lexer": "ipython3",
   "version": "3.11.0"
  }
 },
 "nbformat": 4,
 "nbformat_minor": 4
}
