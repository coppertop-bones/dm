{
 "cells": [
  {
   "cell_type": "markdown",
   "metadata": {},
   "source": [
    "### Adding the handler to the kernel "
   ]
  },
  {
   "cell_type": "code",
   "execution_count": 1,
   "metadata": {},
   "outputs": [],
   "source": [
    "%%python\n",
    "def execute(kernel, src, *args):\n",
    "    # hello {fred, joe, sally}\n",
    "    src = src.strip()\n",
    "    if src[0:1] == '\"':\n",
    "        # handle \"David\" :me\n",
    "        raise NotImplementedError(\"literal strings not handled yet\")\n",
    "    elif src[0:1] == 'h':\n",
    "        try:\n",
    "            assert src[0:6] == \"hello \", \"not hello\"\n",
    "            assert src[6:].strip() in ['fred', 'joe', 'sally'], \"not fred, joe nor sally\"\n",
    "            return kernel.OK, [src[6:].strip() + ' says \"Hello\"']\n",
    "        except AssertionError as ex:\n",
    "            return kernel.ERROR, [ex.args[0]]\n",
    "    return kernel.ERROR, ['Unkown syntax']\n"
   ]
  },
  {
   "cell_type": "code",
   "execution_count": 2,
   "metadata": {},
   "outputs": [],
   "source": [
    "%%python\n",
    "class BonesHandler(object):\n",
    "    def parse(self, kernel, src, *args):\n",
    "        return kernel.OK, [src]\n",
    "\n",
    "handler = BonesHandler()\n",
    "handler.execute = execute\n",
    "_kernel.handlers['bones'] = handler\n",
    "_kernel.defaultHandler = 'bones'"
   ]
  },
  {
   "cell_type": "markdown",
   "metadata": {},
   "source": [
    "### Inspecting the parse result"
   ]
  },
  {
   "cell_type": "code",
   "execution_count": 3,
   "metadata": {},
   "outputs": [
    {
     "name": "stdout",
     "output_type": "stream",
     "text": [
      "[1] %%parse\n",
      "\n",
      "2 + 3 * 4\n",
      "\n",
      "[2] %%execute\n",
      "sally says \"Hello\"\n"
     ]
    }
   ],
   "source": [
    "%%parse\n",
    "2 + 3 * 4\n",
    "\n",
    "%%execute\n",
    "hello sally"
   ]
  },
  {
   "cell_type": "markdown",
   "metadata": {},
   "source": [
    "### Execution"
   ]
  },
  {
   "cell_type": "code",
   "execution_count": 4,
   "metadata": {},
   "outputs": [
    {
     "name": "stderr",
     "output_type": "stream",
     "text": [
      "not fred, joe nor sally\n"
     ]
    }
   ],
   "source": [
    "hello \n",
    "   freds,\n",
    "   joes,"
   ]
  },
  {
   "cell_type": "code",
   "execution_count": 5,
   "metadata": {},
   "outputs": [
    {
     "name": "stdout",
     "output_type": "stream",
     "text": []
    },
    {
     "name": "stdout",
     "output_type": "stream",
     "text": [
      "\n"
     ]
    },
    {
     "name": "stderr",
     "output_type": "stream",
     "text": [
      "Traceback (most recent call last):\n",
      "  File \"/Users/david/repos/github/DangerMouseB/coppertop-bones-demo/src/bones/ipykernel/bones_kernel.py\", line 313, in do_execute\n",
      "    outcome, values = handlerFn(self._groupHandler, *args)\n",
      "  File \"2:15\", line 7, in execute\n",
      "NotImplementedError: literal strings not handled yet\n"
     ]
    }
   ],
   "source": [
    "\"\""
   ]
  },
  {
   "cell_type": "code",
   "execution_count": 6,
   "metadata": {},
   "outputs": [
    {
     "name": "stderr",
     "output_type": "stream",
     "text": [
      "Unkown syntax\n"
     ]
    }
   ],
   "source": [
    "ugh"
   ]
  },
  {
   "cell_type": "code",
   "execution_count": 7,
   "metadata": {},
   "outputs": [
    {
     "name": "stdout",
     "output_type": "stream",
     "text": [
      "sally says \"Hello\"\n"
     ]
    }
   ],
   "source": [
    "hello sally"
   ]
  },
  {
   "cell_type": "code",
   "execution_count": 8,
   "metadata": {},
   "outputs": [
    {
     "name": "stderr",
     "output_type": "stream",
     "text": [
      "Unkown syntax\n"
     ]
    }
   ],
   "source": [
    "fred"
   ]
  },
  {
   "cell_type": "code",
   "execution_count": 9,
   "metadata": {},
   "outputs": [
    {
     "name": "stderr",
     "output_type": "stream",
     "text": [
      "Unkown syntax\n"
     ]
    }
   ],
   "source": [
    "1+1"
   ]
  },
  {
   "cell_type": "code",
   "execution_count": null,
   "metadata": {},
   "outputs": [],
   "source": []
  },
  {
   "cell_type": "code",
   "execution_count": null,
   "metadata": {},
   "outputs": [],
   "source": []
  }
 ],
 "metadata": {
  "kernelspec": {
   "display_name": "Python 3 (ipykernel)",
   "language": "python",
   "name": "python3"
  },
  "language_info": {
   "codemirror_mode": {
    "name": "ipython",
    "version": 3
   },
   "file_extension": ".py",
   "mimetype": "text/x-python",
   "name": "python",
   "nbconvert_exporter": "python",
   "pygments_lexer": "ipython3",
   "version": "3.11.0"
  }
 },
 "nbformat": 4,
 "nbformat_minor": 4
}
