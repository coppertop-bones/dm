{
 "cells": [
  {
   "cell_type": "markdown",
   "id": "98aa54f2-5e12-4046-aee3-86038a23eff3",
   "metadata": {},
   "source": [
    "import itertoolsSee https://rosettacode.org/wiki/Ordered_partitions#Python  - the 2nd algo"
   ]
  },
  {
   "cell_type": "code",
   "execution_count": 9,
   "id": "80c90d8b-f0bb-4d9d-8bdd-5265ace62bfc",
   "metadata": {
    "tags": []
   },
   "outputs": [],
   "source": [
    "import itertools\n",
    "\n",
    "from coppertop.pipe import *\n",
    "from dm.core.types import pylist, index\n",
    "from dm.testing import check, equals\n",
    "from dm.core import first, count, drop, collect, prependTo, join, joinAll, take, sum, unpack\n",
    "from dm.pp import PP"
   ]
  },
  {
   "cell_type": "code",
   "execution_count": 10,
   "id": "ec3931ad-b995-414e-ad0b-8382a93b6a09",
   "metadata": {
    "tags": []
   },
   "outputs": [],
   "source": [
    "def partitionsBruteForce(cards, handSizes):\n",
    "    slices = []\n",
    "    s1 = 0\n",
    "    for handSize in handSizes:\n",
    "        s2 = s1 + handSize\n",
    "        slices.append((s1, s2))\n",
    "        s1 = s2\n",
    "    perms = filter(\n",
    "        lambda perm: groupsInOrder(perm, slices),\n",
    "        itertools.permutations(cards, len(cards))\n",
    "    )\n",
    "    return tuple(perms)\n",
    "\n",
    "def groupsInOrder(xs, slices):\n",
    "    for s1, s2 in slices:\n",
    "        if not isAsc(xs[s1:s2]): return False\n",
    "    return True\n",
    "\n",
    "def isAsc(xs):\n",
    "    p = xs[0]\n",
    "    for n in xs[1:]:\n",
    "        if n <= p: return False\n",
    "        p = n\n",
    "    return True"
   ]
  },
  {
   "cell_type": "code",
   "execution_count": 11,
   "id": "be1da7ce-0f94-4076-a9c0-2993ea445b9f",
   "metadata": {
    "tags": []
   },
   "outputs": [
    {
     "data": {
      "text/plain": [
       "((1, 2, 3, 4, 5),\n",
       " (1, 3, 2, 4, 5),\n",
       " (1, 4, 2, 3, 5),\n",
       " (1, 5, 2, 3, 4),\n",
       " (2, 3, 1, 4, 5),\n",
       " (2, 4, 1, 3, 5),\n",
       " (2, 5, 1, 3, 4),\n",
       " (3, 4, 1, 2, 5),\n",
       " (3, 5, 1, 2, 4),\n",
       " (4, 5, 1, 2, 3))"
      ]
     },
     "execution_count": 11,
     "metadata": {},
     "output_type": "execute_result"
    }
   ],
   "source": [
    "partitionsBruteForce((1,2,3,4,5), (2,3))"
   ]
  },
  {
   "cell_type": "code",
   "execution_count": 12,
   "id": "b151c7a3-e836-4261-af23-bed2a2969780",
   "metadata": {
    "tags": []
   },
   "outputs": [],
   "source": [
    "# partitions :: [Int] -> [[[Int]]]\n",
    "def partitionsML(xs, sizes):\n",
    "    n = sum(sizes)\n",
    "\n",
    "    def go(xs, n, sizes):\n",
    "        return [\n",
    "            [l] + r\n",
    "            for (l, rest) in choose(xs)(n)(sizes[0])\n",
    "            for r in go(rest, n - sizes[0], sizes[1:])\n",
    "        ] if sizes else [[]]\n",
    "\n",
    "    return go(xs, n, sizes)\n",
    "\n",
    "\n",
    "# choose :: [Int] -> Int -> Int -> [([Int], [Int])]\n",
    "def choose(xs):\n",
    "    '''(m items chosen from n items, the rest)'''\n",
    "\n",
    "    def go(xs, n, m):\n",
    "        f = cons(xs[0])\n",
    "        choice = choose(xs[1:])(n - 1)\n",
    "        return [([], xs)] if 0 == m else (\n",
    "            [(xs, [])] if n == m else (\n",
    "                    [first(f)(xy) for xy in choice(m - 1)] +\n",
    "                    [second(f)(xy) for xy in choice(m)]\n",
    "            )\n",
    "        )\n",
    "\n",
    "    return lambda n: lambda m: go(xs, n, m)\n",
    "\n",
    "\n",
    "# cons :: a -> [a] -> [a]\n",
    "def cons(x):\n",
    "    '''Construction of a list from x as head, and xs as tail.'''\n",
    "    return lambda xs: [x] + xs\n",
    "\n",
    "\n",
    "# first :: (a -> b) -> ((a, c) -> (b, c))\n",
    "def first(f):\n",
    "    '''A simple function lifted to a function over a tuple, with f applied only the first of two values.'''\n",
    "    return lambda xy: (f(xy[0]), xy[1])\n",
    "\n",
    "\n",
    "# second :: (a -> b) -> ((c, a) -> (c, b))\n",
    "def second(f):\n",
    "    '''A simple function lifted to a function over a tuple, with f applied only the second of two values.'''\n",
    "    return lambda xy: (xy[0], f(xy[1]))"
   ]
  },
  {
   "cell_type": "code",
   "execution_count": 13,
   "id": "7cba3024-93b2-49a1-a22e-8d0862e3c674",
   "metadata": {
    "tags": []
   },
   "outputs": [
    {
     "data": {
      "text/plain": [
       "[[[1, 2], [3, 4, 5]],\n",
       " [[1, 3], [2, 4, 5]],\n",
       " [[1, 4], [2, 3, 5]],\n",
       " [[1, 5], [2, 3, 4]],\n",
       " [[2, 3], [1, 4, 5]],\n",
       " [[2, 4], [1, 3, 5]],\n",
       " [[2, 5], [1, 3, 4]],\n",
       " [[3, 4], [1, 2, 5]],\n",
       " [[3, 5], [1, 2, 4]],\n",
       " [[4, 5], [1, 2, 3]]]"
      ]
     },
     "execution_count": 13,
     "metadata": {},
     "output_type": "execute_result"
    }
   ],
   "source": [
    "partitionsML([1,2,3,4,5], (2,3))"
   ]
  },
  {
   "cell_type": "code",
   "execution_count": 14,
   "id": "92bda412-b869-486c-a775-4d2175a8df46",
   "metadata": {
    "tags": []
   },
   "outputs": [
    {
     "name": "stdout",
     "output_type": "stream",
     "text": [
      "90090\n",
      "90090\n",
      "90090\n",
      "90090\n",
      "90090\n",
      "90090\n",
      "90090\n",
      "90090\n",
      "330 ms ± 3.78 ms per loop (mean ± std. dev. of 7 runs, 1 loop each)\n"
     ]
    }
   ],
   "source": [
    "%timeit  partitionsML(list(range(13)), [5,4,4]) >> count >> PP"
   ]
  },
  {
   "cell_type": "code",
   "execution_count": 18,
   "id": "06c9ea33-693b-417d-8f5c-e1a8a031a14d",
   "metadata": {
    "tags": []
   },
   "outputs": [],
   "source": [
    "from dm.core import first"
   ]
  },
  {
   "cell_type": "code",
   "execution_count": 19,
   "id": "fcfbd56e-7596-474a-8611-697003ab7af8",
   "metadata": {
    "tags": []
   },
   "outputs": [],
   "source": [
    "@coppertop(style=binary)\n",
    "def takeDrop(xs, s):\n",
    "    return xs[:s], xs[s:]"
   ]
  },
  {
   "cell_type": "code",
   "execution_count": 20,
   "id": "f94d900b-39df-48a5-96dc-3ca5751a6671",
   "metadata": {
    "tags": []
   },
   "outputs": [],
   "source": [
    "@coppertop(style=binary)\n",
    "def partitionsCpt(es, sizes: pylist) -> pylist:\n",
    "    sizes >> sum >> check >> equals >> (es >> count)\n",
    "    return _partitionsCpt(list(es), es >> count, sizes)\n",
    "\n",
    "@coppertop\n",
    "def _partitionsCpt(es: pylist, n: index, sizes: pylist) -> pylist:\n",
    "    if not sizes: return [[]]\n",
    "    return es >> _combRestCpt(_, n, sizes >> first) \\\n",
    "        >> collect >> (unpack(lambda x, y:\n",
    "            _partitionsCpt(y, n - (sizes >> first), sizes >> drop >> 1)\n",
    "                >> collect >> (lambda partitions:\n",
    "                    x >> prependTo >> partitions\n",
    "                )\n",
    "        )) \\\n",
    "        >> joinAll\n",
    "\n",
    "@coppertop\n",
    "def _combRestCpt(es: pylist, n: index, m: index) -> pylist:\n",
    "    '''answer [m items chosen from n items, the rest]'''\n",
    "    if m == 0: return [([], es)]\n",
    "    if m == n: return [(es, [])]\n",
    "    s1, s2 = es >> takeDrop >> 1\n",
    "    return \\\n",
    "        (s2 >> _combRestCpt(_, n - 1, m - 1) >> collect >> unpack(lambda x, y: (s1 >> join >> x, y))) \\\n",
    "        >> join >> \\\n",
    "        (s2 >> _combRestCpt(_, n - 1, m) >> collect >> unpack(lambda x, y: (x, s1 >> join >> y)))"
   ]
  },
  {
   "cell_type": "code",
   "execution_count": 21,
   "id": "c9520366-f1ab-4fd2-929a-d092bb73f7c9",
   "metadata": {
    "tags": []
   },
   "outputs": [
    {
     "data": {
      "text/plain": [
       "[[[1, 2], [3, 4, 5]],\n",
       " [[1, 3], [2, 4, 5]],\n",
       " [[1, 4], [2, 3, 5]],\n",
       " [[1, 5], [2, 3, 4]],\n",
       " [[2, 3], [1, 4, 5]],\n",
       " [[2, 4], [1, 3, 5]],\n",
       " [[2, 5], [1, 3, 4]],\n",
       " [[3, 4], [1, 2, 5]],\n",
       " [[3, 5], [1, 2, 4]],\n",
       " [[4, 5], [1, 2, 3]]]"
      ]
     },
     "execution_count": 21,
     "metadata": {},
     "output_type": "execute_result"
    }
   ],
   "source": [
    "[1,2,3,4,5] >> partitionsCpt >> [2,3]"
   ]
  },
  {
   "cell_type": "code",
   "execution_count": 22,
   "id": "0698d45b-4a7a-413e-a47f-71e71ceb33a3",
   "metadata": {
    "tags": []
   },
   "outputs": [
    {
     "name": "stdout",
     "output_type": "stream",
     "text": [
      "90090\n",
      "90090\n",
      "90090\n",
      "90090\n",
      "90090\n",
      "90090\n",
      "90090\n",
      "90090\n",
      "5.11 s ± 54.5 ms per loop (mean ± std. dev. of 7 runs, 1 loop each)\n"
     ]
    }
   ],
   "source": [
    "%timeit range(13) >> partitionsCpt >> [5,4,4] >> count >> PP"
   ]
  },
  {
   "cell_type": "code",
   "execution_count": 23,
   "id": "039347e6-b67f-4476-9a2e-fea11b4606cb",
   "metadata": {
    "tags": []
   },
   "outputs": [],
   "source": [
    "@coppertop(style=binary)\n",
    "def partitionsCptFaster(xs, sizes: pylist) -> pylist:\n",
    "    sizes >> sum >> check >> equals >> (xs >> count)\n",
    "    return _partitionsCptFaster(list(xs), xs >> count, sizes)\n",
    "\n",
    "@coppertop\n",
    "def _partitionsCptFaster(xs: pylist, n: index, sizes: pylist) -> pylist:\n",
    "    if not sizes: return [[]]\n",
    "    return _combRestCptFaster(xs, n, sizes[0]) \\\n",
    "        >> collect >> (unpack(lambda comb, rest:\n",
    "            _partitionsCptFaster(rest, n - sizes[0], sizes[1:])\n",
    "                >> collect >> (lambda partitions:\n",
    "                    [comb] + partitions\n",
    "                )\n",
    "        )) \\\n",
    "        >> joinAll\n",
    "\n",
    "@coppertop\n",
    "def _combRestCptFaster(xs: pylist, n: index, m: index) -> pylist:\n",
    "    '''answer [m items chosen from n items, the rest]'''\n",
    "    if m == 0: return [([], xs)]\n",
    "    if m == n: return [(xs, [])]\n",
    "    s1, s2 = xs[:1], xs[1:]\n",
    "    return \\\n",
    "        (_combRestCptFaster(s2, n - 1, m - 1) >> collect >> (lambda xy: (s1 + xy[0], xy[1]))) + \\\n",
    "        (_combRestCptFaster(s2, n - 1, m) >> collect >> (lambda xy: (xy[0], s1 + xy[1])))\n"
   ]
  },
  {
   "cell_type": "code",
   "execution_count": 24,
   "id": "9577ccaa-ae7a-4f32-832a-511fb8ac579e",
   "metadata": {
    "tags": []
   },
   "outputs": [
    {
     "data": {
      "text/plain": [
       "[[[1, 2], [3, 4, 5]],\n",
       " [[1, 3], [2, 4, 5]],\n",
       " [[1, 4], [2, 3, 5]],\n",
       " [[1, 5], [2, 3, 4]],\n",
       " [[2, 3], [1, 4, 5]],\n",
       " [[2, 4], [1, 3, 5]],\n",
       " [[2, 5], [1, 3, 4]],\n",
       " [[3, 4], [1, 2, 5]],\n",
       " [[3, 5], [1, 2, 4]],\n",
       " [[4, 5], [1, 2, 3]]]"
      ]
     },
     "execution_count": 24,
     "metadata": {},
     "output_type": "execute_result"
    }
   ],
   "source": [
    "[1,2,3,4,5] >> partitionsCptFaster >> [2,3]"
   ]
  },
  {
   "cell_type": "code",
   "execution_count": 25,
   "id": "7696f40c-1ac2-483c-a9bb-86db5f4f4591",
   "metadata": {
    "tags": []
   },
   "outputs": [
    {
     "name": "stdout",
     "output_type": "stream",
     "text": [
      "90090\n",
      "90090\n",
      "90090\n",
      "90090\n",
      "90090\n",
      "90090\n",
      "90090\n",
      "90090\n",
      "2.61 s ± 19.1 ms per loop (mean ± std. dev. of 7 runs, 1 loop each)\n"
     ]
    }
   ],
   "source": [
    "%timeit range(13) >> partitionsCptFaster >> [5,4,4] >> count >> PP"
   ]
  },
  {
   "cell_type": "code",
   "execution_count": 26,
   "id": "962664e7-8d01-4440-bc80-705dc1762ea2",
   "metadata": {
    "tags": []
   },
   "outputs": [],
   "source": [
    "@coppertop(style=binary)\n",
    "def partitionsCptFasterStill(xs, sizes: pylist) -> pylist:\n",
    "    sizes >> sum >> check >> equals >> (xs >> count)\n",
    "    return _partitionsCptFasterStill(list(xs), xs >> count, sizes)\n",
    "\n",
    "def _partitionsCptFasterStill(xs: pylist, n: index, sizes: pylist) -> pylist:\n",
    "    if not sizes: return [[]]\n",
    "    return list(itertools.chain(*map(\n",
    "        lambda comb_rest: map(\n",
    "            lambda partitions: [comb_rest[0]] + partitions,\n",
    "            _partitionsCptFasterStill(comb_rest[1], n - sizes[0], sizes[1:])\n",
    "        ),\n",
    "        _combRestCptFasterStill(xs, n, sizes[0])\n",
    "    )))\n",
    "\n",
    "def _combRestCptFasterStill(xs: pylist, n: index, m: index) -> pylist:\n",
    "    '''answer [m items chosen from n items, the rest]'''\n",
    "    if m == 0: return [([], xs)]\n",
    "    if m == n: return [(xs, [])]\n",
    "    s1, s2 = xs[:1], xs[1:]\n",
    "    return list(itertools.chain(\n",
    "        map(lambda xy: (s1 + xy[0], xy[1]), _combRestCptFasterStill(s2, n - 1, m - 1)),\n",
    "        map(lambda xy: (xy[0], s1 + xy[1]), _combRestCptFasterStill(s2, n - 1, m))\n",
    "    ))"
   ]
  },
  {
   "cell_type": "code",
   "execution_count": 27,
   "id": "564d6e62-3f92-49b0-ad4d-412bb86daa06",
   "metadata": {
    "tags": []
   },
   "outputs": [
    {
     "data": {
      "text/plain": [
       "[[[1, 2], [3, 4, 5]],\n",
       " [[1, 3], [2, 4, 5]],\n",
       " [[1, 4], [2, 3, 5]],\n",
       " [[1, 5], [2, 3, 4]],\n",
       " [[2, 3], [1, 4, 5]],\n",
       " [[2, 4], [1, 3, 5]],\n",
       " [[2, 5], [1, 3, 4]],\n",
       " [[3, 4], [1, 2, 5]],\n",
       " [[3, 5], [1, 2, 4]],\n",
       " [[4, 5], [1, 2, 3]]]"
      ]
     },
     "execution_count": 27,
     "metadata": {},
     "output_type": "execute_result"
    }
   ],
   "source": [
    "[1,2,3,4,5] >> partitionsCptFasterStill >> [2,3]"
   ]
  },
  {
   "cell_type": "code",
   "execution_count": 29,
   "id": "5366ed3a-711d-48c9-b589-74c2a836c4ac",
   "metadata": {
    "tags": []
   },
   "outputs": [
    {
     "name": "stdout",
     "output_type": "stream",
     "text": [
      "90090\n",
      "90090\n",
      "90090\n",
      "90090\n",
      "90090\n",
      "90090\n",
      "90090\n",
      "90090\n",
      "200 ms ± 2.48 ms per loop (mean ± std. dev. of 7 runs, 1 loop each)\n"
     ]
    }
   ],
   "source": [
    "%timeit range(13) >> partitionsCptFasterStill >> [5,4,4] >> count >> PP"
   ]
  },
  {
   "cell_type": "code",
   "execution_count": null,
   "id": "09bc541a-ff45-4d5c-a4f0-064fbc5059d8",
   "metadata": {},
   "outputs": [],
   "source": []
  },
  {
   "cell_type": "markdown",
   "id": "e47fc8c9-592f-4fc4-8fd8-7ce78ba81b28",
   "metadata": {},
   "source": [
    "BONES\n",
    "\n",
    "```\n",
    "load dm.core\n",
    "from dm.core import sum, count, isEmpty, ifTrue:, collect, first, drop, prependTo, joinAll, takeDrop, join\n",
    "from dm.testing import check, equal\n",
    "\n",
    "partitions: {{[xs:N1**T1, sizes:N2**count] <:N**N2**N**T1>\n",
    "    sizes sum check equal (xs count)\n",
    "    xs _partitions(, xs count, sizes)\n",
    "}}\n",
    "\n",
    "_partitions: {[xs:N1**T1, n:count, sizes:N2**count] <:N**N2**N**T1>\n",
    "    sizes isEmpty ifTrue: [^ (())]\n",
    "    xs _combRest(, n, sizes first) collect {[a, b]\n",
    "        _partitions(b, .n - (.sizes first), .sizes drop 1) collect {\n",
    "            .a prependTo r\n",
    "        }\n",
    "    } joinAll\n",
    "}\n",
    "\n",
    "_combRest: {[xs:N**T1, n:count, m:count] <:N**(N**T1)*(N**T1)>\n",
    "    m == 0 ifTrue: [^ ( (() <:N**T1>, xs) )]\n",
    "    m == n ifTrue: [^ ( (xs, () <:N**T1>) )]\n",
    "    (comb, rest): xs takeDrop 1\n",
    "    rest _combRest(, s2 count, m - 1) collect { (.comb join a, b) }    // #1\n",
    "      join\n",
    "      (rest _combRest(, s2 count, m) collect { (a, .comb join b) })    // #2\n",
    "}\n",
    "```"
   ]
  }
 ],
 "metadata": {
  "kernelspec": {
   "display_name": "Python 3 (ipykernel)",
   "language": "python",
   "name": "python3"
  },
  "language_info": {
   "codemirror_mode": {
    "name": "ipython",
    "version": 3
   },
   "file_extension": ".py",
   "mimetype": "text/x-python",
   "name": "python",
   "nbconvert_exporter": "python",
   "pygments_lexer": "ipython3",
   "version": "3.11.0"
  }
 },
 "nbformat": 4,
 "nbformat_minor": 5
}
