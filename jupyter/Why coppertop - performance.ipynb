{
 "cells": [
  {
   "cell_type": "markdown",
   "id": "98aa54f2-5e12-4046-aee3-86038a23eff3",
   "metadata": {},
   "source": [
    "## Back of the envelope performance analysis\n",
    "\n",
    "We might expect coppertop to be slower than regular Python - every function call has to got through a complex dispatch \n",
    "process. It is slower. Here we explain where it is slower, how to mitigate that when it is an issue and even why that \n",
    "can be an advantage.\n",
    "\n",
    "<br>\n",
    "\n",
    "\n",
    "Firstly, some philosophical remarks from some old colleagues:\n",
    "\n",
    "Colin, an old colleague once said, Smalltalk is faster than other languages because I can write the code 5 times quicker,\n",
    "which leaves me 80% of the time to analyse it and make it faster. Smalltalk could call directly into the C-ABI which \n",
    "we used on a couple of occasions.\n",
    "\n",
    "To paraphrase another colleague, Neil - You have heard it said that \"Premature optimisation is the root of all evil\" but\n",
    "I say unto you that there are two forms of optimisation, course-grained and fine-grained, and fine we can leave til the \n",
    "end and only do if necessary.\n",
    "\n",
    "Fine-grained is about loops, tricks and dirty code to speed up identified bottle-necks (Smalltalk-80 had performance \n",
    "profiling tools back in the late 80s, early 90s and maybe earlier). It is fun to do, compelling even, but in general \n",
    "unnecessary, a waste of time, and destructive to code clarity.\n",
    "\n",
    "Course-grained is the optimisation that is done at an architectural level. Being architectural it must be done upfront \n",
    "to avoid unnecessary rework.\n",
    "\n",
    "See - https://dl.acm.org/ft_gateway.cfm?id=1513451&type=pdf - for a fuller discussion.\n",
    "\n",
    "\n",
    "<br>\n",
    "\n",
    "Below we take an example I needed a couple of years ago - partitioning a list into groups in all combinations. The algo\n",
    "has been solved on Rosetta Code - see https://rosettacode.org/wiki/Ordered_partitions#Python.\n",
    "\n",
    "We compare the naive Python implementation with an ML style one and several coppertop ones.\n",
    "\n",
    "Our presenting problem is creating the 90090 combinations from a list of 13 partitioned into groups of 5, 4 and 4 elements - \n",
    "all the possible starting hands of opponents in a four player game of Cludeo. I never had the patience to let the naive \n",
    "version run its course.\n",
    "\n",
    "<br>\n",
    "\n",
    "CONTENTS\n",
    "\n",
    "1 - brute force filtering itertool's permuations output \\\n",
    "2 - ML inspired \\\n",
    "3a - fred \\\n",
    "3b - "
   ]
  },
  {
   "cell_type": "code",
   "id": "80c90d8b-f0bb-4d9d-8bdd-5265ace62bfc",
   "metadata": {
    "tags": [],
    "ExecuteTime": {
     "end_time": "2025-05-27T07:49:40.383016Z",
     "start_time": "2025-05-27T07:49:39.975956Z"
    }
   },
   "source": [
    "import itertools\n",
    "\n",
    "from coppertop.pipe import *\n",
    "from dm.core.types import pylist, index\n",
    "from dm.testing import check, equals\n",
    "from dm.core import first, count, drop, collect, prependTo, join, joinAll, take, sum, unpack\n",
    "from dm.pp import PP"
   ],
   "outputs": [],
   "execution_count": 4
  },
  {
   "metadata": {},
   "cell_type": "markdown",
   "source": "BRUTE FORCE",
   "id": "a249e36550d95905"
  },
  {
   "cell_type": "code",
   "id": "ec3931ad-b995-414e-ad0b-8382a93b6a09",
   "metadata": {
    "tags": [],
    "ExecuteTime": {
     "end_time": "2025-05-27T07:49:41.965410Z",
     "start_time": "2025-05-27T07:49:41.961282Z"
    }
   },
   "source": [
    "def partitionsBruteForce(cards, handSizes):\n",
    "    slices = []\n",
    "    s1 = 0\n",
    "    for handSize in handSizes:\n",
    "        s2 = s1 + handSize\n",
    "        slices.append((s1, s2))\n",
    "        s1 = s2\n",
    "    perms = filter(\n",
    "        lambda perm: groupsInOrder(perm, slices),\n",
    "        itertools.permutations(cards, len(cards))\n",
    "    )\n",
    "    return tuple(perms)\n",
    "\n",
    "def groupsInOrder(xs, slices):\n",
    "    for s1, s2 in slices:\n",
    "        if not isAsc(xs[s1:s2]): return False\n",
    "    return True\n",
    "\n",
    "def isAsc(xs):\n",
    "    p = xs[0]\n",
    "    for n in xs[1:]:\n",
    "        if n <= p: return False\n",
    "        p = n\n",
    "    return True"
   ],
   "outputs": [],
   "execution_count": 5
  },
  {
   "cell_type": "code",
   "id": "be1da7ce-0f94-4076-a9c0-2993ea445b9f",
   "metadata": {
    "tags": [],
    "ExecuteTime": {
     "end_time": "2025-05-27T07:49:42.854862Z",
     "start_time": "2025-05-27T07:49:42.849433Z"
    }
   },
   "source": [
    "partitionsBruteForce((1,2,3,4,5), (2,3))"
   ],
   "outputs": [
    {
     "data": {
      "text/plain": [
       "((1, 2, 3, 4, 5),\n",
       " (1, 3, 2, 4, 5),\n",
       " (1, 4, 2, 3, 5),\n",
       " (1, 5, 2, 3, 4),\n",
       " (2, 3, 1, 4, 5),\n",
       " (2, 4, 1, 3, 5),\n",
       " (2, 5, 1, 3, 4),\n",
       " (3, 4, 1, 2, 5),\n",
       " (3, 5, 1, 2, 4),\n",
       " (4, 5, 1, 2, 3))"
      ]
     },
     "execution_count": 6,
     "metadata": {},
     "output_type": "execute_result"
    }
   ],
   "execution_count": 6
  },
  {
   "metadata": {
    "ExecuteTime": {
     "end_time": "2025-05-27T07:51:46.795001Z",
     "start_time": "2025-05-27T07:51:45.779272Z"
    }
   },
   "cell_type": "code",
   "source": "partitionsBruteForce(list(range(10)), [4,3,3]) >> count",
   "id": "f09c58e4fcd63765",
   "outputs": [
    {
     "data": {
      "text/plain": [
       "4200"
      ]
     },
     "execution_count": 13,
     "metadata": {},
     "output_type": "execute_result"
    }
   ],
   "execution_count": 13
  },
  {
   "metadata": {
    "ExecuteTime": {
     "end_time": "2025-05-27T07:51:29.565887Z",
     "start_time": "2025-05-27T07:51:22.192873Z"
    }
   },
   "cell_type": "code",
   "source": "%timeit  partitionsBruteForce(list(range(10)), [4,3,3]) >> count",
   "id": "de670507bc2a25a",
   "outputs": [
    {
     "name": "stdout",
     "output_type": "stream",
     "text": [
      "909 ms ± 5.31 ms per loop (mean ± std. dev. of 7 runs, 1 loop each)\n"
     ]
    }
   ],
   "execution_count": 12
  },
  {
   "metadata": {},
   "cell_type": "markdown",
   "source": "ML-STYLE",
   "id": "f5ea824f6fe45387"
  },
  {
   "cell_type": "code",
   "id": "b151c7a3-e836-4261-af23-bed2a2969780",
   "metadata": {
    "tags": [],
    "ExecuteTime": {
     "end_time": "2025-05-26T14:39:56.284003Z",
     "start_time": "2025-05-26T14:39:56.277604Z"
    }
   },
   "source": [
    "# partitions :: [Int] -> [[[Int]]]\n",
    "def partitionsML(xs, sizes):\n",
    "    n = sum(sizes)\n",
    "\n",
    "    def go(xs, n, sizes):\n",
    "        return [\n",
    "            [l] + r\n",
    "            for (l, rest) in choose(xs)(n)(sizes[0])\n",
    "            for r in go(rest, n - sizes[0], sizes[1:])\n",
    "        ] if sizes else [[]]\n",
    "\n",
    "    return go(xs, n, sizes)\n",
    "\n",
    "\n",
    "# choose :: [Int] -> Int -> Int -> [([Int], [Int])]\n",
    "def choose(xs):\n",
    "    '''(m items chosen from n items, the rest)'''\n",
    "\n",
    "    def go(xs, n, m):\n",
    "        f = cons(xs[0])\n",
    "        choice = choose(xs[1:])(n - 1)\n",
    "        return [([], xs)] if 0 == m else (\n",
    "            [(xs, [])] if n == m else (\n",
    "                    [first(f)(xy) for xy in choice(m - 1)] +\n",
    "                    [second(f)(xy) for xy in choice(m)]\n",
    "            )\n",
    "        )\n",
    "\n",
    "    return lambda n: lambda m: go(xs, n, m)\n",
    "\n",
    "\n",
    "# cons :: a -> [a] -> [a]\n",
    "def cons(x):\n",
    "    '''Construction of a list from x as head, and xs as tail.'''\n",
    "    return lambda xs: [x] + xs\n",
    "\n",
    "\n",
    "# first :: (a -> b) -> ((a, c) -> (b, c))\n",
    "def first(f):\n",
    "    '''A simple function lifted to a function over a tuple, with f applied only the first of two values.'''\n",
    "    return lambda xy: (f(xy[0]), xy[1])\n",
    "\n",
    "\n",
    "# second :: (a -> b) -> ((c, a) -> (c, b))\n",
    "def second(f):\n",
    "    '''A simple function lifted to a function over a tuple, with f applied only the second of two values.'''\n",
    "    return lambda xy: (xy[0], f(xy[1]))"
   ],
   "outputs": [],
   "execution_count": 4
  },
  {
   "cell_type": "code",
   "id": "7cba3024-93b2-49a1-a22e-8d0862e3c674",
   "metadata": {
    "tags": [],
    "ExecuteTime": {
     "end_time": "2025-05-26T14:39:58.669829Z",
     "start_time": "2025-05-26T14:39:58.663267Z"
    }
   },
   "source": [
    "partitionsML([1,2,3,4,5], (2,3))"
   ],
   "outputs": [
    {
     "data": {
      "text/plain": [
       "[[[1, 2], [3, 4, 5]],\n",
       " [[1, 3], [2, 4, 5]],\n",
       " [[1, 4], [2, 3, 5]],\n",
       " [[1, 5], [2, 3, 4]],\n",
       " [[2, 3], [1, 4, 5]],\n",
       " [[2, 4], [1, 3, 5]],\n",
       " [[2, 5], [1, 3, 4]],\n",
       " [[3, 4], [1, 2, 5]],\n",
       " [[3, 5], [1, 2, 4]],\n",
       " [[4, 5], [1, 2, 3]]]"
      ]
     },
     "execution_count": 5,
     "metadata": {},
     "output_type": "execute_result"
    }
   ],
   "execution_count": 5
  },
  {
   "cell_type": "code",
   "id": "92bda412-b869-486c-a775-4d2175a8df46",
   "metadata": {
    "tags": [],
    "ExecuteTime": {
     "end_time": "2025-05-26T14:40:02.470249Z",
     "start_time": "2025-05-26T14:39:59.762877Z"
    }
   },
   "source": [
    "%timeit  partitionsML(list(range(13)), [5,4,4]) >> count >> PP"
   ],
   "outputs": [
    {
     "name": "stdout",
     "output_type": "stream",
     "text": [
      "90090\n",
      "90090\n",
      "90090\n",
      "90090\n",
      "90090\n",
      "90090\n",
      "90090\n",
      "90090\n",
      "331 ms ± 2.09 ms per loop (mean ± std. dev. of 7 runs, 1 loop each)\n"
     ]
    }
   ],
   "execution_count": 6
  },
  {
   "metadata": {},
   "cell_type": "markdown",
   "source": "COPPERTOP-V1",
   "id": "32cb81ecba4b6da"
  },
  {
   "cell_type": "code",
   "id": "06c9ea33-693b-417d-8f5c-e1a8a031a14d",
   "metadata": {
    "tags": [],
    "ExecuteTime": {
     "end_time": "2025-05-26T14:40:04.038956Z",
     "start_time": "2025-05-26T14:40:04.035728Z"
    }
   },
   "source": [
    "from dm.core import first"
   ],
   "outputs": [],
   "execution_count": 7
  },
  {
   "cell_type": "code",
   "id": "fcfbd56e-7596-474a-8611-697003ab7af8",
   "metadata": {
    "tags": [],
    "ExecuteTime": {
     "end_time": "2025-05-26T14:40:05.134245Z",
     "start_time": "2025-05-26T14:40:05.130735Z"
    }
   },
   "source": [
    "@coppertop(style=binary)\n",
    "def takeDrop(xs, s):\n",
    "    return xs[:s], xs[s:]"
   ],
   "outputs": [],
   "execution_count": 8
  },
  {
   "cell_type": "code",
   "id": "f94d900b-39df-48a5-96dc-3ca5751a6671",
   "metadata": {
    "tags": [],
    "ExecuteTime": {
     "end_time": "2025-05-26T14:40:06.606984Z",
     "start_time": "2025-05-26T14:40:06.599743Z"
    }
   },
   "source": [
    "@coppertop(style=binary)\n",
    "def partitionsCpt(xs, sizes: pylist) -> pylist:\n",
    "    sizes >> sum >> check >> equals >> (xs >> count)\n",
    "    return _partitionsCpt(list(xs), xs >> count, sizes)\n",
    "\n",
    "@coppertop\n",
    "def _partitionsCpt(xs: pylist, n: index, sizes: pylist) -> pylist:\n",
    "    if sizes:\n",
    "        return xs >> _combRestCpt(_, n, sizes >> first) \\\n",
    "            >> collect >> (unpack(lambda x, y:\n",
    "                _partitionsCpt(y, n - (sizes >> first), sizes >> drop >> 1)\n",
    "                    >> collect >> (lambda partitions:\n",
    "                        x >> prependTo >> partitions\n",
    "                    )\n",
    "            )) \\\n",
    "            >> joinAll\n",
    "    else:\n",
    "        return [[]]\n",
    "\n",
    "@coppertop\n",
    "def _combRestCpt(xs: pylist, n: index, m: index) -> pylist:\n",
    "    '''answer [m items chosen from n items, the rest]'''\n",
    "    if m == 0: \n",
    "        return [([], xs)]\n",
    "    elif m == n: \n",
    "        return [(xs, [])]\n",
    "    else:\n",
    "        s1, s2 = xs >> takeDrop >> 1\n",
    "        return \\\n",
    "            (s2 >> _combRestCpt(_, n - 1, m - 1) >> collect >> unpack(lambda x, y: (s1 >> join >> x, y))) \\\n",
    "            >> join >> \\\n",
    "            (s2 >> _combRestCpt(_, n - 1, m) >> collect >> unpack(lambda x, y: (x, s1 >> join >> y)))"
   ],
   "outputs": [],
   "execution_count": 9
  },
  {
   "cell_type": "code",
   "id": "c9520366-f1ab-4fd2-929a-d092bb73f7c9",
   "metadata": {
    "tags": [],
    "ExecuteTime": {
     "end_time": "2025-05-26T14:40:07.944422Z",
     "start_time": "2025-05-26T14:40:07.936805Z"
    }
   },
   "source": [
    "[1,2,3,4,5] >> partitionsCpt >> [2,3]"
   ],
   "outputs": [
    {
     "data": {
      "text/plain": [
       "[[[1, 2], [3, 4, 5]],\n",
       " [[1, 3], [2, 4, 5]],\n",
       " [[1, 4], [2, 3, 5]],\n",
       " [[1, 5], [2, 3, 4]],\n",
       " [[2, 3], [1, 4, 5]],\n",
       " [[2, 4], [1, 3, 5]],\n",
       " [[2, 5], [1, 3, 4]],\n",
       " [[3, 4], [1, 2, 5]],\n",
       " [[3, 5], [1, 2, 4]],\n",
       " [[4, 5], [1, 2, 3]]]"
      ]
     },
     "execution_count": 10,
     "metadata": {},
     "output_type": "execute_result"
    }
   ],
   "execution_count": 10
  },
  {
   "cell_type": "code",
   "id": "0698d45b-4a7a-413e-a47f-71e71ceb33a3",
   "metadata": {
    "tags": [],
    "ExecuteTime": {
     "end_time": "2025-05-26T14:41:04.084425Z",
     "start_time": "2025-05-26T14:40:09.316884Z"
    }
   },
   "source": [
    "%timeit range(13) >> partitionsCpt >> [5,4,4] >> count >> PP"
   ],
   "outputs": [
    {
     "name": "stdout",
     "output_type": "stream",
     "text": [
      "90090\n",
      "90090\n",
      "90090\n",
      "90090\n",
      "90090\n",
      "90090\n",
      "90090\n",
      "90090\n",
      "6.86 s ± 84.5 ms per loop (mean ± std. dev. of 7 runs, 1 loop each)\n"
     ]
    }
   ],
   "execution_count": 11
  },
  {
   "metadata": {},
   "cell_type": "markdown",
   "source": "",
   "id": "39053d496e7247fc"
  },
  {
   "metadata": {},
   "cell_type": "markdown",
   "source": "COPPERTOP-V2",
   "id": "3547d61d5efdf3ec"
  },
  {
   "cell_type": "code",
   "id": "039347e6-b67f-4476-9a2e-fea11b4606cb",
   "metadata": {
    "tags": [],
    "ExecuteTime": {
     "end_time": "2025-05-26T14:41:06.859877Z",
     "start_time": "2025-05-26T14:41:06.852398Z"
    }
   },
   "source": [
    "@coppertop(style=binary)\n",
    "def partitionsCptFaster(xs, sizes: pylist) -> pylist:\n",
    "    sizes >> sum >> check >> equals >> (xs >> count)\n",
    "    return _partitionsCptFaster(list(xs), xs >> count, sizes)\n",
    "\n",
    "@coppertop\n",
    "def _partitionsCptFaster(xs: pylist, n: index, sizes: pylist) -> pylist:\n",
    "    if not sizes: return [[]]\n",
    "    return _combRestCptFaster(xs, n, sizes[0]) \\\n",
    "        >> collect >> (unpack(lambda comb, rest:\n",
    "            _partitionsCptFaster(rest, n - sizes[0], sizes[1:])\n",
    "                >> collect >> (lambda partitions:\n",
    "                    [comb] + partitions\n",
    "                )\n",
    "        )) \\\n",
    "        >> joinAll\n",
    "\n",
    "@coppertop\n",
    "def _combRestCptFaster(xs: pylist, n: index, m: index) -> pylist:\n",
    "    '''answer [m items chosen from n items, the rest]'''\n",
    "    if m == 0: return [([], xs)]\n",
    "    if m == n: return [(xs, [])]\n",
    "    s1, s2 = xs[:1], xs[1:]\n",
    "    return \\\n",
    "        (_combRestCptFaster(s2, n - 1, m - 1) >> collect >> (lambda xy: (s1 + xy[0], xy[1]))) + \\\n",
    "        (_combRestCptFaster(s2, n - 1, m) >> collect >> (lambda xy: (xy[0], s1 + xy[1])))\n"
   ],
   "outputs": [],
   "execution_count": 12
  },
  {
   "cell_type": "code",
   "id": "9577ccaa-ae7a-4f32-832a-511fb8ac579e",
   "metadata": {
    "tags": [],
    "ExecuteTime": {
     "end_time": "2025-05-26T14:41:20.120636Z",
     "start_time": "2025-05-26T14:41:20.114158Z"
    }
   },
   "source": [
    "[1,2,3,4,5] >> partitionsCptFaster >> [2,3]"
   ],
   "outputs": [
    {
     "data": {
      "text/plain": [
       "[[[1, 2], [3, 4, 5]],\n",
       " [[1, 3], [2, 4, 5]],\n",
       " [[1, 4], [2, 3, 5]],\n",
       " [[1, 5], [2, 3, 4]],\n",
       " [[2, 3], [1, 4, 5]],\n",
       " [[2, 4], [1, 3, 5]],\n",
       " [[2, 5], [1, 3, 4]],\n",
       " [[3, 4], [1, 2, 5]],\n",
       " [[3, 5], [1, 2, 4]],\n",
       " [[4, 5], [1, 2, 3]]]"
      ]
     },
     "execution_count": 13,
     "metadata": {},
     "output_type": "execute_result"
    }
   ],
   "execution_count": 13
  },
  {
   "cell_type": "code",
   "id": "7696f40c-1ac2-483c-a9bb-86db5f4f4591",
   "metadata": {
    "tags": [],
    "ExecuteTime": {
     "end_time": "2025-05-26T14:41:50.423305Z",
     "start_time": "2025-05-26T14:41:23.760727Z"
    }
   },
   "source": [
    "%timeit range(13) >> partitionsCptFaster >> [5,4,4] >> count >> PP"
   ],
   "outputs": [
    {
     "name": "stdout",
     "output_type": "stream",
     "text": [
      "90090\n",
      "90090\n",
      "90090\n",
      "90090\n",
      "90090\n",
      "90090\n",
      "90090\n",
      "90090\n",
      "3.33 s ± 22.2 ms per loop (mean ± std. dev. of 7 runs, 1 loop each)\n"
     ]
    }
   ],
   "execution_count": 14
  },
  {
   "metadata": {},
   "cell_type": "markdown",
   "source": "COPPERTOP-V3",
   "id": "7bd77a319764cbda"
  },
  {
   "cell_type": "code",
   "id": "962664e7-8d01-4440-bc80-705dc1762ea2",
   "metadata": {
    "tags": [],
    "ExecuteTime": {
     "end_time": "2025-05-26T14:42:01.708608Z",
     "start_time": "2025-05-26T14:42:01.701014Z"
    }
   },
   "source": [
    "@coppertop(style=binary)\n",
    "def partitionsCptFasterStill(xs, sizes: pylist) -> pylist:\n",
    "    sizes >> sum >> check >> equals >> (xs >> count)\n",
    "    return _partitionsCptFasterStill(list(xs), xs >> count, sizes)\n",
    "\n",
    "def _partitionsCptFasterStill(xs: pylist, n: index, sizes: pylist) -> pylist:\n",
    "    if not sizes: return [[]]\n",
    "    return list(itertools.chain(*map(\n",
    "        lambda comb_rest: map(\n",
    "            lambda partitions: [comb_rest[0]] + partitions,\n",
    "            _partitionsCptFasterStill(comb_rest[1], n - sizes[0], sizes[1:])\n",
    "        ),\n",
    "        _combRestCptFasterStill(xs, n, sizes[0])\n",
    "    )))\n",
    "\n",
    "def _combRestCptFasterStill(xs: pylist, n: index, m: index) -> pylist:\n",
    "    '''answer [m items chosen from n items, the rest]'''\n",
    "    if m == 0: return [([], xs)]\n",
    "    if m == n: return [(xs, [])]\n",
    "    s1, s2 = xs[:1], xs[1:]\n",
    "    return list(itertools.chain(\n",
    "        map(lambda xy: (s1 + xy[0], xy[1]), _combRestCptFasterStill(s2, n - 1, m - 1)),\n",
    "        map(lambda xy: (xy[0], s1 + xy[1]), _combRestCptFasterStill(s2, n - 1, m))\n",
    "    ))"
   ],
   "outputs": [],
   "execution_count": 15
  },
  {
   "cell_type": "code",
   "id": "564d6e62-3f92-49b0-ad4d-412bb86daa06",
   "metadata": {
    "tags": [],
    "ExecuteTime": {
     "end_time": "2025-05-26T14:42:03.111286Z",
     "start_time": "2025-05-26T14:42:03.105596Z"
    }
   },
   "source": [
    "[1,2,3,4,5] >> partitionsCptFasterStill >> [2,3]"
   ],
   "outputs": [
    {
     "data": {
      "text/plain": [
       "[[[1, 2], [3, 4, 5]],\n",
       " [[1, 3], [2, 4, 5]],\n",
       " [[1, 4], [2, 3, 5]],\n",
       " [[1, 5], [2, 3, 4]],\n",
       " [[2, 3], [1, 4, 5]],\n",
       " [[2, 4], [1, 3, 5]],\n",
       " [[2, 5], [1, 3, 4]],\n",
       " [[3, 4], [1, 2, 5]],\n",
       " [[3, 5], [1, 2, 4]],\n",
       " [[4, 5], [1, 2, 3]]]"
      ]
     },
     "execution_count": 16,
     "metadata": {},
     "output_type": "execute_result"
    }
   ],
   "execution_count": 16
  },
  {
   "cell_type": "code",
   "id": "5366ed3a-711d-48c9-b589-74c2a836c4ac",
   "metadata": {
    "tags": [],
    "ExecuteTime": {
     "end_time": "2025-05-26T14:42:05.926903Z",
     "start_time": "2025-05-26T14:42:04.289034Z"
    }
   },
   "source": [
    "%timeit range(13) >> partitionsCptFasterStill >> [5,4,4] >> count >> PP"
   ],
   "outputs": [
    {
     "name": "stdout",
     "output_type": "stream",
     "text": [
      "90090\n",
      "90090\n",
      "90090\n",
      "90090\n",
      "90090\n",
      "90090\n",
      "90090\n",
      "90090\n",
      "202 ms ± 4.71 ms per loop (mean ± std. dev. of 7 runs, 1 loop each)\n"
     ]
    }
   ],
   "execution_count": 17
  },
  {
   "metadata": {},
   "cell_type": "markdown",
   "source": [
    "From a pytest run:\n",
    "```\n",
    "test_cp_1.py took 3581.21575 ms\n",
    "test_cp_2.py took 1793.398834 ms\n",
    "test_cp_3.py took 490.383291 ms\n",
    "test_cp_4.py took 3597.319334 ms\n",
    "test_cp_5.py took 1266.624375 ms\n",
    "test_cp_6.py took 677.777916 ms\n",
    "test_cp_7.py took 6319.097166 ms\n",
    "test_ml_style.py took 401.368209 ms\n",
    "```\n"
   ],
   "id": "dbf3d04c417db500"
  },
  {
   "cell_type": "markdown",
   "id": "e47fc8c9-592f-4fc4-8fd8-7ce78ba81b28",
   "metadata": {},
   "source": [
    "BONES\n",
    "\n",
    "```\n",
    "load dm.core\n",
    "from dm.core import sum, count, isEmpty, ifTrue:, collect, first, drop, prependTo, joinAll, takeDrop, join\n",
    "from dm.testing import check, equal\n",
    "\n",
    "partitions: {{[xs:N1**T1, sizes:N2**count] <:N**N2**N**T1>\n",
    "    sizes sum check equal (xs count)\n",
    "    xs _partitions(, xs count, sizes)\n",
    "}}\n",
    "\n",
    "_partitions: {[xs:N1**T1, n:count, sizes:N2**count] <:N**N2**N**T1>\n",
    "    sizes isEmpty ifTrue: [^ (())]\n",
    "    xs _combRest(, n, sizes first) collect {[a, b]\n",
    "        _partitions(b, .n - (.sizes first), .sizes drop 1) collect {\n",
    "            .a prependTo r\n",
    "        }\n",
    "    } joinAll\n",
    "}\n",
    "\n",
    "_combRest: {[xs:N**T1, n:count, m:count] <:N**(N**T1)*(N**T1)>\n",
    "    m == 0 ifTrue: [^ ( (() <:N**T1>, xs) )]\n",
    "    m == n ifTrue: [^ ( (xs, () <:N**T1>) )]\n",
    "    (comb, rest): xs takeDrop 1\n",
    "    rest _combRest(, s2 count, m - 1) collect { (.comb join a, b) }    // #1\n",
    "      join\n",
    "      (rest _combRest(, s2 count, m) collect { (a, .comb join b) })    // #2\n",
    "}\n",
    "```"
   ]
  },
  {
   "metadata": {},
   "cell_type": "markdown",
   "source": [
    "CONCLUSION\n",
    "\n",
    "It is hard writing fast code in python for this problem (one range / itertool based solution was 16x slower than the base ML style!\n",
    "\n",
    "Removing dispatch and type checking - coppertop is 1.7x slower than the ML version.\n",
    "\n",
    "My fastest itertools version is, depending on arguments, 30% faster to 20% slower than the list based ML version.\n",
    "\n",
    "My unoptimised coppertop version is 8x slower than the ML version.\n",
    "\n",
    "\n",
    "\n"
   ],
   "id": "7656c18612f3d774"
  },
  {
   "metadata": {},
   "cell_type": "markdown",
   "source": [
    "WHY?\n",
    "\n",
    "Coppertop dispatch is written in Python. At its best the C piping code has to the overhead of the pipe plus the \n",
    "call into the free function. Nullary, unary and binary functions called in Fortran style should be called as fast \n",
    "as a regular python function. However, additional function calls is required for missing argument.\n",
    "\n",
    "```\n",
    "1 arg\n",
    "f(x)            - 1 call\n",
    "x >> f          - 1 call\n",
    "\n",
    "2 args\n",
    "f(x, y)         - 1 call\n",
    "x >> f(_, y)    - 2 calls\n",
    "x >> f >> y     - 2 calls\n",
    "\n",
    "3 args\n",
    "f(x, y, z)                          - 1 call\n",
    "x >> f(_, y, z)                     - 2 calls\n",
    "x >> f(_, _, z) >> y                - 3 calls\n",
    "x >> f >> y >> z                    - 3 calls\n",
    "\n",
    "4 or more args\n",
    "x >> f(_, _, _, fred) >> y >> z     - 4 calls\n",
    "```\n",
    "\n",
    "calling methods is slower than calling free functions -  performance to be analysed\n",
    "\n",
    "lambdas are 2-3x slower than free functions\n",
    "\n",
    "As the dispatch is moved into C there will be less need to remove type based dispatch for tight loops.\n",
    "\n",
    "Coppertop can't go faster than Python however it is competitive with lambdas, closures and classes. However it \n",
    "is much more productive to code with.\n",
    "\n"
   ],
   "id": "fb6f82456fe6161f"
  },
  {
   "metadata": {},
   "cell_type": "code",
   "outputs": [],
   "execution_count": null,
   "source": "",
   "id": "52a3e4e06385284a"
  }
 ],
 "metadata": {
  "kernelspec": {
   "display_name": "Python 3 (ipykernel)",
   "language": "python",
   "name": "python3"
  },
  "language_info": {
   "codemirror_mode": {
    "name": "ipython",
    "version": 3
   },
   "file_extension": ".py",
   "mimetype": "text/x-python",
   "name": "python",
   "nbconvert_exporter": "python",
   "pygments_lexer": "ipython3",
   "version": "3.11.0"
  }
 },
 "nbformat": 4,
 "nbformat_minor": 5
}
